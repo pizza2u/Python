{
 "cells": [
  {
   "cell_type": "markdown",
   "metadata": {},
   "source": [
    "### Uma biblioteca inútil porém divertida!\n",
    "\n",
    "Biblioteca Cowsay são usadas para criação de animais “falantes” em arte ASCII em Python"
   ]
  },
  {
   "cell_type": "markdown",
   "metadata": {},
   "source": [
    "- Instalação"
   ]
  },
  {
   "cell_type": "code",
   "execution_count": 1,
   "metadata": {},
   "outputs": [
    {
     "name": "stdout",
     "output_type": "stream",
     "text": [
      "Collecting python-cowsay\n",
      "  Downloading python_cowsay-1.2.0-py3-none-any.whl.metadata (8.2 kB)\n",
      "Downloading python_cowsay-1.2.0-py3-none-any.whl (26 kB)\n",
      "Installing collected packages: python-cowsay\n",
      "Successfully installed python-cowsay-1.2.0\n",
      "Note: you may need to restart the kernel to use updated packages.\n"
     ]
    }
   ],
   "source": [
    "pip install python-cowsay"
   ]
  },
  {
   "cell_type": "markdown",
   "metadata": {},
   "source": [
    "-  O texto clássico de cowsay pode ser gerado pelas funções cowsay ou cowthink :"
   ]
  },
  {
   "cell_type": "code",
   "execution_count": 2,
   "metadata": {},
   "outputs": [
    {
     "name": "stdout",
     "output_type": "stream",
     "text": [
      "　＿＿＿＿＿＿＿＿＿＿＿　\n",
      "＜　Ｏｌá　ｍｕｎｄｏ　＞\n",
      "　－－－－－－－－－－－　\n",
      "        \\   ^__^\n",
      "         \\  (oo)\\_______\n",
      "            (__)\\       )\\/\\\n",
      "                ||----w |\n",
      "                ||     ||\n"
     ]
    }
   ],
   "source": [
    "from cowsay import cowsay\n",
    "\n",
    "message = \"\"\"\n",
    "Olá mundo\n",
    "\"\"\".strip()\n",
    "print(cowsay(message))"
   ]
  },
  {
   "cell_type": "markdown",
   "metadata": {},
   "source": [
    "Os parâmetros para essas funções são:\n",
    "\n",
    "message – uma string para envolver no balão de texto\n",
    "\n",
    "cow='default' – o nome da vaca (nomes válidos de list_cows)\n",
    "\n",
    "preset=None – as predefinições originais do cowsay:-bgpstwy\n",
    "\n",
    "eyes=Option.eyes – Um cordão de olho personalizado\n",
    "\n",
    "tongue=Option.tongue – Um cordão de língua personalizado\n",
    "\n",
    "width=40 – A largura do balão de texto\n",
    "\n",
    "wrap_text=True – Se o texto deve ser colocado no balão\n",
    "\n",
    "cowfile=None – Uma string personalizada representando uma vaca"
   ]
  },
  {
   "cell_type": "markdown",
   "metadata": {},
   "source": [
    "-  Outras funções:\n",
    "As vacas incorporadas disponíveis podem ser encontradas em list_cows. Uma vaca pode ser escolhida aleatoriamente nesta lista com get_random_cow."
   ]
  },
  {
   "cell_type": "code",
   "execution_count": 15,
   "metadata": {},
   "outputs": [
    {
     "name": "stdout",
     "output_type": "stream",
     "text": [
      "　＿＿＿＿＿＿＿＿＿＿＿　\n",
      "（　Ｏｌá　ｍｕｎｄｏ　）\n",
      "　－－－－－－－－－－－　\n",
      "         o\n",
      "          o\n",
      "           ___\n",
      "          (o o)\n",
      "         (  V  )\n",
      "        /--m-m-\n"
     ]
    }
   ],
   "source": [
    "from io import StringIO\n",
    "\n",
    "from cowsay import read_dot_cow, cowthink\n",
    "\n",
    "cow = read_dot_cow(StringIO(\"\"\"\n",
    "$the_cow = <<EOC;\n",
    "         $thoughts\n",
    "          $thoughts\n",
    "           ___\n",
    "          (o o)\n",
    "         (  V  )\n",
    "        /--m-m-\n",
    "EOC\n",
    "\"\"\"))\n",
    "message = \"\"\"\n",
    "Olá mundo\n",
    "\"\"\".strip()\n",
    "print(cowthink(message, cowfile=cow))"
   ]
  },
  {
   "cell_type": "markdown",
   "metadata": {},
   "source": [
    "Existe até mesmo sites que você pode pegar o modelo do boneco que quer: https://charc0al.github.io/cowsay-files/converter/"
   ]
  }
 ],
 "metadata": {
  "kernelspec": {
   "display_name": "Python 3",
   "language": "python",
   "name": "python3"
  },
  "language_info": {
   "codemirror_mode": {
    "name": "ipython",
    "version": 3
   },
   "file_extension": ".py",
   "mimetype": "text/x-python",
   "name": "python",
   "nbconvert_exporter": "python",
   "pygments_lexer": "ipython3",
   "version": "3.11.9"
  }
 },
 "nbformat": 4,
 "nbformat_minor": 2
}
