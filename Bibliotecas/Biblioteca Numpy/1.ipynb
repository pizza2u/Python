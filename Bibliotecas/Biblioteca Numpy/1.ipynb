{
 "cells": [
  {
   "cell_type": "markdown",
   "id": "0beb2d53",
   "metadata": {},
   "source": [
    "## Numpy\n",
    "#### $\\color{red}{\\text{O que é?}}$\n",
    "NumPy é uma biblioteca Python usada para trabalhar com arrays.\n",
    "Também possui funções para trabalhar no domínio da álgebra linear, transformada de Fourier e matrizes.\n",
    "NumPy significa Python Numérico.\n",
    "\n",
    "#### $\\color{red}{\\text{Por quê?}}$\n",
    "Em Python tem-se listas que servem ao propósito de arrays, mas são lentas para processar.\n",
    "O NumPy visa fornecer um objeto array que é até 50x mais rápido que as listas tradicionais do Python.\n",
    "O objeto array no NumPy é chamado **ndarray**, ele fornece muitas funções de suporte que facilitam o trabalho.\n",
    "Os arrays são usados com muita frequência na ciência de dados, onde a velocidade e os recursos são muito importantes.\n",
    "Data Science: é um ramo da ciência da computação onde estuda como armazenar, usar e analisar dados para derivar informações deles.\n",
    "\n",
    "#### $\\color{red}{\\text{Código fonte}}$\n",
    "O código-fonte do NumPy está localizado neste repositório do [github](https://github.com/numpy/numpy)!"
   ]
  },
  {
   "cell_type": "markdown",
   "id": "4243059b",
   "metadata": {},
   "source": [
    "### $\\color{green}{\\text{Instalação}}$"
   ]
  },
  {
   "cell_type": "markdown",
   "id": "1ec34d93",
   "metadata": {},
   "source": [
    "Se há o Python e o PIP instalados em um sistema, a instalação do NumPy é muito fácil.\n",
    "\n",
    "Basta chamar o **pip install numpy** no prompt de comando ou terminal."
   ]
  },
  {
   "cell_type": "markdown",
   "id": "e7348a40",
   "metadata": {},
   "source": [
    "### $\\color{blue}{\\text{Importar o NumPy}}$\n",
    "Depois que o NumPy estiver instalado, importe-o em seus aplicativos adicionando a **import**:"
   ]
  },
  {
   "cell_type": "code",
   "execution_count": 1,
   "id": "00aac1d4",
   "metadata": {},
   "outputs": [],
   "source": [
    "import numpy"
   ]
  },
  {
   "cell_type": "markdown",
   "id": "cf050d98",
   "metadata": {},
   "source": [
    "Exemplo:"
   ]
  },
  {
   "cell_type": "code",
   "execution_count": 2,
   "id": "acd9b6c7",
   "metadata": {},
   "outputs": [
    {
     "name": "stdout",
     "output_type": "stream",
     "text": [
      "[1 2 3 4 5]\n"
     ]
    }
   ],
   "source": [
    "import numpy\n",
    "\n",
    "matriz = numpy.array([1, 2, 3, 4, 5])\n",
    "\n",
    "print(matriz)"
   ]
  },
  {
   "cell_type": "markdown",
   "id": "3d5c0177",
   "metadata": {},
   "source": [
    "### $\\color{blue}{\\text{NumPy como np}}$\n",
    "NumPy geralmente é importado sob o **np** para uma aplicação mais simplificada. Sendo literalmente um nome alternativo.\n",
    "E para transferir o NumPy para o nome alternativo de **np**, usa-se:"
   ]
  },
  {
   "cell_type": "code",
   "execution_count": null,
   "id": "5750dcca",
   "metadata": {},
   "outputs": [],
   "source": [
    "import numpy as np"
   ]
  },
  {
   "cell_type": "markdown",
   "id": "f3508992",
   "metadata": {},
   "source": [
    "Agora, o pacote NumPy pode ser referido como **np** em vez de numpy."
   ]
  },
  {
   "cell_type": "code",
   "execution_count": 4,
   "id": "c64571f0",
   "metadata": {},
   "outputs": [
    {
     "name": "stdout",
     "output_type": "stream",
     "text": [
      "[1 2 3 4 5]\n"
     ]
    }
   ],
   "source": [
    "import numpy as np\n",
    "\n",
    "matriz2 = np.array([1, 2, 3, 4, 5])\n",
    "\n",
    "print(matriz2)"
   ]
  },
  {
   "cell_type": "markdown",
   "id": "e544ec5b",
   "metadata": {},
   "source": [
    "E para verificar a versão do NumPy basta chamar a função __version__, como:"
   ]
  },
  {
   "cell_type": "code",
   "execution_count": 5,
   "id": "06652c6d",
   "metadata": {},
   "outputs": [
    {
     "name": "stdout",
     "output_type": "stream",
     "text": [
      "1.21.5\n"
     ]
    }
   ],
   "source": [
    "import numpy as np\n",
    "\n",
    "print(np.__version__)"
   ]
  }
 ],
 "metadata": {
  "kernelspec": {
   "display_name": "Python 3 (ipykernel)",
   "language": "python",
   "name": "python3"
  },
  "language_info": {
   "codemirror_mode": {
    "name": "ipython",
    "version": 3
   },
   "file_extension": ".py",
   "mimetype": "text/x-python",
   "name": "python",
   "nbconvert_exporter": "python",
   "pygments_lexer": "ipython3",
   "version": "3.9.12"
  }
 },
 "nbformat": 4,
 "nbformat_minor": 5
}
