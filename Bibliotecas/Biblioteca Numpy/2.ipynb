{
 "cells": [
  {
   "cell_type": "markdown",
   "id": "ae553fb8",
   "metadata": {},
   "source": [
    "### $\\color{blue}{\\text{Criando um objeto NumPy ndarray}}$\n",
    "NumPy é usado para trabalhar com arrays. O objeto array no NumPy é chamado **ndarray**.\n",
    "\n",
    "Para isso usa-se a função **array()**\n",
    "E a função type, como já é conhecida, informa o tipo do objeto.\n",
    "\n",
    "Exemplo:"
   ]
  },
  {
   "cell_type": "code",
   "execution_count": 1,
   "id": "f1d7dcca",
   "metadata": {},
   "outputs": [
    {
     "name": "stdout",
     "output_type": "stream",
     "text": [
      "[15 32 13 64  5]\n",
      "<class 'numpy.ndarray'>\n"
     ]
    }
   ],
   "source": [
    "import numpy as np\n",
    "\n",
    "matriz = np.array([15, 32, 13, 64, 5])\n",
    "\n",
    "print(matriz)\n",
    "\n",
    "print(type(matriz))"
   ]
  },
  {
   "cell_type": "markdown",
   "id": "e5b2c6f1",
   "metadata": {},
   "source": [
    "É possível criar um **ndarray** a partir de uma lista, tupla ou qualquer objeto do tipo array para o array(), e ele será convertido em um **ndarray**"
   ]
  },
  {
   "cell_type": "code",
   "execution_count": 2,
   "id": "b552cfa0",
   "metadata": {},
   "outputs": [
    {
     "name": "stdout",
     "output_type": "stream",
     "text": [
      "[1 2 3 4 5]\n"
     ]
    }
   ],
   "source": [
    "import numpy as np\n",
    "\n",
    "opa = np.array((1, 2, 3, 4, 5))\n",
    "\n",
    "print(opa)"
   ]
  },
  {
   "cell_type": "markdown",
   "id": "5b195ffe",
   "metadata": {},
   "source": [
    "### $\\color{blue}{\\text{Dimensões}}$"
   ]
  },
  {
   "cell_type": "markdown",
   "id": "5a4761c2",
   "metadata": {},
   "source": [
    "As dimensões de uma matriz determinam, respectivamente, o número de linhas e colunas. Como a matriz A tem 2 linhas e 3 colunas, é chamada de matriz 2×3. Nested array: arrays que possuem arrays como seus elementos.\n",
    "\n",
    "Importante dizer que o NumPy tem um submódulo inteiro dedicado a operações de matriz chamado [**Numpy.Mat**](https://numpy.org/doc/stable/reference/generated/numpy.mat.html)\n",
    "\n",
    "#### $\\color{red}{\\text{Matriz 0D}}$\n",
    "Chamado de escalares, são os elementos em uma matriz. Cada valor em uma matriz é uma matriz 0D. Em outras palavras, sem dimensão. Ou pela visão matemática, é uma constante, 1x1.\n",
    "Exemplo:"
   ]
  },
  {
   "cell_type": "code",
   "execution_count": 3,
   "id": "3d75189d",
   "metadata": {},
   "outputs": [
    {
     "name": "stdout",
     "output_type": "stream",
     "text": [
      "13\n"
     ]
    }
   ],
   "source": [
    "import numpy as np\n",
    "\n",
    "matriz = np.array(13)\n",
    "\n",
    "print(matriz)"
   ]
  },
  {
   "cell_type": "markdown",
   "id": "33c2c51e",
   "metadata": {},
   "source": [
    "#### $\\color{red}{\\text{Matriz 1D}}$\n",
    "Um array que tem arrays 0D como seus elementos é chamado de array unidimensional(uma dimensão) ou 1D. Esses são os arrays mais comuns e básicos. \n",
    "Exemplo:"
   ]
  },
  {
   "cell_type": "code",
   "execution_count": 4,
   "id": "6efc2fe9",
   "metadata": {},
   "outputs": [
    {
     "name": "stdout",
     "output_type": "stream",
     "text": [
      "[13 22 43 24 45]\n"
     ]
    }
   ],
   "source": [
    "import numpy as np\n",
    "\n",
    "matriz = np.array([13, 22, 43, 24, 45])\n",
    "\n",
    "print(matriz)"
   ]
  },
  {
   "cell_type": "markdown",
   "id": "bc248bcd",
   "metadata": {},
   "source": [
    "#### $\\color{red}{\\text{Matriz 2D}}$\n",
    "Um array que tem arrays 1D como seus elementos é chamado de array 2D. Estes são frequentemente usadosbpara representar matrizes  de 2ª ordem. Bidimensional. \n",
    "Exemplo:"
   ]
  },
  {
   "cell_type": "code",
   "execution_count": 7,
   "id": "026c23ff",
   "metadata": {},
   "outputs": [
    {
     "name": "stdout",
     "output_type": "stream",
     "text": [
      "[[11 20 93]\n",
      " [42 45 36]]\n"
     ]
    }
   ],
   "source": [
    "import numpy as np\n",
    "\n",
    "matriz = np.array([[11, 20, 93], [42, 45, 36]])\n",
    "\n",
    "print(matriz)"
   ]
  },
  {
   "cell_type": "markdown",
   "id": "5ff0da94",
   "metadata": {},
   "source": [
    "#### $\\color{red}{\\text{Matriz 3D}}$\n",
    "Um array que tem arrays 2D como seus elementos é chamado de array 3D.Estes são frequentemente usados para representar um tensor de 3ª ordem. Nada mais é do que uma matriz tridimensional.\n",
    "\n",
    "Exemplo: Criando um array 3D com dois arrays 2D"
   ]
  },
  {
   "cell_type": "code",
   "execution_count": 8,
   "id": "e181e814",
   "metadata": {},
   "outputs": [
    {
     "name": "stdout",
     "output_type": "stream",
     "text": [
      "[[[1 2 3]\n",
      "  [4 5 6]]\n",
      "\n",
      " [[1 2 3]\n",
      "  [4 5 6]]]\n"
     ]
    }
   ],
   "source": [
    "import numpy as np\n",
    "\n",
    "matriz = np.array([[[1, 2, 3], [4, 5, 6]], [[1, 2, 3], [4, 5, 6]]])\n",
    "\n",
    "print(matriz)"
   ]
  },
  {
   "cell_type": "markdown",
   "id": "2efdc480",
   "metadata": {},
   "source": [
    "### $\\color{blue}{\\text{Número de dimensões}}$\n",
    " Para ver o número de dimensão da matriz, basta chamar a função **ndim**.\n",
    " \n",
    " \n",
    " Exemplo:"
   ]
  },
  {
   "cell_type": "code",
   "execution_count": 10,
   "id": "1845533e",
   "metadata": {},
   "outputs": [
    {
     "name": "stdout",
     "output_type": "stream",
     "text": [
      "0\n",
      "1\n",
      "2\n",
      "3\n"
     ]
    }
   ],
   "source": [
    "import numpy as np\n",
    "\n",
    "matriz1 = np.array(13)\n",
    "matriz2 = np.array([10, 22, 34, 48, 59])\n",
    "matriz3 = np.array([[11, 20, 93], [42, 45, 36]])\n",
    "matriz4 = np.array([[[1, 2, 3], [4, 5, 6]], [[1, 2, 3], [4, 5, 6]]])\n",
    "\n",
    "print(matriz1.ndim)\n",
    "print(matriz2.ndim)\n",
    "print(matriz3.ndim)\n",
    "print(matriz4.ndim)"
   ]
  },
  {
   "cell_type": "markdown",
   "id": "afdb9e17",
   "metadata": {},
   "source": [
    "### $\\color{blue}{\\text{Dimensões Superiores}}$\n",
    "Quando uma matriz é criada, é possível selecionar o número de dimensões para aquela matriz por **ndmin**.\n",
    "\n",
    "\n",
    "Exemplo: Uma matriz com 7 dimensões e verificara a mesma."
   ]
  },
  {
   "cell_type": "code",
   "execution_count": 11,
   "id": "ba2c7b53",
   "metadata": {},
   "outputs": [
    {
     "name": "stdout",
     "output_type": "stream",
     "text": [
      "[[[[[[[13 50  6  9]]]]]]]\n",
      "Dimensões:  7\n"
     ]
    }
   ],
   "source": [
    "import numpy as np\n",
    "\n",
    "matriz = np.array([13, 50, 6, 9], ndmin=7)\n",
    "\n",
    "print(matriz)\n",
    "print('Dimensões: ', matriz.ndim)"
   ]
  },
  {
   "cell_type": "markdown",
   "id": "01a12747",
   "metadata": {},
   "source": [
    "Para melhor observação, usaremos 4 dimensões:"
   ]
  },
  {
   "cell_type": "code",
   "execution_count": 12,
   "id": "c50571e9",
   "metadata": {},
   "outputs": [
    {
     "name": "stdout",
     "output_type": "stream",
     "text": [
      "[[[[13 50  6  9]]]]\n",
      "Dimensões:  4\n"
     ]
    }
   ],
   "source": [
    "import numpy as np\n",
    "\n",
    "matriz = np.array([13, 50, 6, 9], ndmin=4)\n",
    "\n",
    "print(matriz)\n",
    "print('Dimensões: ', matriz.ndim)"
   ]
  },
  {
   "cell_type": "markdown",
   "id": "630c3223",
   "metadata": {},
   "source": [
    "A camada mais interna, no caso a 4ª dimensão, tem os 4 elementos,a 3ª tem 1 elemento que é o vetor, a 2ª tem 1 elemento que é a matriz com o vetor, e o 1ª tem o array. \n",
    "\n",
    "De forma mais direta, basta contar os colchetes"
   ]
  },
  {
   "cell_type": "markdown",
   "id": "9394decd",
   "metadata": {},
   "source": [
    "### $\\color{blue}{\\text{Acessar elementos em uma matriz}}$\n",
    "Como é visto na lógica de algoritmos, os índices em arrays iniciam em 0. Por exemplo m= [10,13,50,40], o número 10 será o índice 0, o número 13 será o índice 1 e assim por diante.\n",
    "E para acessar o elementos, é como acessar uma lista em python, chamando pelo índice.\n",
    "\n",
    "#### $\\color{red}{\\text{Matriz 1D}}$\n",
    "Exemplos:\n"
   ]
  },
  {
   "cell_type": "code",
   "execution_count": 16,
   "id": "f0473075",
   "metadata": {},
   "outputs": [
    {
     "name": "stdout",
     "output_type": "stream",
     "text": [
      "10\n",
      "22\n",
      "53\n",
      "44\n"
     ]
    }
   ],
   "source": [
    "import numpy as np\n",
    "\n",
    "matriz = np.array([10, 22, 53, 44])\n",
    "\n",
    "print(matriz[0]) #Primeiro elemento\n",
    "print(matriz[1]) #Segundo elemento\n",
    "print(matriz[2]) #Terceiro elemento\n",
    "print(matriz[3]) #Quarto elemento"
   ]
  },
  {
   "cell_type": "markdown",
   "id": "b2bf7c8f",
   "metadata": {},
   "source": [
    "Obter o primeiro e quarto elementos e depois a soma deles:"
   ]
  },
  {
   "cell_type": "code",
   "execution_count": 17,
   "id": "a55f24bb",
   "metadata": {},
   "outputs": [
    {
     "name": "stdout",
     "output_type": "stream",
     "text": [
      "54\n"
     ]
    }
   ],
   "source": [
    "import numpy as np\n",
    "\n",
    "matriz = np.array([10, 22, 53, 44])\n",
    "\n",
    "print(matriz[0] + matriz[3])"
   ]
  },
  {
   "cell_type": "markdown",
   "id": "5e2b3b59",
   "metadata": {},
   "source": [
    "#### $\\color{red}{\\text{Matriz 2D}}$\n",
    "Para matrizes bidimensionais utiliza-se a mesma lógica, a diferença agora é ter que indicar a dimensão e o índice.\n",
    "\n",
    "Fazendo uma analogia, trataremos as matrizes 2D como uma tabela com linhas e colunas, onde a linha representa a dimensão e o índice representa a coluna.\n",
    "\n",
    "Exemplos:"
   ]
  },
  {
   "cell_type": "code",
   "execution_count": 24,
   "id": "894c77ae",
   "metadata": {},
   "outputs": [
    {
     "name": "stdout",
     "output_type": "stream",
     "text": [
      "O 3º elemento da 1º linha é:  53\n"
     ]
    }
   ],
   "source": [
    "import numpy as np\n",
    "\n",
    "matriz = np.array([[10, 22, 53, 44], #É possível trabalhar assim\n",
    "                   [12, 56, 80, 75]]) #Para melhor visualização\n",
    "print('O 3º elemento da 1º linha é: ',matriz[0,2])"
   ]
  },
  {
   "cell_type": "code",
   "execution_count": 25,
   "id": "7e882801",
   "metadata": {},
   "outputs": [
    {
     "name": "stdout",
     "output_type": "stream",
     "text": [
      "O 2º elemento da 2º linha é:  56\n"
     ]
    }
   ],
   "source": [
    "import numpy as np\n",
    "\n",
    "matriz = np.array([[10, 22, 53, 44], \n",
    "                   [12, 56, 80, 75]])\n",
    "print('O 2º elemento da 2º linha é: ',matriz[1,1])"
   ]
  },
  {
   "cell_type": "code",
   "execution_count": 26,
   "id": "65df0607",
   "metadata": {},
   "outputs": [
    {
     "name": "stdout",
     "output_type": "stream",
     "text": [
      "O 4º elemento da 2º linha é:  15\n"
     ]
    }
   ],
   "source": [
    "import numpy as np\n",
    "\n",
    "matriz = np.array([[10, 22, 53, 44, 32], \n",
    "                   [12, 56, 80, 75, 15]])\n",
    "print('O 4º elemento da 2º linha é: ',matriz[1,4])"
   ]
  },
  {
   "cell_type": "markdown",
   "id": "4e6ad5b2",
   "metadata": {},
   "source": [
    "#### $\\color{red}{\\text{Matriz 3D}}$\n",
    "Para acessar em uma matriz tridimensional, segue a mesma ideia anterior, por meio de dimensões e índice. Porém, é necessário selecionar qual matriz será utilizada antes.\n",
    "\n",
    "Exemplo:"
   ]
  },
  {
   "cell_type": "code",
   "execution_count": 27,
   "id": "6b72dc24",
   "metadata": {},
   "outputs": [
    {
     "name": "stdout",
     "output_type": "stream",
     "text": [
      "5\n"
     ]
    }
   ],
   "source": [
    "import numpy as np\n",
    "\n",
    "matriz = np.array([[[10, 22, 53], #Primeira matriz\n",
    "                    [13, 11, 5]], \n",
    "                   [[12, 56, 80], #Segunda matriz\n",
    "                    [75, 15, 14]]])\n",
    "\n",
    "print(matriz[0,1,2])\n"
   ]
  },
  {
   "cell_type": "markdown",
   "id": "8a28a132",
   "metadata": {},
   "source": [
    "Explicação:\n",
    "**matriz[0,1,2]** mostra o valor: 5\n",
    "\n",
    "Tem-se duas matrizes no exemplo, e o **primeiro número** em matriz[0,1,2], representa qual array iremos buscar o valor.\n",
    "\n",
    "A primeira matriz dada por: [[10, 22, 53],\n",
    "                              [13, 11, 5]]\n",
    "                            \n",
    "E a segunda dada por: [[12, 56, 80],\n",
    "                        [75, 15, 14]]\n",
    "\n",
    "Selecionando o **0**, ficaremos com o 1º array(matriz)\n",
    "\n",
    "O **segundo número**, representa a dimensão, assim como no exemplo em 2D, qual linha escolheremos, foi escolhido a segunda linha, logo selecionamos **1**.\n",
    "\n",
    "E ficaremos com o 2º array:  [13, 11, 5]\n",
    "\n",
    "E para o **terceiro número**, é o índice, e então é selecionado **2**, designado para o último item deste array, ou seja 5.\n"
   ]
  },
  {
   "cell_type": "markdown",
   "id": "4c4e3831",
   "metadata": {},
   "source": [
    "### $\\color{blue}{\\text{Index negativo}}$\n",
    "Usa-se um valor negativo em dimensão para acessar o elemento pelo final da matriz. A partir de uma leitura como -1.\n",
    "\n",
    "Exemplo:"
   ]
  },
  {
   "cell_type": "code",
   "execution_count": 31,
   "id": "a7a64ea0",
   "metadata": {},
   "outputs": [
    {
     "name": "stdout",
     "output_type": "stream",
     "text": [
      "O último elemento da 2º linha é:  75\n"
     ]
    }
   ],
   "source": [
    "import numpy as np\n",
    "\n",
    "matriz = np.array([[10, 22, 53, 44], \n",
    "                   [12, 56, 80, 75]])\n",
    "print('O último elemento da 2º linha é: ',matriz[1,-1])"
   ]
  },
  {
   "cell_type": "markdown",
   "id": "259fe0c0",
   "metadata": {},
   "source": [
    "Nem tente utilizar um **-0**\n",
    "<img align=\"center\" src=\"https://c.tenor.com/fAnLQPL_IFMAAAAC/chuu-chuu-loona.gif\" width=\"160\">"
   ]
  },
  {
   "cell_type": "code",
   "execution_count": 33,
   "id": "ef6b8b46",
   "metadata": {},
   "outputs": [
    {
     "name": "stdout",
     "output_type": "stream",
     "text": [
      "O penúltimo elemento da 1º linha é:  53\n"
     ]
    }
   ],
   "source": [
    "import numpy as np\n",
    "\n",
    "matriz = np.array([[10, 22, 53, 44], \n",
    "                   [12, 56, 80, 75]])\n",
    "print('O penúltimo elemento da 1º linha é: ', matriz[0,-2])"
   ]
  }
 ],
 "metadata": {
  "kernelspec": {
   "display_name": "Python 3 (ipykernel)",
   "language": "python",
   "name": "python3"
  },
  "language_info": {
   "codemirror_mode": {
    "name": "ipython",
    "version": 3
   },
   "file_extension": ".py",
   "mimetype": "text/x-python",
   "name": "python",
   "nbconvert_exporter": "python",
   "pygments_lexer": "ipython3",
   "version": "3.9.12"
  }
 },
 "nbformat": 4,
 "nbformat_minor": 5
}
