{
 "cells": [
  {
   "cell_type": "markdown",
   "id": "049b197f",
   "metadata": {},
   "source": [
    "### $\\color{blue}{\\text{Repartição de matrizes}}$\n",
    "Isso é, mover elementos de um índice para outro índice.\n",
    "Utilizando o index da seguinte forma: **.[start:end]**\n",
    "\n",
    "\n",
    "Ou também: **.[start:end:step]**\n",
    "\n",
    "Exemplo: (Resultado incluindo o índice inicial, mas não o final)"
   ]
  },
  {
   "cell_type": "code",
   "execution_count": 6,
   "id": "d189f173",
   "metadata": {},
   "outputs": [
    {
     "name": "stdout",
     "output_type": "stream",
     "text": [
      "[23 33 43 53]\n"
     ]
    }
   ],
   "source": [
    "import numpy as np\n",
    "\n",
    "matriz = np.array([13, 23, 33, 43, 53, 63, 73])\n",
    "#                  0    1  2   3   4    5   6\n",
    "\n",
    "print(matriz[1:5])"
   ]
  },
  {
   "cell_type": "markdown",
   "id": "4d575463",
   "metadata": {},
   "source": [
    "Ele fez a leitura do índica **1 (23)** ao índice **5 (53)**\n",
    "\n",
    "Para um exemplo onde vai do índice 4 até o final, tem-se:"
   ]
  },
  {
   "cell_type": "code",
   "execution_count": 7,
   "id": "d6506d0d",
   "metadata": {},
   "outputs": [
    {
     "name": "stdout",
     "output_type": "stream",
     "text": [
      "[53 63 73]\n"
     ]
    }
   ],
   "source": [
    "import numpy as np\n",
    "\n",
    "matriz = np.array([13, 23, 33, 43, 53, 63, 73])\n",
    "#                  0    1  2   3   4    5   6\n",
    "print(matriz[4:])"
   ]
  },
  {
   "cell_type": "markdown",
   "id": "9f21eb75",
   "metadata": {},
   "source": [
    "Ou do ínicio até o índice 4(não incluído):"
   ]
  },
  {
   "cell_type": "code",
   "execution_count": 8,
   "id": "791387ca",
   "metadata": {},
   "outputs": [
    {
     "name": "stdout",
     "output_type": "stream",
     "text": [
      "[13 23 33 43]\n"
     ]
    }
   ],
   "source": [
    "import numpy as np\n",
    "\n",
    "matriz = np.array([13, 23, 33, 43, 53, 63, 73])\n",
    "#                  0    1  2   3   4    5   6\n",
    "print(matriz[:4])"
   ]
  },
  {
   "cell_type": "markdown",
   "id": "1dcf0b96",
   "metadata": {},
   "source": [
    "### $\\color{blue}{\\text{Repartição com negativo}}$\n",
    "Como visto no arquivo 2(anterior), usa-se a lógica do index negativo.\n",
    "Usa-se o operador - para se referir a um índice a partir do final.\n",
    "\n",
    "Exemplo: (Repartição do índice 4 do final para o índice 1 do final)\n"
   ]
  },
  {
   "cell_type": "code",
   "execution_count": 13,
   "id": "1bf9d3bb",
   "metadata": {},
   "outputs": [
    {
     "name": "stdout",
     "output_type": "stream",
     "text": [
      "[43 53 63]\n"
     ]
    }
   ],
   "source": [
    "import numpy as np\n",
    "\n",
    "matriz = np.array([13, 23, 33, 43, 53, 63, 73])\n",
    "#                  0    1  2   3   4    5   6\n",
    "\n",
    "print(matriz[-4:-1])"
   ]
  },
  {
   "cell_type": "markdown",
   "id": "c9884219",
   "metadata": {},
   "source": [
    "### $\\color{blue}{\\text{Step}}$\n",
    "Step signfica degrau, ou seja é um valor para determinar a etapa da repartição.\n",
    "\n",
    "Exemplo:(Retornar os elementos do índice 1 ao índice 6(não incluído))"
   ]
  },
  {
   "cell_type": "code",
   "execution_count": 25,
   "id": "2753a107",
   "metadata": {},
   "outputs": [
    {
     "name": "stdout",
     "output_type": "stream",
     "text": [
      "[23 43 63]\n"
     ]
    }
   ],
   "source": [
    "import numpy as np\n",
    "\n",
    "matriz = np.array([13, 23, 33, 43, 53, 63, 73])\n",
    "#                  0   1   2   3   4    5   6\n",
    "\n",
    "print(matriz[1:6:2])"
   ]
  },
  {
   "cell_type": "markdown",
   "id": "15eaab38",
   "metadata": {},
   "source": [
    "Ele vai printar os valores a cada 2 valores, se do 1 ao 6(não incluído) há 5 valores, sendo 23 33 43 53 63, então será mostrado o 23 43 e 63. Em outras palavras foi contabilizado a cada 2 passos.\n",
    "\n",
    "Vamos mostrar um exemplo melhor:"
   ]
  },
  {
   "cell_type": "code",
   "execution_count": 31,
   "id": "a009471b",
   "metadata": {},
   "outputs": [
    {
     "name": "stdout",
     "output_type": "stream",
     "text": [
      "[ 1  4  7 10 13 16 19]\n"
     ]
    }
   ],
   "source": [
    "import numpy as np\n",
    "\n",
    "matriz = np.array([1, 2, 3, 4, 5, 6, 7, 8 , 9 , 10 , 11,\n",
    "                  12, 13, 14, 15, 16, 17, 18, 19, 20])\n",
    "\n",
    "\n",
    "print(matriz[0:20:3])"
   ]
  },
  {
   "cell_type": "markdown",
   "id": "e7d0a1ce",
   "metadata": {},
   "source": [
    "No exemplo acima, há uma matriz com 20 números, do 1 ao 20, foi dado um step de 3, então os valores serão mostrados desde o índice 0 (de valor 1) ao índice 20 ( de valor 19) e contados a cada 3 passos.\n",
    "\n",
    "matriz = np.array([**1**, 2, 3, **4**, 5, 6, **7**, 8 , 9 , **10** , 11,\n",
    "                  12, **13**, 14, 15, **16**, 17, 18, **19**, 20])\n",
    "\n",
    "\n",
    "E utilizando o índice do ínicio ao final, basta não pôr valores.\n",
    "\n",
    "Exemplo: (Retornar todos os valores do array com um step de 2)"
   ]
  },
  {
   "cell_type": "code",
   "execution_count": 32,
   "id": "35fc1ee0",
   "metadata": {},
   "outputs": [
    {
     "name": "stdout",
     "output_type": "stream",
     "text": [
      "[ 1  3  5  7  9 11 13 15 17 19]\n"
     ]
    }
   ],
   "source": [
    "import numpy as np\n",
    "\n",
    "matriz = np.array([1, 2, 3, 4, 5, 6, 7, 8 , 9 , 10 , 11,\n",
    "                  12, 13, 14, 15, 16, 17, 18, 19, 20])\n",
    "\n",
    "\n",
    "print(matriz[::2])"
   ]
  },
  {
   "cell_type": "markdown",
   "id": "144de43f",
   "metadata": {},
   "source": [
    "#### $\\color{red}{\\text{Repartição em matrizes 2D}}$\n",
    "\n",
    "Tal qual como visto no arquivo 2, usa-se primeiro a dimensão e depois a repartição com os índices.\n",
    "\n",
    "Exemplo: (Na segunda matriz, do índice 1(segundo elemento) ao índice 5(não incluído))"
   ]
  },
  {
   "cell_type": "code",
   "execution_count": 45,
   "id": "7a3d24e4",
   "metadata": {},
   "outputs": [
    {
     "name": "stdout",
     "output_type": "stream",
     "text": [
      "[ 8  9 10 11]\n"
     ]
    }
   ],
   "source": [
    "import numpy as np\n",
    "\n",
    "matriz = np.array([[1, 2,  3,   4,  5 ,  6],\n",
    "                   [7, 8 , 9 , 10 , 11, 12]])\n",
    "                #   0  1   2   3    4    5\n",
    "\n",
    "print(matriz[1,1:5])"
   ]
  },
  {
   "cell_type": "markdown",
   "id": "449337cf",
   "metadata": {},
   "source": [
    "Caso o índice 5 seja incluído, pode-se deixar vazio ou colocar um valor maior que o índice, como um 6.\n",
    "WHY? Pois ele faz a leitura ATÉ o índice indicado parando antes dele, e não nele mesmo.\n",
    "\n",
    "Veja:"
   ]
  },
  {
   "cell_type": "code",
   "execution_count": 46,
   "id": "4799ae41",
   "metadata": {},
   "outputs": [
    {
     "name": "stdout",
     "output_type": "stream",
     "text": [
      "[ 8  9 10 11 12]\n",
      "[ 8  9 10 11 12]\n"
     ]
    }
   ],
   "source": [
    "import numpy as np\n",
    "\n",
    "matriz = np.array([[1, 2,  3,   4,  5 ,  6],\n",
    "                   [7, 8 , 9 , 10 , 11, 12]])\n",
    "                #   0  1   2   3    4    5\n",
    "\n",
    "print(matriz[1,1:])\n",
    "\n",
    "matriz = np.array([[1, 2,  3,   4,  5 ,  6],\n",
    "                   [7, 8 , 9 , 10 , 11, 12]])\n",
    "                #   0  1   2   3    4    5\n",
    "\n",
    "print(matriz2[1,1:6])"
   ]
  },
  {
   "cell_type": "markdown",
   "id": "3fa76b36",
   "metadata": {},
   "source": [
    "Exemplo: (Retornar o índice 2, em ambos arrays)"
   ]
  },
  {
   "cell_type": "code",
   "execution_count": 47,
   "id": "3a38b4d7",
   "metadata": {},
   "outputs": [
    {
     "name": "stdout",
     "output_type": "stream",
     "text": [
      "[3 9]\n"
     ]
    }
   ],
   "source": [
    "import numpy as np\n",
    "\n",
    "matriz = np.array([[1, 2,  3,   4,  5 ,  6],\n",
    "                   [7, 8 , 9 , 10 , 11, 12]])\n",
    "                #   0  1   2   3    4    55\n",
    "\n",
    "print(matriz[0:2, 2])"
   ]
  },
  {
   "cell_type": "markdown",
   "id": "850aad50",
   "metadata": {},
   "source": [
    "Por quê não colocar matriz[**0:1**,2]?\n",
    "Mesma lógica, ele faz a leitura da dimensão 0(array 1) até antes da dimensão 1(array 2). Logo precisa colocar um valor maior que o existente. Ou até mesmo deixar vazio."
   ]
  },
  {
   "cell_type": "code",
   "execution_count": 48,
   "id": "c2a2d7b8",
   "metadata": {},
   "outputs": [
    {
     "name": "stdout",
     "output_type": "stream",
     "text": [
      "[3 9]\n"
     ]
    }
   ],
   "source": [
    "import numpy as np\n",
    "\n",
    "matriz = np.array([[1, 2,  3,   4,  5 ,  6],\n",
    "                   [7, 8 , 9 , 10 , 11, 12]])\n",
    "                #   0  1   2   3    4    5\n",
    "\n",
    "print(matriz[0:, 2])"
   ]
  },
  {
   "cell_type": "markdown",
   "id": "92c657b1",
   "metadata": {},
   "source": [
    "Exemplo: (De ambos elementos, definir os valores dos índices do 1 ao 4(não incluído))."
   ]
  },
  {
   "cell_type": "code",
   "execution_count": 49,
   "id": "53d47f7a",
   "metadata": {},
   "outputs": [
    {
     "name": "stdout",
     "output_type": "stream",
     "text": [
      "[[ 2  3  4]\n",
      " [ 8  9 10]]\n"
     ]
    }
   ],
   "source": [
    "import numpy as np\n",
    "\n",
    "matriz = np.array([[1, 2,  3,   4,  5 ,  6],\n",
    "                   [7, 8 , 9 , 10 , 11, 12]])\n",
    "                #   0  1   2   3    4    5\n",
    "\n",
    "print(matriz[0:2, 1:4]) # Ou print(matriz[0:, 1:4])"
   ]
  },
  {
   "cell_type": "markdown",
   "id": "45646a7d",
   "metadata": {},
   "source": [
    "#### Para mais específicações: \n",
    "##### [The N-dimensional array (ndarray)](https://numpy.org/doc/stable/reference/arrays.ndarray.html)"
   ]
  }
 ],
 "metadata": {
  "kernelspec": {
   "display_name": "Python 3 (ipykernel)",
   "language": "python",
   "name": "python3"
  },
  "language_info": {
   "codemirror_mode": {
    "name": "ipython",
    "version": 3
   },
   "file_extension": ".py",
   "mimetype": "text/x-python",
   "name": "python",
   "nbconvert_exporter": "python",
   "pygments_lexer": "ipython3",
   "version": "3.9.12"
  }
 },
 "nbformat": 4,
 "nbformat_minor": 5
}
