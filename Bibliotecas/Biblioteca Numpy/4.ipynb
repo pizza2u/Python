{
 "cells": [
  {
   "cell_type": "markdown",
   "id": "8110df4a",
   "metadata": {},
   "source": [
    "### $\\color{blue}{\\text{Dados em Numpy}}$\n",
    "\n",
    "Revisando os tipos de dados que há no python:\n",
    "- Strings: usado para representar dados de texto, o texto é fornecido entre aspas. Exemplo: \"Oi\", \"ABC\"\n",
    "- Inteiro: usado para representar números inteiros. por exemplo: 1, 2, 3, -1, -2, -3\n",
    "- Float: usado para representar números reais. Exemplo: 1,5; 42,42\n",
    "- Boolean: usado para representar Verdadeiro ou Falso. Por meio de 0 e 1. \n",
    "- Complexo: usado para representar números complexos. Exemplo: 1,0 + 2,0j, 1,5 + 2,5j\n",
    "\n",
    "No **Numpy** existem alguns dados extras e referentes aos dados ja conhecidos:\n",
    "\n",
    "- bool:\tBooleano\n",
    "- int8:\tInteiro de 8 bits assinado\n",
    "- int16:\tNúmero inteiro assinado de 16 bits\n",
    "- int32:\tNúmero inteiro assinado de 32 bits\n",
    "- int64:\tInteiro de 64 bits assinado\n",
    "- uint8:\tInteiro de 8 bits sem assinatura\n",
    "- uint16:\tInteiro de 16 bits sem assinatura\n",
    "- uint32:\tInteiro de 32 bits sem assinatura\n",
    "- uint64:\tInteiro de 64 bits sem assinatura\n",
    "- float16:\tNúmero de ponto flutuante de 16 bits\n",
    "- float32:\tNúmero de ponto flutuante de 32 bits\n",
    "- float64:\tNúmero de ponto flutuante de 64 bits\n",
    "- complex64:\tNúmero complexo de 64 bits\n",
    "- complex128:\tNúmero complexo de 128 bits\n",
    "\n",
    "Abaixo há os caracteres representantes dos tipos, e que podem ser chamados para funções, como exemplo o 'i' que represente o int e etc:\n",
    "\n",
    "- ' i ' - números inteiros\n",
    "- ' u ' - números inteiros sem sinal\n",
    "- ' ? ' - boolean\n",
    "- ' f ' - números com ponto flutuante\n",
    "- ' c ' - números com ponto flutuante complexos\n",
    "- ' m ' - timedelta\n",
    "- ' M ' - datetime\n",
    "- ' O ' - object\n",
    "- ' S ' - string\n",
    "- ' U ' - string sem sinal\n",
    "- ' V ' - void\n",
    "\n",
    "#### $\\color{red}{\\text{Verificando o tipo de dado}}$\n",
    "O array NumPy tem uma propriedade chamada **dtype** que retorna o tipo de dado do array.\n",
    "\n",
    "Exemplo:"
   ]
  },
  {
   "cell_type": "code",
   "execution_count": 7,
   "id": "aa2be9f3",
   "metadata": {},
   "outputs": [
    {
     "name": "stdout",
     "output_type": "stream",
     "text": [
      "int32\n",
      "<U7\n"
     ]
    }
   ],
   "source": [
    "import numpy as np\n",
    "\n",
    "matriz = np.array([1, 2, 3, 4])\n",
    "\n",
    "print(matriz.dtype)\n",
    "\n",
    "matriz2 = np.array(['Melão', 'Abacaxi', 'Maçã'])\n",
    "print(matriz2.dtype)"
   ]
  },
  {
   "cell_type": "markdown",
   "id": "0dcad5f7",
   "metadata": {},
   "source": [
    "### $\\color{blue}{\\text{Criação de arrays com dados definidos}}$\n",
    "O dtype que permite definir o tipo de dado esperado dos elementos do array com as siglas mostradas anteriormente.\n",
    "\n",
    "Exemplo: (Criar uma matriz com tipo de dados em string)\n"
   ]
  },
  {
   "cell_type": "code",
   "execution_count": 13,
   "id": "2ddb2b61",
   "metadata": {},
   "outputs": [
    {
     "name": "stdout",
     "output_type": "stream",
     "text": [
      "[b'1' b'2' b'3' b'4']\n",
      "|S1\n"
     ]
    }
   ],
   "source": [
    "import numpy as np\n",
    "\n",
    "matriz = np.array([1, 2, 3, 4], dtype='S')\n",
    "\n",
    "print(matriz)\n",
    "print(matriz.dtype)"
   ]
  },
  {
   "cell_type": "markdown",
   "id": "fd7c35bd",
   "metadata": {},
   "source": [
    "Exemplo: (Criar um array com dados inteiros de 4 bytes)"
   ]
  },
  {
   "cell_type": "code",
   "execution_count": 16,
   "id": "021f8004",
   "metadata": {},
   "outputs": [
    {
     "name": "stdout",
     "output_type": "stream",
     "text": [
      "[1 2 3 4]\n",
      "int32\n"
     ]
    }
   ],
   "source": [
    "import numpy as np\n",
    "\n",
    "matriz = np.array([1, 2, 3, 4], dtype='i4')\n",
    "\n",
    "print(matriz)\n",
    "print(matriz.dtype)"
   ]
  },
  {
   "cell_type": "markdown",
   "id": "d814cd53",
   "metadata": {},
   "source": [
    "#### $\\color{red}{\\text{Erro em conversão}}$\n",
    "Se um tipo de dado for fornecido em que os elementos não podem ser convertidos, o NumPy vai gerar um ValueError, indicando que o argumento é incorreto.\n",
    "\n",
    "Exemplo: (Um string não pode ser convertida em inteiro)"
   ]
  },
  {
   "cell_type": "code",
   "execution_count": 17,
   "id": "6a564ba0",
   "metadata": {},
   "outputs": [
    {
     "ename": "ValueError",
     "evalue": "invalid literal for int() with base 10: 'ovo'",
     "output_type": "error",
     "traceback": [
      "\u001b[1;31m---------------------------------------------------------------------------\u001b[0m",
      "\u001b[1;31mValueError\u001b[0m                                Traceback (most recent call last)",
      "Input \u001b[1;32mIn [17]\u001b[0m, in \u001b[0;36m<cell line: 3>\u001b[1;34m()\u001b[0m\n\u001b[0;32m      1\u001b[0m \u001b[38;5;28;01mimport\u001b[39;00m \u001b[38;5;21;01mnumpy\u001b[39;00m \u001b[38;5;28;01mas\u001b[39;00m \u001b[38;5;21;01mnp\u001b[39;00m\n\u001b[1;32m----> 3\u001b[0m matriz \u001b[38;5;241m=\u001b[39m \u001b[43mnp\u001b[49m\u001b[38;5;241;43m.\u001b[39;49m\u001b[43marray\u001b[49m\u001b[43m(\u001b[49m\u001b[43m[\u001b[49m\u001b[38;5;124;43m'\u001b[39;49m\u001b[38;5;124;43movo\u001b[39;49m\u001b[38;5;124;43m'\u001b[39;49m\u001b[43m,\u001b[49m\u001b[43m \u001b[49m\u001b[38;5;124;43m'\u001b[39;49m\u001b[38;5;124;43m12\u001b[39;49m\u001b[38;5;124;43m'\u001b[39;49m\u001b[43m,\u001b[49m\u001b[43m \u001b[49m\u001b[38;5;124;43m'\u001b[39;49m\u001b[38;5;124;43m23\u001b[39;49m\u001b[38;5;124;43m'\u001b[39;49m\u001b[43m]\u001b[49m\u001b[43m,\u001b[49m\u001b[43m \u001b[49m\u001b[43mdtype\u001b[49m\u001b[38;5;241;43m=\u001b[39;49m\u001b[38;5;124;43m'\u001b[39;49m\u001b[38;5;124;43mi\u001b[39;49m\u001b[38;5;124;43m'\u001b[39;49m\u001b[43m)\u001b[49m\n",
      "\u001b[1;31mValueError\u001b[0m: invalid literal for int() with base 10: 'ovo'"
     ]
    }
   ],
   "source": [
    "import numpy as np\n",
    "\n",
    "matriz = np.array(['ovo', '12', '23'], dtype='i')"
   ]
  },
  {
   "cell_type": "markdown",
   "id": "27423966",
   "metadata": {},
   "source": [
    "### $\\color{blue}{\\text{Conversão de Dados}}$\n",
    "A maneira de alterar o tipo de dados de uma matriz existente é fazer uma cópia da matriz com **astype()**.\n",
    "\n",
    "A **astype()** é uma função que cria uma cópia da matriz e permite especificar o tipo de dados como um parâmetro.\n",
    "\n",
    "O tipo de dados pode ser especificado usando uma string, como 'f'para float, 'i'para inteiro e etc. Ou  até mesmo usar o tipo de dados diretamente como float para float e int para int. A única diferença entre usar apenas um caracter i e o int é o uso de aspas.\n",
    "\n",
    "Exemplo: (Alterar o tipo de dados de float para inteiro usando i de parâmetro)"
   ]
  },
  {
   "cell_type": "code",
   "execution_count": 46,
   "id": "e0509773",
   "metadata": {},
   "outputs": [
    {
     "name": "stdout",
     "output_type": "stream",
     "text": [
      "[1 2 3]\n",
      "int32\n",
      "[1 2 3]\n",
      "int32\n"
     ]
    }
   ],
   "source": [
    "import numpy as np\n",
    "\n",
    "matriz = np.array([1.5, 2.2, 3.1])\n",
    "\n",
    "outra = matriz.astype('i')\n",
    "print(outra)\n",
    "print(outra.dtype) \n",
    "#                       OU\n",
    "outra2 = matriz.astype(int)\n",
    "print(outra2)\n",
    "print(outra2.dtype)"
   ]
  },
  {
   "cell_type": "markdown",
   "id": "41eef29b",
   "metadata": {},
   "source": [
    "Exemplo: (Alterar do tipo de dados para booleano)"
   ]
  },
  {
   "cell_type": "code",
   "execution_count": 45,
   "id": "ec1935cc",
   "metadata": {},
   "outputs": [
    {
     "name": "stdout",
     "output_type": "stream",
     "text": [
      "[ True False  True]\n",
      "bool\n",
      "[ True False  True]\n",
      "bool\n"
     ]
    }
   ],
   "source": [
    "import numpy as np\n",
    "\n",
    "matriz = np.array([1, 0,1])\n",
    "\n",
    "outra = matriz.astype(bool)\n",
    "print(outra)\n",
    "print(outra.dtype) \n",
    "#                       OU\n",
    "outra2= matriz.astype('?')\n",
    "print(outra2)\n",
    "print(outra2.dtype)"
   ]
  },
  {
   "cell_type": "markdown",
   "id": "17d55c86",
   "metadata": {},
   "source": [
    "### $\\color{blue}{\\text{Cópia e visualização de uma matriz}}$\n",
    "A cópia terá os mesmos dados da matriz original e caso haja modificações, não afetarão a original. Utilizando a função **.copy()**\n",
    "\n",
    "\n",
    "A visualização não possui os dados e alterações na exibição afetarão a matriz original tal qual alterações na matriz original afetará a exibição. Utilizando a função **.view()**\n",
    "\n",
    "Exemplo: (Realize uma cópia e alteração de uma matriz original, e exiba as matrizes)"
   ]
  },
  {
   "cell_type": "code",
   "execution_count": 49,
   "id": "641651ab",
   "metadata": {},
   "outputs": [
    {
     "name": "stdout",
     "output_type": "stream",
     "text": [
      "[42  2  3  4  5]\n",
      "[1 2 3 4 5]\n"
     ]
    }
   ],
   "source": [
    "import numpy as np\n",
    "\n",
    "matriz = np.array([1, 2, 3, 4, 5])\n",
    "copia = matriz.copy()\n",
    "matriz[0] = 42\n",
    "\n",
    "print(matriz)\n",
    "print(copia)"
   ]
  },
  {
   "cell_type": "markdown",
   "id": "45d11ce8",
   "metadata": {},
   "source": [
    "Veja que para a cópia, os valores permaneceram os mesmo da matriz original, mesmo tendo uma mudança nela depois. Em resumo, a cópia não deve ser afetadas pelas alterações da matriz original.\n",
    "\n",
    "Exemplo: (Faça a visualização, altere a matriz original e exiba as duas matrizes)"
   ]
  },
  {
   "cell_type": "code",
   "execution_count": 50,
   "id": "6ef51ff4",
   "metadata": {},
   "outputs": [
    {
     "name": "stdout",
     "output_type": "stream",
     "text": [
      "[42  2  3  4  5]\n",
      "[42  2  3  4  5]\n"
     ]
    }
   ],
   "source": [
    "matriz = np.array([1, 2, 3, 4, 5])\n",
    "visualizacao = matriz.view()\n",
    "matriz[0] = 42\n",
    "\n",
    "print(matriz)\n",
    "print(visualizacao)"
   ]
  },
  {
   "cell_type": "markdown",
   "id": "f9fd7169",
   "metadata": {},
   "source": [
    "A visão deve ser afetada pelas alterações feitas na matriz original.\n",
    "\n",
    "Exemplo: (Altere a visualização e exiba as duas matrizes)"
   ]
  },
  {
   "cell_type": "code",
   "execution_count": 52,
   "id": "711af2b7",
   "metadata": {},
   "outputs": [
    {
     "name": "stdout",
     "output_type": "stream",
     "text": [
      "[ 1 55  3  4  5]\n",
      "[ 1 55  3  4  5]\n"
     ]
    }
   ],
   "source": [
    "matriz = np.array([1, 2, 3, 4, 5])\n",
    "visualizacao = matriz.view()\n",
    "visualizacao[1] = 55\n",
    "\n",
    "print(matriz)\n",
    "print(visualizacao)"
   ]
  },
  {
   "cell_type": "markdown",
   "id": "58686847",
   "metadata": {},
   "source": [
    "Veja que alterou a matriz original pelas alterações na visualização.\n",
    "\n",
    "### $\\color{blue}{\\text{Verificação para dados}}$\n",
    "Todo array NumPy tem um atributo **.base** que retorna None se o array tiver dados.\n",
    "Caso contrário, o **.base** se refere ao objeto original.\n",
    "\n",
    "Exemplo: (Imprimir o valor do atributo base para verificar se a matriz tem dados ou não)"
   ]
  },
  {
   "cell_type": "code",
   "execution_count": 53,
   "id": "47e76bde",
   "metadata": {},
   "outputs": [
    {
     "name": "stdout",
     "output_type": "stream",
     "text": [
      "None\n",
      "[1 2 3 4 5]\n"
     ]
    }
   ],
   "source": [
    "import numpy as np\n",
    "\n",
    "matriz = np.array([1, 2, 3, 4, 5])\n",
    "copia = matriz.copy()\n",
    "visualizacao = matriz.view()\n",
    "\n",
    "print(copia.base)\n",
    "print(visualizacao.base)"
   ]
  },
  {
   "cell_type": "markdown",
   "id": "97bcd209",
   "metadata": {},
   "source": [
    "A cópia retornou None, significando que tem dados, e a visualização retornou a matriz original.\n",
    "\n",
    "### $\\color{blue}{\\text{Forma de uma matriz}}$\n",
    "\n",
    "A forma de uma matriz é o número de elementos em cada dimensão.\n",
    "\n",
    "Para obter a forma, existe um atributo chamado de **.shape** que retorna uma tupla(que é semelhante a uma lista, porém inalterável), com cada índice com um valor correspondente.\n",
    "\n",
    "Exemplo: (Imprimir a forma de uma matriz 2D)"
   ]
  },
  {
   "cell_type": "code",
   "execution_count": 55,
   "id": "38d21e2e",
   "metadata": {},
   "outputs": [
    {
     "name": "stdout",
     "output_type": "stream",
     "text": [
      "(2, 5)\n"
     ]
    }
   ],
   "source": [
    "import numpy as np\n",
    "\n",
    "matriz = np.array([[1, 2, 3, 4, 5], [6, 7, 8, 9, 10]])\n",
    "\n",
    "print(matriz.shape)"
   ]
  },
  {
   "cell_type": "markdown",
   "id": "08cf547c",
   "metadata": {},
   "source": [
    "O resultado do exemplo acima demonstra que há duas dimensões(2) no array e cinco índices.\n",
    "\n",
    "Exemplo: (Criar um array com 6 dimensões usando **ndmin** e um vetor com 10, 11, 12, 13, 14 e verificar se a última dimensão tem valor 5)"
   ]
  },
  {
   "cell_type": "code",
   "execution_count": 63,
   "id": "e8ddf9eb",
   "metadata": {},
   "outputs": [
    {
     "name": "stdout",
     "output_type": "stream",
     "text": [
      "[[[[[[10 11 12 13 14]]]]]]\n",
      "shape : (1, 1, 1, 1, 1, 5)\n"
     ]
    }
   ],
   "source": [
    "import numpy as np\n",
    "\n",
    "matriz = np.array([10, 11, 12, 13, 14 ], ndmin=6)\n",
    "\n",
    "print(matriz)\n",
    "print('shape :', matriz.shape)"
   ]
  },
  {
   "cell_type": "markdown",
   "id": "302fc5f9",
   "metadata": {},
   "source": [
    "Os inteiros em cada índice informam sobre o número de elementos que a dimensão correspondente possui. A sexta dimensão(5+1ª) tem os 5 elementos."
   ]
  },
  {
   "cell_type": "markdown",
   "id": "1a6a7a6a",
   "metadata": {},
   "source": [
    "#### Para mais específicações: \n",
    "#### [Data Types](https://numpy.org/doc/stable/user/basics.types.html?highlight=type)\n",
    "#### [Data type objects (dtype)](https://numpy.org/doc/stable/reference/arrays.dtypes.html#arrays-dtypes)\n",
    "\n"
   ]
  }
 ],
 "metadata": {
  "kernelspec": {
   "display_name": "Python 3 (ipykernel)",
   "language": "python",
   "name": "python3"
  },
  "language_info": {
   "codemirror_mode": {
    "name": "ipython",
    "version": 3
   },
   "file_extension": ".py",
   "mimetype": "text/x-python",
   "name": "python",
   "nbconvert_exporter": "python",
   "pygments_lexer": "ipython3",
   "version": "3.9.12"
  }
 },
 "nbformat": 4,
 "nbformat_minor": 5
}
