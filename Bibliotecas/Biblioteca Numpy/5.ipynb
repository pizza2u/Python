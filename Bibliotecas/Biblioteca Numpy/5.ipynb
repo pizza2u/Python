{
 "cells": [
  {
   "cell_type": "markdown",
   "id": "4c5499e4",
   "metadata": {},
   "source": [
    "### $\\color{blue}{\\text{Remodelando matrizes}}$\n",
    "Remodelar significa mudar a forma de uma matriz.\n",
    "A forma de uma matriz é o número de elementos em cada dimensão.\n",
    "Ao remodelar, podemos adicionar ou remover dimensões ou alterar o número de elementos em cada dimensão.\n",
    "\n",
    "E para isso usa-se a função **.reshape(z,x,y)**\n",
    "\n",
    "#### $\\color{red}{\\text{1D para 2D}}$\n",
    "\n",
    "\n",
    "\n",
    "Exemplo: (Converter um array 1D com 10 elementos pra um array 2D, a dimensão mais externa deve ter 5 arrays(linhas),cada uma com 2 elementos(colunas))."
   ]
  },
  {
   "cell_type": "code",
   "execution_count": 2,
   "id": "3b2ef431",
   "metadata": {},
   "outputs": [
    {
     "name": "stdout",
     "output_type": "stream",
     "text": [
      "[[ 1  2]\n",
      " [ 3  4]\n",
      " [ 5  6]\n",
      " [ 7  8]\n",
      " [ 9 10]]\n"
     ]
    }
   ],
   "source": [
    "import numpy as np\n",
    "\n",
    "matriz = np.array([1, 2, 3, 4, 5, 6, 7, 8, 9, 10])\n",
    "\n",
    "nova = matriz.reshape(5, 2)\n",
    "\n",
    "print(nova)"
   ]
  },
  {
   "cell_type": "markdown",
   "id": "a6f54af5",
   "metadata": {},
   "source": [
    "#### $\\color{red}{\\text{1D para 3D}}$\n",
    "\n",
    "Exemplo: (Converter um array 1D com 16 elementos para um array 3D, a dimensão mais externa terá 2 arrays com 2 arrays, e cada um com 4 elementos(colunas))"
   ]
  },
  {
   "cell_type": "code",
   "execution_count": 24,
   "id": "57fc04b3",
   "metadata": {},
   "outputs": [
    {
     "name": "stdout",
     "output_type": "stream",
     "text": [
      "[[[ 1  2  3  4]\n",
      "  [ 5  6  7  8]]\n",
      "\n",
      " [[ 9 10 11 12]\n",
      "  [13 14 15 16]]]\n"
     ]
    }
   ],
   "source": [
    "import numpy as np\n",
    "\n",
    "matriz = np.array([1, 2, 3, 4, 5, 6, 7, 8, 9,\n",
    "                   10, 11, 12, 13, 14, 15, 16])  \n",
    "\n",
    "nova = matriz.reshape(2,2,4)\n",
    "\n",
    "print(nova)"
   ]
  },
  {
   "cell_type": "markdown",
   "id": "69afd78a",
   "metadata": {},
   "source": [
    "Para expressar melhor a ideia, pode-se formar uma lógica quanto ao reshape onde os parâmetros dentro da função recorrem ao número de matrizes, número de linhas, e número de colunas respectivamente.\n",
    "\n",
    "\n",
    "### $\\color{blue}{\\text{Remodelamento em qualquer forma}}$\n",
    "É possível remodelar em qualquer forma, mas apenas se os elementos necessários sejam iguais em ambas formas.\n",
    "\n",
    "Um remodelamento de uma matriz 1D de 8 elementos em 4 elementos em uma matriz 2D com duas linhas pode ser feito, mas não pode reformular em uma matriz 2D de 3 elementos e 3 linhas, por fatores matemáticos onde 3x3 = 9 elementos.\n",
    "\n",
    "Exemplo:\n"
   ]
  },
  {
   "cell_type": "code",
   "execution_count": 21,
   "id": "f015de31",
   "metadata": {},
   "outputs": [
    {
     "ename": "ValueError",
     "evalue": "cannot reshape array of size 8 into shape (3,3)",
     "output_type": "error",
     "traceback": [
      "\u001b[1;31m---------------------------------------------------------------------------\u001b[0m",
      "\u001b[1;31mValueError\u001b[0m                                Traceback (most recent call last)",
      "Input \u001b[1;32mIn [21]\u001b[0m, in \u001b[0;36m<cell line: 5>\u001b[1;34m()\u001b[0m\n\u001b[0;32m      1\u001b[0m \u001b[38;5;28;01mimport\u001b[39;00m \u001b[38;5;21;01mnumpy\u001b[39;00m \u001b[38;5;28;01mas\u001b[39;00m \u001b[38;5;21;01mnp\u001b[39;00m\n\u001b[0;32m      3\u001b[0m matriz \u001b[38;5;241m=\u001b[39m np\u001b[38;5;241m.\u001b[39marray([\u001b[38;5;241m1\u001b[39m, \u001b[38;5;241m2\u001b[39m, \u001b[38;5;241m3\u001b[39m, \u001b[38;5;241m4\u001b[39m, \u001b[38;5;241m5\u001b[39m, \u001b[38;5;241m6\u001b[39m, \u001b[38;5;241m7\u001b[39m, \u001b[38;5;241m8\u001b[39m])\n\u001b[1;32m----> 5\u001b[0m nova \u001b[38;5;241m=\u001b[39m \u001b[43mmatriz\u001b[49m\u001b[38;5;241;43m.\u001b[39;49m\u001b[43mreshape\u001b[49m\u001b[43m(\u001b[49m\u001b[38;5;241;43m3\u001b[39;49m\u001b[43m,\u001b[49m\u001b[43m \u001b[49m\u001b[38;5;241;43m3\u001b[39;49m\u001b[43m)\u001b[49m\n\u001b[0;32m      7\u001b[0m \u001b[38;5;28mprint\u001b[39m(nova)\n",
      "\u001b[1;31mValueError\u001b[0m: cannot reshape array of size 8 into shape (3,3)"
     ]
    }
   ],
   "source": [
    "import numpy as np\n",
    "\n",
    "matriz = np.array([1, 2, 3, 4, 5, 6, 7, 8])\n",
    "\n",
    "nova = matriz.reshape(3, 3)\n",
    "\n",
    "print(nova)"
   ]
  },
  {
   "cell_type": "markdown",
   "id": "940d8edc",
   "metadata": {},
   "source": [
    "Além disso, é possível saber se o remodelamente é uma cópia ou uma visualização(view) da matriz original.\n",
    "No exemplo abaixo, irá retornar a matriz original, logo é uma visualização (view)."
   ]
  },
  {
   "cell_type": "code",
   "execution_count": 25,
   "id": "de131ffd",
   "metadata": {},
   "outputs": [
    {
     "name": "stdout",
     "output_type": "stream",
     "text": [
      "[1 2 3 4 5 6 7 8]\n"
     ]
    }
   ],
   "source": [
    "import numpy as np\n",
    "\n",
    "matriz = np.array([1, 2, 3, 4, 5, 6, 7, 8])\n",
    "\n",
    "print(matriz.reshape(2, 4).base)"
   ]
  },
  {
   "cell_type": "markdown",
   "id": "cfc06e86",
   "metadata": {},
   "source": [
    "### $\\color{blue}{\\text{Dimensão deconhecida}}$\n",
    "Há uma possibilidade de obter uma dimensão desconhecida. Ou seja, não é preciso especificar o número exato para dimensões em colunas em remodelação.\n",
    "\n",
    "Usando **-1** como valor e o próprio NumPy calculará,\n",
    "\n",
    "Exemplo: (Converter um array 1D com 10 elementos para um array 3D com 5x2 elementos)\n"
   ]
  },
  {
   "cell_type": "code",
   "execution_count": 31,
   "id": "7a74c742",
   "metadata": {},
   "outputs": [
    {
     "name": "stdout",
     "output_type": "stream",
     "text": [
      "[[[ 1]\n",
      "  [ 2]\n",
      "  [ 3]\n",
      "  [ 4]\n",
      "  [ 5]]\n",
      "\n",
      " [[ 6]\n",
      "  [ 7]\n",
      "  [ 8]\n",
      "  [ 9]\n",
      "  [10]]]\n"
     ]
    }
   ],
   "source": [
    "import numpy as np\n",
    "\n",
    "matriz = np.array([1, 2, 3, 4, 5, 6, 7, 8,9,10])\n",
    "\n",
    "nova = matriz.reshape(2,5,-1)\n",
    "\n",
    "print(nova)"
   ]
  },
  {
   "cell_type": "code",
   "execution_count": 32,
   "id": "b58b3393",
   "metadata": {},
   "outputs": [
    {
     "name": "stdout",
     "output_type": "stream",
     "text": [
      "[[[1 2]\n",
      "  [3 4]]\n",
      "\n",
      " [[5 6]\n",
      "  [7 8]]]\n"
     ]
    }
   ],
   "source": [
    "# Outra demonstração com 2x2\n",
    "import numpy as np\n",
    "\n",
    "matriz = np.array([1, 2, 3, 4, 5, 6, 7, 8])\n",
    "\n",
    "nova = matriz.reshape(2,2,-1)\n",
    "\n",
    "print(nova)"
   ]
  },
  {
   "cell_type": "markdown",
   "id": "6bab4964",
   "metadata": {},
   "source": [
    "> ##### $\\color{magenta}{\\text{Não pode usar -1 para mais de uma dimensão.}}$\n"
   ]
  },
  {
   "cell_type": "markdown",
   "id": "a1c36674",
   "metadata": {},
   "source": [
    "#### $\\color{blue}{\\text{Achatamento de matrizes}}$\n",
    "\n",
    "Isso siginifica converter uma matriz multidimensional em uma matriz 1D. Pode-se dizer que é o inverso do remodelamento.\n",
    "\n",
    "Usando apenas **.reshape(-1)** para realizar isso.\n",
    "\n",
    "Exemplo: (Converter uma matriz 2D para 1D)."
   ]
  },
  {
   "cell_type": "code",
   "execution_count": 34,
   "id": "20c74213",
   "metadata": {},
   "outputs": [
    {
     "name": "stdout",
     "output_type": "stream",
     "text": [
      "[ 1  2  3  4  5  6  7  8  9 10]\n"
     ]
    }
   ],
   "source": [
    "import numpy as np\n",
    "\n",
    "matriz = np.array([[1, 2, 3, 4, 5],[ 6, 7, 8, 9, 10]])\n",
    "\n",
    "nova = matriz.reshape(-1)\n",
    "\n",
    "print(nova)"
   ]
  },
  {
   "cell_type": "markdown",
   "id": "77dfa4b8",
   "metadata": {},
   "source": [
    "Existem muitas funções para alterar as formas de matrizes em numpy flatten, ravele também para reorganizar os elementos rot90, flip, fliplr, flipud. Elas se enquadram em um estudo mais avançado do NumPy.\n",
    "\n",
    "### $\\color{blue}{\\text{Iteração de matriz}}$\n",
    "Significa passar os elementos um por um\n",
    "Como estamos utilizando arrays multidimensionais em NumPy, pode ser usado o loop for de python para isso. \n",
    "\n",
    "#### $\\color{red}{\\text{Iteração arrays 1D}}$\n",
    "Se for inteirado um array 1D, ele passará por cada elemento um por um.\n",
    "\n",
    "Exemplo:"
   ]
  },
  {
   "cell_type": "code",
   "execution_count": 35,
   "id": "8c515208",
   "metadata": {},
   "outputs": [
    {
     "name": "stdout",
     "output_type": "stream",
     "text": [
      "10\n",
      "20\n",
      "30\n"
     ]
    }
   ],
   "source": [
    "import numpy as np\n",
    "\n",
    "matriz = np.array([10, 20, 30])\n",
    "\n",
    "for x in matriz:\n",
    "  print(x)"
   ]
  },
  {
   "cell_type": "markdown",
   "id": "76ac58e1",
   "metadata": {},
   "source": [
    "#### $\\color{red}{\\text{Iteração arrays 2D}}$\n",
    "Em uma matriz 2-D, ele passará por todas as linhas.\n",
    "\n",
    "Exemplo:"
   ]
  },
  {
   "cell_type": "code",
   "execution_count": 36,
   "id": "d4bb11ec",
   "metadata": {},
   "outputs": [
    {
     "name": "stdout",
     "output_type": "stream",
     "text": [
      "[10 20 30]\n",
      "[40 50 60]\n"
     ]
    }
   ],
   "source": [
    "import numpy as np\n",
    "\n",
    "matriz = np.array([[10, 20, 30],[40, 50, 60]])\n",
    "\n",
    "for x in matriz:\n",
    "  print(x)"
   ]
  },
  {
   "cell_type": "markdown",
   "id": "5097a5c0",
   "metadata": {},
   "source": [
    "Se for iterado um array nD, ele passará pela n-1ª dimensão um por um. Ou seja, fazer um for dentro de um for, uma iteração dentro de outra.\n",
    "\n",
    "Exemplo: (Iterar em cada elemento escalar de um array 2D)"
   ]
  },
  {
   "cell_type": "code",
   "execution_count": 38,
   "id": "81b55082",
   "metadata": {},
   "outputs": [
    {
     "name": "stdout",
     "output_type": "stream",
     "text": [
      "10\n",
      "20\n",
      "30\n",
      "40\n",
      "50\n",
      "60\n"
     ]
    }
   ],
   "source": [
    "import numpy as np\n",
    "\n",
    "matriz = np.array([[10, 20, 30],[40, 50, 60]])\n",
    "\n",
    "for x in matriz:\n",
    "    for y in x:\n",
    "      print(y)"
   ]
  },
  {
   "cell_type": "markdown",
   "id": "66bd8d89",
   "metadata": {},
   "source": [
    "#### $\\color{red}{\\text{Iteração arrays 3D}}$\n",
    "Em uma matriz 3D, ele passará por todas as matrizes 2D.\n",
    "\n",
    "Exemplo:"
   ]
  },
  {
   "cell_type": "code",
   "execution_count": 58,
   "id": "a40e6d7b",
   "metadata": {},
   "outputs": [
    {
     "name": "stdout",
     "output_type": "stream",
     "text": [
      "[[10 20 30]\n",
      " [40 50 60]]\n",
      " \n",
      "[[70 80 90]\n",
      " [91 92 92]]\n",
      " \n",
      "Demonstração da original:\n",
      "[[[10 20 30]\n",
      "  [40 50 60]]\n",
      "\n",
      " [[70 80 90]\n",
      "  [91 92 92]]]\n"
     ]
    }
   ],
   "source": [
    "import numpy as np\n",
    "\n",
    "matriz = np.array([[[10, 20, 30],[40, 50, 60]],[[70, 80, 90],[ 91, 92, 92]]])\n",
    "\n",
    "for x in matriz:\n",
    "    print(x)\n",
    "    print(\" \") \n",
    "    \n",
    "print(\"Demonstração da original:\")\n",
    "print(matriz)"
   ]
  },
  {
   "cell_type": "markdown",
   "id": "dd12f381",
   "metadata": {},
   "source": [
    "É apenas questão de detalhe quanto ao colchetes. Veja a diferença acima. \n",
    "Para retornar os valores reais, os escalares, tem que iterar os arrays em cada dimensão.\n",
    "\n",
    "Exemplo: (Iterar os escalares)"
   ]
  },
  {
   "cell_type": "code",
   "execution_count": 60,
   "id": "f379b0a5",
   "metadata": {},
   "outputs": [
    {
     "name": "stdout",
     "output_type": "stream",
     "text": [
      "10\n",
      "20\n",
      "30\n",
      "40\n",
      "50\n",
      "60\n",
      "70\n",
      "80\n",
      "90\n",
      "91\n",
      "92\n",
      "92\n"
     ]
    }
   ],
   "source": [
    "import numpy as np\n",
    "\n",
    "matriz = np.array([[[10, 20, 30],[40, 50, 60]],[[70, 80, 90],[ 91, 92, 92]]])\n",
    "\n",
    "for x in matriz:\n",
    "    for y in x:\n",
    "        for z in y:\n",
    "            print(z)"
   ]
  },
  {
   "attachments": {
    "image.png": {
     "image/png": "[encoded data removed]"
    }
   },
   "cell_type": "markdown",
   "id": "297a6e40",
   "metadata": {},
   "source": [
    "Funcionando tal qual um modulo vetor 3D:\n",
    "   ![image.png](attachment:image.png)"
   ]
  },
  {
   "cell_type": "markdown",
   "id": "cbf4db26",
   "metadata": {},
   "source": [
    "### $\\color{blue}{\\text{Iteração com nditer()}}$\n",
    "\n",
    "A função **nditer()** é uma função de ajuda que pode ser usada de iterações muito básicas a muito avançadas. Ele resolve alguns problemas básicos na iteração.\n",
    "\n",
    "#### $\\color{red}{\\text{Iterando cada elemento escalar}}$\n",
    "\n",
    "Em for, iterando através de cada escalar de um array, precisa-se usar **n for** que podem ser difíceis de escrever para arrays com dimensionalidade muito alta, por isso o nditer() ajuda e simplifica o código a ser executado.\n",
    "\n",
    "Exemplo: (Itere através de uma matriz 3D)"
   ]
  },
  {
   "cell_type": "code",
   "execution_count": 61,
   "id": "6773d27f",
   "metadata": {},
   "outputs": [
    {
     "name": "stdout",
     "output_type": "stream",
     "text": [
      "1\n",
      "2\n",
      "3\n",
      "4\n",
      "5\n",
      "6\n",
      "7\n",
      "8\n"
     ]
    }
   ],
   "source": [
    "import numpy as np\n",
    "\n",
    "matriz = np.array([[[1, 2], [3, 4]], [[5, 6], [7, 8]]])\n",
    "\n",
    "for x in np.nditer(matriz):\n",
    "  print(x)"
   ]
  },
  {
   "cell_type": "markdown",
   "id": "c34a40cd",
   "metadata": {},
   "source": [
    "### $\\color{blue}{\\text{Iterando array com outros tipos de dados}}$\n",
    "\n",
    "Pode ser usado o argumento **op_dtypes** e passar o tipo de dados esperado para alterar o tipo de dados dos elementos durante a iteração.\n",
    "\n",
    "O NumPy não altera o tipo de dados do elemento no local (onde o elemento está no array), portanto, ele precisa de algum outro espaço para executar essa ação, esse espaço extra é chamado de buffer e, para habilitá-lo, através do **nditer()**, adiciona **flags=['buffered']**.\n",
    "\n",
    "Exemplo: (Iterar o array como string)"
   ]
  },
  {
   "cell_type": "code",
   "execution_count": 62,
   "id": "114737ca",
   "metadata": {},
   "outputs": [
    {
     "name": "stdout",
     "output_type": "stream",
     "text": [
      "b'1'\n",
      "b'2'\n",
      "b'3'\n"
     ]
    }
   ],
   "source": [
    "import numpy as np\n",
    "\n",
    "matriz = np.array([1, 2, 3])\n",
    "\n",
    "for x in np.nditer(matriz, flags=['buffered'], op_dtypes=['S']):\n",
    "  print(x)"
   ]
  },
  {
   "cell_type": "markdown",
   "id": "2153a2a8",
   "metadata": {},
   "source": [
    "### $\\color{blue}{\\text{Iterando com tamanho de step diferente}}$\n",
    "Pode usar filtragem e seguido de iteração.\n",
    "\n",
    "Exemplo: (Iterar através de cada elemento escalar do array 2D pulando 1 elemento)"
   ]
  },
  {
   "cell_type": "code",
   "execution_count": 63,
   "id": "eb59b134",
   "metadata": {},
   "outputs": [
    {
     "name": "stdout",
     "output_type": "stream",
     "text": [
      "1\n",
      "3\n",
      "5\n",
      "7\n"
     ]
    }
   ],
   "source": [
    "import numpy as np\n",
    "\n",
    "matriz = np.array([[1, 2, 3, 4], [5, 6, 7, 8]])\n",
    "\n",
    "for x in np.nditer(matriz[:, ::2]):\n",
    "  print(x)"
   ]
  },
  {
   "cell_type": "code",
   "execution_count": 67,
   "id": "81fc1891",
   "metadata": {},
   "outputs": [
    {
     "name": "stdout",
     "output_type": "stream",
     "text": [
      "1\n",
      "4\n",
      "7\n",
      "10\n"
     ]
    }
   ],
   "source": [
    "# Outro exemplo, pulando 2 elementos\n",
    "import numpy as np\n",
    "\n",
    "matriz = np.array([[1, 2, 3, 4, 5, 6], [7, 8, 9, 10, 11, 12]])\n",
    "\n",
    "for x in np.nditer(matriz[:, ::3]):\n",
    "  print(x)"
   ]
  },
  {
   "cell_type": "markdown",
   "id": "139213e4",
   "metadata": {},
   "source": [
    " A única divergência é a lógica da questão pedida em comparação ao Step visto em outros arquivos, é pedido para pular 2 elementos, logo não contaremos com o elemento contado, por isso o step foi 3, e no exemplo anterior o step foi 2. Uma vez que essa função contabilidade o último índice. Lembrando que os :: vazio siginificam ínicio e final.\n",
    " \n",
    " Como: **1**, 2, 3, **4**\n",
    " \n",
    " Há dois elementos entre os valores, ou seja, foi pulado a cada dois elementos."
   ]
  },
  {
   "cell_type": "markdown",
   "id": "54675134",
   "metadata": {},
   "source": [
    "### $\\color{blue}{\\text{Iteração enumerada com ndenumerate()}}$\n",
    "\n",
    "Enumeração significa mencionar o número de sequência de algumas coisas uma a uma.\n",
    "\n",
    "Às vezes, é exigido o índice correspondente do elemento durante a iteração, o método **ndenumerate()** pode ser usado para esses casos de uso. Em resumo, os índices são enumerados.\n",
    "\n",
    "Exemplo: (Enumerar os elementos da matriz 1D)"
   ]
  },
  {
   "cell_type": "code",
   "execution_count": 69,
   "id": "7936d872",
   "metadata": {},
   "outputs": [
    {
     "name": "stdout",
     "output_type": "stream",
     "text": [
      "(0,) 1\n",
      "(1,) 2\n",
      "(2,) 3\n",
      "(3,) 4\n"
     ]
    }
   ],
   "source": [
    "import numpy as np\n",
    "\n",
    "matriz = np.array([1, 2, 3, 4])\n",
    "\n",
    "for idx, x in np.ndenumerate(matriz):\n",
    "  print(idx, x)"
   ]
  },
  {
   "cell_type": "code",
   "execution_count": 72,
   "id": "9e7d2705",
   "metadata": {},
   "outputs": [
    {
     "name": "stdout",
     "output_type": "stream",
     "text": [
      "(0, 0) 1\n",
      "(0, 1) 2\n",
      "(0, 2) 3\n",
      "(0, 3) 4\n",
      "(1, 0) 5\n",
      "(1, 1) 6\n",
      "(1, 2) 7\n",
      "(1, 3) 8\n"
     ]
    }
   ],
   "source": [
    "# Outro exemplo: 2D\n",
    "import numpy as np\n",
    "\n",
    "matriz = np.array([[1, 2, 3, 4], [5, 6, 7, 8]])\n",
    "\n",
    "for idx, x in np.ndenumerate(matriz):\n",
    "  print(idx, x)\n"
   ]
  },
  {
   "cell_type": "code",
   "execution_count": 78,
   "id": "cd3523a8",
   "metadata": {},
   "outputs": [
    {
     "name": "stdout",
     "output_type": "stream",
     "text": [
      "(0, 0, 0) 1\n",
      "(0, 0, 1) 2\n",
      "(0, 0, 2) 3\n",
      "(0, 1, 0) 4\n",
      "(0, 1, 1) 5\n",
      "(0, 1, 2) 6\n",
      "(1, 0, 0) 7\n",
      "(1, 0, 1) 8\n",
      "(1, 0, 2) 9\n",
      "(1, 1, 0) 10\n",
      "(1, 1, 1) 11\n",
      "(1, 1, 2) 12\n"
     ]
    }
   ],
   "source": [
    "# Outro exemplo: 3D\n",
    "import numpy as np\n",
    "\n",
    "matriz = np.array([[[1, 2 ,3], [4, 5, 6]], [[7, 8, 9], [10, 11, 12]]])\n",
    "\n",
    "for idx,x in np.ndenumerate(matriz):\n",
    "  print(idx, x)"
   ]
  },
  {
   "cell_type": "markdown",
   "id": "d842912a",
   "metadata": {},
   "source": [
    "\n",
    "#### Para mais específicações: \n",
    "##### [Numpy.reshape](https://numpy.org/doc/stable/reference/generated/numpy.reshape.html?highlight=reshape#numpy.reshape)\n",
    "\n",
    "##### [Iterating Over Arrays](https://numpy.org/doc/stable/reference/arrays.nditer.html#arrays-nditer)\n",
    "\n",
    "##### [Numpy.nditer](https://numpy.org/doc/stable/reference/generated/numpy.nditer.html?highlight=numpy%20nditer)\n",
    "\n",
    "##### [Numpy.ndenumerate](https://numpy.org/doc/stable/reference/generated/numpy.ndenumerate.html?highlight=ndenumerate)"
   ]
  }
 ],
 "metadata": {
  "kernelspec": {
   "display_name": "Python 3 (ipykernel)",
   "language": "python",
   "name": "python3"
  },
  "language_info": {
   "codemirror_mode": {
    "name": "ipython",
    "version": 3
   },
   "file_extension": ".py",
   "mimetype": "text/x-python",
   "name": "python",
   "nbconvert_exporter": "python",
   "pygments_lexer": "ipython3",
   "version": "3.9.12"
  }
 },
 "nbformat": 4,
 "nbformat_minor": 5
}
