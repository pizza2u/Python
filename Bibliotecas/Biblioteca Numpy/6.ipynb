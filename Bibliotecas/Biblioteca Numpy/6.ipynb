{
 "cells": [
  {
   "cell_type": "markdown",
   "id": "5edd6163",
   "metadata": {},
   "source": [
    "### $\\color{blue}{\\text{Junção de matrizes em NumPy}}$\n",
    "#### $\\color{red}{\\text{Unindo matrizes}}$\n",
    "Unir significa colocar o conteúdo de dois ou mais arrays em um único array. No NumPy a união de matrizes é feita por eixos, ou seja concatenação.\n",
    "\n",
    "É passado uma sequência de arrays que se deseja unir para a função **concatenate()**, junto com o eixo. Se o eixo não for explicitamente passado, será considerado 0.\n",
    "\n",
    "Por exemplo com eixo = 2: **np.concatenate((matriz1,matriz2), axis = 2)**\n",
    "\n",
    "Exemplo:"
   ]
  },
  {
   "cell_type": "code",
   "execution_count": 2,
   "id": "f4caaf26",
   "metadata": {},
   "outputs": [
    {
     "name": "stdout",
     "output_type": "stream",
     "text": [
      "[1 2 3 4 5 6]\n"
     ]
    }
   ],
   "source": [
    "import numpy as np\n",
    "\n",
    "matriz1 = np.array([1, 2, 3])\n",
    "\n",
    "matriz2 = np.array([4, 5, 6])\n",
    "\n",
    "matriz = np.concatenate((matriz1, matriz2))\n",
    "\n",
    "print(matriz)"
   ]
  },
  {
   "cell_type": "code",
   "execution_count": 3,
   "id": "1dfec550",
   "metadata": {},
   "outputs": [
    {
     "name": "stdout",
     "output_type": "stream",
     "text": [
      "[[1 2 5 6]\n",
      " [3 4 7 8]]\n"
     ]
    }
   ],
   "source": [
    "# Juntar duas matrizes 2D ao longo das linhas com eixo=1\n",
    "import numpy as np\n",
    "\n",
    "matriz1 = np.array([[1, 2], [3, 4]])\n",
    "\n",
    "matriz2 = np.array([[5, 6], [7, 8]])\n",
    "\n",
    "matriz = np.concatenate((matriz1, matriz2), axis=1)\n",
    "\n",
    "print(matriz)"
   ]
  },
  {
   "cell_type": "markdown",
   "id": "6c6ac0ed",
   "metadata": {},
   "source": [
    "#### $\\color{red}{\\text{Unindo arrays usando função stack }}$\n",
    "O stacking(empilhamento) é o mesmo que a concatenação, a única diferença é que o empilhamento é feito ao longo de um novo eixo.\n",
    "\n",
    "É possível concatenar dois arrays 1D ao longo do segundo eixo, o que resultaria em colocá-los um sobre o outro, ou seja, um empilhamento.\n",
    "\n",
    "É passado uma sequência de arrays que é optador por unir ao método **stack()** junto com o eixo. Se o eixo não for explicitamente passado, será considerado 0.\n",
    "\n",
    "Exemplo:"
   ]
  },
  {
   "cell_type": "code",
   "execution_count": 4,
   "id": "7cd4e719",
   "metadata": {},
   "outputs": [
    {
     "name": "stdout",
     "output_type": "stream",
     "text": [
      "[[1 4]\n",
      " [2 5]\n",
      " [3 6]]\n"
     ]
    }
   ],
   "source": [
    "import numpy as np\n",
    "\n",
    "matriz1 = np.array([1, 2, 3])\n",
    "\n",
    "matriz2 = np.array([4, 5, 6])\n",
    "\n",
    "matriz = np.stack((matriz1, matriz2), axis=1)\n",
    "\n",
    "print(matriz)"
   ]
  },
  {
   "cell_type": "markdown",
   "id": "78249c0e",
   "metadata": {},
   "source": [
    "#### $\\color{red}{\\text{Stacking(empilhamento) ao longo das linhas }}$\n",
    "\n",
    "O NumPy fornece uma função auxiliar: **hstack()** para empilhar ao longo das linhas."
   ]
  },
  {
   "cell_type": "code",
   "execution_count": 9,
   "id": "39ffeecd",
   "metadata": {},
   "outputs": [
    {
     "name": "stdout",
     "output_type": "stream",
     "text": [
      "[1 2 3 4 5 6]\n"
     ]
    }
   ],
   "source": [
    "import numpy as np\n",
    "\n",
    "matriz1 = np.array([1, 2, 3])\n",
    "\n",
    "matriz2 = np.array([4, 5, 6])\n",
    "\n",
    "matriz = np.hstack((matriz1, matriz2))\n",
    "\n",
    "print(matriz)"
   ]
  },
  {
   "cell_type": "markdown",
   "id": "3ee494b0",
   "metadata": {},
   "source": [
    "#### $\\color{red}{\\text{Stacking(empilhamento) ao longo das colunas }}$\n",
    "NumPy fornece uma função auxiliar: **vstack()** para empilhar ao longo de colunas."
   ]
  },
  {
   "cell_type": "code",
   "execution_count": 10,
   "id": "aa101fe7",
   "metadata": {},
   "outputs": [
    {
     "name": "stdout",
     "output_type": "stream",
     "text": [
      "[[1 2 3]\n",
      " [4 5 6]]\n"
     ]
    }
   ],
   "source": [
    "import numpy as np\n",
    "\n",
    "matriz1 = np.array([1, 2, 3])\n",
    "\n",
    "matriz2 = np.array([4, 5, 6])\n",
    "\n",
    "matriz = np.vstack((matriz1, matriz2))\n",
    "\n",
    "print(matriz)"
   ]
  },
  {
   "cell_type": "markdown",
   "id": "f901840f",
   "metadata": {},
   "source": [
    "#### $\\color{red}{\\text{Stacking(empilhamento) ao longo da altura(profundidade)}}$\n",
    "NumPy fornece uma função auxiliar: **dstack()** para empilhar ao longo da altura, que é o mesmo que profundidade."
   ]
  },
  {
   "cell_type": "code",
   "execution_count": 11,
   "id": "2c353609",
   "metadata": {},
   "outputs": [
    {
     "name": "stdout",
     "output_type": "stream",
     "text": [
      "[[[1 4]\n",
      "  [2 5]\n",
      "  [3 6]]]\n"
     ]
    }
   ],
   "source": [
    "import numpy as np\n",
    "\n",
    "matriz1 = np.array([1, 2, 3])\n",
    "\n",
    "matriz2 = np.array([4, 5, 6])\n",
    "\n",
    "matriz = np.dstack((matriz1, matriz2))\n",
    "\n",
    "print(matriz)"
   ]
  },
  {
   "cell_type": "markdown",
   "id": "6ad4d86e",
   "metadata": {},
   "source": [
    "### $\\color{blue}{\\text{Divisão de matrizes em NumPy}}$\n",
    "#### $\\color{red}{\\text{Divindo matrizes}}$\n",
    "A divisão é a operação inversa da junção.\n",
    "\n",
    "A junção mescla vários arrays em um e a divisão quebra um array em vários.\n",
    "\n",
    "Usa-se **array_split()** para dividir arrays, em que é passado o array que irá dividir e o número de divisões.\n",
    "\n",
    "Exemplo: (Dividir a matriz em 3 partes)"
   ]
  },
  {
   "cell_type": "code",
   "execution_count": 13,
   "id": "7c7e7a3b",
   "metadata": {},
   "outputs": [
    {
     "name": "stdout",
     "output_type": "stream",
     "text": [
      "[array([1, 2]), array([3, 4]), array([5, 6])]\n"
     ]
    }
   ],
   "source": [
    "import numpy as np\n",
    "\n",
    "array = np.array([1, 2, 3, 4, 5, 6])\n",
    "\n",
    "array2 = np.array_split(array, 3)\n",
    "\n",
    "print(array2)"
   ]
  },
  {
   "cell_type": "markdown",
   "id": "a8c47b71",
   "metadata": {},
   "source": [
    "O valor de retorno é um array contendo três arrays.\n",
    "Se a matriz tiver menos elementos do que o necessário, ela será ajustada do final de acordo.\n",
    "\n",
    "Exemplo:(Dividir a matriz em 4 partes)"
   ]
  },
  {
   "cell_type": "code",
   "execution_count": 14,
   "id": "2a2bc43f",
   "metadata": {},
   "outputs": [
    {
     "name": "stdout",
     "output_type": "stream",
     "text": [
      "[array([1, 2]), array([3, 4]), array([5]), array([6])]\n"
     ]
    }
   ],
   "source": [
    "import numpy as np\n",
    "\n",
    "array = np.array([1, 2, 3, 4, 5, 6])\n",
    "\n",
    "array2 = np.array_split(array, 4)\n",
    "\n",
    "print(array2)"
   ]
  },
  {
   "cell_type": "markdown",
   "id": "df35fa4a",
   "metadata": {},
   "source": [
    "Também existe o método split() disponível, mas ele não ajustará os elementos quando os elementos estiverem em menor quantidade na matriz de origem para divisão como no exemplo acima, array_split() funcionou corretamente, mas split()falharia. \n",
    "\n",
    "O valor de retorno do método **array_split()** é um array contendo cada divisão como um array.\n",
    "\n",
    "Se for dividido um array em 3 arrays, poderá acessá-los a partir do resultado como qualquer elemento do array:\n"
   ]
  },
  {
   "cell_type": "code",
   "execution_count": 18,
   "id": "a83cd48a",
   "metadata": {},
   "outputs": [
    {
     "name": "stdout",
     "output_type": "stream",
     "text": [
      "[1 2]\n",
      "[3 4]\n",
      "[5 6]\n"
     ]
    }
   ],
   "source": [
    "import numpy as np\n",
    "\n",
    "array = np.array([1, 2, 3, 4, 5, 6])\n",
    "\n",
    "array2 = np.array_split(array, 3)\n",
    "\n",
    "print(array2[0])\n",
    "print(array2[1])\n",
    "print(array2[2])"
   ]
  },
  {
   "cell_type": "markdown",
   "id": "53023720",
   "metadata": {},
   "source": [
    "#### $\\color{red}{\\text{Divindo arrays 2D}}$\n",
    "Usa-se a mesma sintaxe ao dividir matrizes 2D.\n",
    "\n",
    "Com o método **array_split()**, passando o array que deseja dividir e o número de divisões que deseja fazer.\n",
    "\n",
    "Exemplo: (Dividir a matriz 2D em três matrizes 2D)"
   ]
  },
  {
   "cell_type": "code",
   "execution_count": 21,
   "id": "3619b672",
   "metadata": {},
   "outputs": [
    {
     "name": "stdout",
     "output_type": "stream",
     "text": [
      "[array([[1, 2],\n",
      "       [3, 4]]), array([[5, 6],\n",
      "       [7, 8]]), array([[ 9, 10],\n",
      "       [11, 12]])]\n"
     ]
    }
   ],
   "source": [
    "import numpy as np\n",
    "\n",
    "array = np.array([[1, 2], [3, 4], [5, 6], \n",
    "                  [7, 8], [9, 10], [11, 12]])\n",
    "\n",
    "array2 = np.array_split(array, 3)\n",
    "\n",
    "print(array2)"
   ]
  },
  {
   "cell_type": "markdown",
   "id": "73aeb3f9",
   "metadata": {},
   "source": [
    "O exemplo acima retorna três arrays 2D.\n",
    "\n",
    "Exemplo: (Dividir uma matriz 2D em três matrizes 2D mas com 3 elementos)"
   ]
  },
  {
   "cell_type": "code",
   "execution_count": 22,
   "id": "67a176f3",
   "metadata": {},
   "outputs": [
    {
     "name": "stdout",
     "output_type": "stream",
     "text": [
      "[array([[1, 2, 3],\n",
      "       [4, 5, 6]]), array([[ 7,  8,  9],\n",
      "       [10, 11, 12]]), array([[13, 14, 15],\n",
      "       [16, 17, 18]])]\n"
     ]
    }
   ],
   "source": [
    "import numpy as np\n",
    "\n",
    "array = np.array([[1, 2, 3], [4, 5, 6], [7, 8, 9], [10, 11, 12], [13, 14, 15], [16, 17, 18]])\n",
    "\n",
    "array2 = np.array_split(array, 3)\n",
    "\n",
    "print(array2)"
   ]
  },
  {
   "cell_type": "markdown",
   "id": "54836806",
   "metadata": {},
   "source": [
    "O exemplo acima retorna três arrays 2-D.\n",
    "\n",
    "Além disso, pode ser especificar em qual eixo deseja fazer a divisão.\n",
    "\n",
    "Exemplo: (Dividir a matriz 2D em três matrizes 2D ao longo das linhas, com eixo=1)"
   ]
  },
  {
   "cell_type": "code",
   "execution_count": 24,
   "id": "77b29f70",
   "metadata": {},
   "outputs": [
    {
     "name": "stdout",
     "output_type": "stream",
     "text": [
      "[array([[ 1],\n",
      "       [ 4],\n",
      "       [ 7],\n",
      "       [10],\n",
      "       [13],\n",
      "       [16]]), array([[ 2],\n",
      "       [ 5],\n",
      "       [ 8],\n",
      "       [11],\n",
      "       [14],\n",
      "       [17]]), array([[ 3],\n",
      "       [ 6],\n",
      "       [ 9],\n",
      "       [12],\n",
      "       [15],\n",
      "       [18]])]\n"
     ]
    }
   ],
   "source": [
    "import numpy as np\n",
    "\n",
    "array = np.array([[1, 2, 3], [4, 5, 6], [7, 8, 9],\n",
    "                  [10, 11, 12], [13, 14, 15], [16, 17, 18]])\n",
    "\n",
    "array2 = np.array_split(array, 3, axis=1)\n",
    "\n",
    "print(array2)"
   ]
  },
  {
   "cell_type": "markdown",
   "id": "3736a578",
   "metadata": {},
   "source": [
    "Uma solução alternativa é usar o hsplit()oposto de hstack()\n",
    "\n",
    "Exemplo: (Usar o hsplit() para dividir a matriz 2D em três matrizes 2D ao longo das linhas)"
   ]
  },
  {
   "cell_type": "code",
   "execution_count": 26,
   "id": "304b08c6",
   "metadata": {},
   "outputs": [
    {
     "name": "stdout",
     "output_type": "stream",
     "text": [
      "[array([[ 1],\n",
      "       [ 4],\n",
      "       [ 7],\n",
      "       [10],\n",
      "       [13],\n",
      "       [16]]), array([[ 2],\n",
      "       [ 5],\n",
      "       [ 8],\n",
      "       [11],\n",
      "       [14],\n",
      "       [17]]), array([[ 3],\n",
      "       [ 6],\n",
      "       [ 9],\n",
      "       [12],\n",
      "       [15],\n",
      "       [18]])]\n"
     ]
    }
   ],
   "source": [
    "import numpy as np\n",
    "\n",
    "array = np.array([[1, 2, 3], [4, 5, 6], [7, 8, 9], \n",
    "                  [10, 11, 12], [13, 14, 15], [16, 17, 18]])\n",
    "\n",
    "array2 = np.hsplit(array, 3)\n",
    "\n",
    "print(array2)"
   ]
  },
  {
   "cell_type": "markdown",
   "id": "12decdef",
   "metadata": {},
   "source": [
    "Alternativas semelhantes para vstack()e dstack() são vsplit()e dsplit(). "
   ]
  },
  {
   "cell_type": "markdown",
   "id": "36170439",
   "metadata": {},
   "source": [
    "#### Para mais específicações: \n",
    "#### [Numpy.concatenate](https://numpy.org/doc/stable/reference/generated/numpy.concatenate.html?highlight=concatenate#numpy.concatenate) \n",
    "#### [Numpy.stack](https://numpy.org/doc/stable/reference/generated/numpy.stack.html?highlight=stack#numpy.stack)\n",
    "##### [Numpy.split](https://numpy.org/doc/stable/reference/generated/numpy.split.html?highlight=splitting)\n"
   ]
  }
 ],
 "metadata": {
  "kernelspec": {
   "display_name": "Python 3 (ipykernel)",
   "language": "python",
   "name": "python3"
  },
  "language_info": {
   "codemirror_mode": {
    "name": "ipython",
    "version": 3
   },
   "file_extension": ".py",
   "mimetype": "text/x-python",
   "name": "python",
   "nbconvert_exporter": "python",
   "pygments_lexer": "ipython3",
   "version": "3.9.12"
  }
 },
 "nbformat": 4,
 "nbformat_minor": 5
}
