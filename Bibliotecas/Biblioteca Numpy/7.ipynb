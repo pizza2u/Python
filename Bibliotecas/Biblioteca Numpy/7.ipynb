{
 "cells": [
  {
   "cell_type": "markdown",
   "id": "1c60f6e8",
   "metadata": {},
   "source": [
    "### $\\color{blue}{\\text{Matrizes de pesquisa em NumPy}}$\n",
    "#### $\\color{red}{\\text{Pesquisando matrizes}}$\n",
    "\n",
    "Para pesquisar um determinado valor em uma matriz e retornar os índices que obtêm uma correspondência, basta usar o método **where()**.\n",
    "\n",
    "Exemplo: (Encontrar índices onde o valor é 4)"
   ]
  },
  {
   "cell_type": "code",
   "execution_count": 4,
   "id": "f577212f",
   "metadata": {},
   "outputs": [
    {
     "name": "stdout",
     "output_type": "stream",
     "text": [
      "(array([3, 5, 6], dtype=int64),)\n"
     ]
    }
   ],
   "source": [
    "import numpy as np\n",
    "\n",
    "matriz = np.array([1, 2, 3, 4, 5, 4, 4])\n",
    "\n",
    "x = np.where(matriz == 4)\n",
    "\n",
    "print(x)"
   ]
  },
  {
   "cell_type": "markdown",
   "id": "e7fcc432",
   "metadata": {},
   "source": [
    "O exemplo acima retornará uma tupla: (array([3, 5, 6],)\n",
    "\n",
    "O que significa que o valor 4 está presente nos índices 3, 5 e 6.\n",
    "\n",
    "Exemplo: (Encontrar os índices de valores pares)"
   ]
  },
  {
   "cell_type": "code",
   "execution_count": 5,
   "id": "534a2be0",
   "metadata": {},
   "outputs": [
    {
     "name": "stdout",
     "output_type": "stream",
     "text": [
      "(array([1, 3, 5, 7], dtype=int64),)\n"
     ]
    }
   ],
   "source": [
    "import numpy as np\n",
    "\n",
    "matriz = np.array([1, 2, 3, 4, 5, 6, 7, 8])\n",
    "#                  0  1  2  3  4  5  6  7\n",
    "x = np.where(matriz%2 == 0)\n",
    "\n",
    "print(x)"
   ]
  },
  {
   "cell_type": "markdown",
   "id": "9a686c82",
   "metadata": {},
   "source": [
    "Exemplo: (Encontrar os índices de valores ímpares)"
   ]
  },
  {
   "cell_type": "code",
   "execution_count": 6,
   "id": "c6b50360",
   "metadata": {},
   "outputs": [
    {
     "name": "stdout",
     "output_type": "stream",
     "text": [
      "(array([0, 2, 4, 6], dtype=int64),)\n"
     ]
    }
   ],
   "source": [
    "import numpy as np\n",
    "\n",
    "matriz = np.array([1, 2, 3, 4, 5, 6, 7, 8])\n",
    "#                  0  1  2  3  4  5  6  7\n",
    "x = np.where(matriz%2 == 1)\n",
    "\n",
    "print(x)"
   ]
  },
  {
   "cell_type": "markdown",
   "id": "dd58f482",
   "metadata": {},
   "source": [
    " > ##### $\\color{magenta}{\\text{Lembre-se, são os índices, não os valores dos elementos!}}$ \n",
    "\n",
    "<img align=\"center\" src=\"https://c.tenor.com/Hg0OdjUPFGYAAAAd/snsd-girls-generation.gif\" width=\"160\">"
   ]
  },
  {
   "cell_type": "markdown",
   "id": "02e0694f",
   "metadata": {},
   "source": [
    "#### $\\color{red}{\\text{Pesquisa classificada}}$\n",
    "Existe um método chamado **searchsorted()** que realiza uma busca binária no array, e retorna o índice onde o valor especificado seria inserido para manter a ordem de busca.\n",
    "\n",
    "Supõe-se que o método **searchsorted()** seja usado em matrizes classificadas.\n",
    "\n",
    "Exemplo: (Encontrar os índices onde o valor 7 deve se inserido)"
   ]
  },
  {
   "cell_type": "code",
   "execution_count": 7,
   "id": "2d8796a1",
   "metadata": {},
   "outputs": [
    {
     "name": "stdout",
     "output_type": "stream",
     "text": [
      "6\n"
     ]
    }
   ],
   "source": [
    "import numpy as np\n",
    "\n",
    "matriz = np.array([1, 2, 3, 4, 5, 6, 7, 8])\n",
    "#                  0  1  2  3  4  5  6  7\n",
    "x = np.searchsorted(matriz, 7)\n",
    "\n",
    "print(x)"
   ]
  },
  {
   "cell_type": "markdown",
   "id": "1799ee9b",
   "metadata": {},
   "source": [
    "O número 7 deve ser inserido no índice 6 para manter a ordem de classificação.\n",
    "\n",
    "O método inicia a pesquisa pela esquerda e retorna o primeiro índice onde o número 7 está.\n",
    "\n",
    "##### $\\color{green}{\\text{Pesquisar do lado direito}}$\n",
    "Por padrão, o índice mais à esquerda é retornado, mas é possível com **side='right'** retornar o índice mais à direita.\n",
    "\n",
    "Exemplo: (Encontrar os índices onde deve ser inserido o valor 7, começando pela direita)"
   ]
  },
  {
   "cell_type": "code",
   "execution_count": 22,
   "id": "c61683a6",
   "metadata": {},
   "outputs": [
    {
     "name": "stdout",
     "output_type": "stream",
     "text": [
      "2\n"
     ]
    }
   ],
   "source": [
    "import numpy as np\n",
    "\n",
    "matriz = np.array([ 6, 7, 8, 9])\n",
    "\n",
    "x = np.searchsorted(matriz, 7, side='right')\n",
    "\n",
    "print(x)"
   ]
  },
  {
   "cell_type": "markdown",
   "id": "6078cbe2",
   "metadata": {},
   "source": [
    "O número 7 deve ser inserido no índice 2 para manter a ordem de classificação. \n",
    "O método inicia a busca pela direita e retorna o primeiro índice onde o número 7 não é menor que o próximo valor.Pense nisso, como uma leitura agora da esquerda para direita sem o índice 0, começando do 1.\n",
    "\n",
    "\n",
    "##### $\\color{green}{\\text{Vários valores}}$\n",
    "\n",
    "Para pesquisar mais de um valor, use uma matriz com os valores especificados.\n",
    "\n",
    "Exemplo: (Encontrar os índices onde os valores 2,4 e 6 devem estar inseridos)\n"
   ]
  },
  {
   "cell_type": "code",
   "execution_count": 13,
   "id": "6747408e",
   "metadata": {},
   "outputs": [
    {
     "name": "stdout",
     "output_type": "stream",
     "text": [
      "[1 2 3]\n"
     ]
    }
   ],
   "source": [
    "import numpy as np\n",
    "\n",
    "matriz = np.array([ 1, 3, 5, 7])\n",
    "\n",
    "x = np.searchsorted(matriz, [2,4,6])\n",
    "\n",
    "print(x)"
   ]
  },
  {
   "cell_type": "markdown",
   "id": "61348903",
   "metadata": {},
   "source": [
    "O valor de retorno é um array: [1 2 3] contendo os três índices onde 2, 4, 6 seriam inseridos no array original para manter a ordem.\n",
    "\n",
    "\n",
    "### $\\color{blue}{\\text{Matrizes de classificação NumPy}}$\n",
    "#### $\\color{red}{\\text{Classificando Matrizes}}$\n",
    "Ordenar significa colocar elementos em uma sequência ordenada.\n",
    "\n",
    "Sequência ordenada é qualquer sequência que tenha uma ordem correspondente aos elementos, como numérico ou alfabético, ascendente ou descendente.\n",
    "\n",
    "O objeto NumPy ndarray tem uma função chamada **sort()**, que ordenará um array especificado.\n",
    "Este método retorna uma cópia do array, deixando o array original inalterado.\n",
    "Exemplo: (Classificar a matriz)"
   ]
  },
  {
   "cell_type": "code",
   "execution_count": 23,
   "id": "c3feb741",
   "metadata": {},
   "outputs": [
    {
     "name": "stdout",
     "output_type": "stream",
     "text": [
      "[0 1 2 3]\n"
     ]
    }
   ],
   "source": [
    "import numpy as np\n",
    "\n",
    "matriz = np.array([3, 2, 0, 1])\n",
    "\n",
    "print(np.sort(matriz))"
   ]
  },
  {
   "cell_type": "markdown",
   "id": "c4c56c43",
   "metadata": {},
   "source": [
    "Também pode classificar arrays de strings ou qualquer outro tipo de dados:\n",
    "\n",
    "Exemplo:(Classificar a matriz em ordem alfabética)"
   ]
  },
  {
   "cell_type": "code",
   "execution_count": 27,
   "id": "c283c036",
   "metadata": {},
   "outputs": [
    {
     "name": "stdout",
     "output_type": "stream",
     "text": [
      "['banana' 'cherry' 'maçã']\n"
     ]
    }
   ],
   "source": [
    "import numpy as np\n",
    "\n",
    "matriz = np.array(['maçã','banana','cherry'])\n",
    "\n",
    "print(np.sort(matriz))"
   ]
  },
  {
   "cell_type": "markdown",
   "id": "162f4e10",
   "metadata": {},
   "source": [
    "Exemplo: (Classificar um array booleano)"
   ]
  },
  {
   "cell_type": "code",
   "execution_count": 28,
   "id": "f5291246",
   "metadata": {},
   "outputs": [
    {
     "name": "stdout",
     "output_type": "stream",
     "text": [
      "[False  True  True]\n"
     ]
    }
   ],
   "source": [
    "import numpy as np\n",
    "\n",
    "matriz = np.array([True, False, True])\n",
    "\n",
    "print(np.sort(matriz))"
   ]
  },
  {
   "cell_type": "markdown",
   "id": "f9a1b96a",
   "metadata": {},
   "source": [
    "#### $\\color{red}{\\text{Classificando Matrizes 2D}}$\n",
    "Se você usar o método sort() em uma matriz 2D, ambas as matrizes serão classificadas:\n",
    "\n",
    "Exemplo: (Classificar uma matriz 2D)"
   ]
  },
  {
   "cell_type": "code",
   "execution_count": 29,
   "id": "22364ece",
   "metadata": {},
   "outputs": [
    {
     "name": "stdout",
     "output_type": "stream",
     "text": [
      "[[2 3 4]\n",
      " [0 1 5]]\n"
     ]
    }
   ],
   "source": [
    "import numpy as np\n",
    "\n",
    "matriz = np.array([[3, 2, 4], [5, 0, 1]])\n",
    "\n",
    "print(np.sort(matriz))"
   ]
  },
  {
   "cell_type": "markdown",
   "id": "0134946d",
   "metadata": {},
   "source": [
    "### $\\color{blue}{\\text{Matriz de Filtro}}$\n",
    "#### $\\color{red}{\\text{Filtrando Matrizes}}$\n",
    "Obter alguns elementos de um array existente e criar um novo array a partir deles é chamado de filtragem .\n",
    "\n",
    "O NumPy é capaz de filtrar um array usando uma lista de índices booleanos. Uma lista de índices booleanos é uma lista de booleanos correspondentes aos índices na matriz.\n",
    "Se o valor em um índice for True esse elemento contido na matriz filtrada, se o valor nesse índice for False esse elemento será excluído da matriz filtrada.\n",
    "\n",
    "Exemplo: (Criar uma matriz dos elementos no índice 0 e 2)"
   ]
  },
  {
   "cell_type": "code",
   "execution_count": 30,
   "id": "ca736f6d",
   "metadata": {},
   "outputs": [
    {
     "name": "stdout",
     "output_type": "stream",
     "text": [
      "[41 43]\n"
     ]
    }
   ],
   "source": [
    "import numpy as np\n",
    "\n",
    "matriz = np.array([41, 42, 43, 44])\n",
    "\n",
    "x = [True, False, True, False]\n",
    "\n",
    "matriz2 = matriz[x]\n",
    "\n",
    "print(matriz2)"
   ]
  },
  {
   "cell_type": "markdown",
   "id": "c5fc6227",
   "metadata": {},
   "source": [
    "O exemplo acima retornará [41, 43], pois o novo filtro contém apenas os valores onde a matriz de filtros tinha o valor True, neste caso, índice 0 e 2."
   ]
  },
  {
   "cell_type": "markdown",
   "id": "e3c2eb4a",
   "metadata": {},
   "source": [
    "#### $\\color{red}{\\text{Criando a matriz de filtros}}$\n",
    "\n",
    "No exemplo anterior, foram codificados os valores True e False, mas o uso comum é criar uma matriz de filtro com base nas condições.\n",
    "\n",
    "##### $\\color{purple}{\\text{Para relembrar:}}$\n",
    "No básico do python geralmente é mostrado a função **.append()**. É uma função que serve para adicionar itens ao final de uma determinada lista. Esse método é amplamente usado para adicionar um único item ao final de uma lista ou para preencher uma lista usando um loop.\n"
   ]
  },
  {
   "cell_type": "code",
   "execution_count": 36,
   "id": "32d777c6",
   "metadata": {},
   "outputs": [
    {
     "name": "stdout",
     "output_type": "stream",
     "text": [
      "[1, 3, 5, 7]\n"
     ]
    }
   ],
   "source": [
    "number = [1,3,5]\n",
    "number.append(7)\n",
    "print(number)"
   ]
  },
  {
   "cell_type": "markdown",
   "id": "bff58f9f",
   "metadata": {},
   "source": [
    "Exemplo: (Criar uma matriz de filtros que retornará apenas valores superiores a 42)"
   ]
  },
  {
   "cell_type": "code",
   "execution_count": 31,
   "id": "56ebe129",
   "metadata": {},
   "outputs": [
    {
     "name": "stdout",
     "output_type": "stream",
     "text": [
      "[False, False, True, True]\n",
      "[43 44]\n"
     ]
    }
   ],
   "source": [
    "import numpy as np\n",
    "\n",
    "array = np.array([41, 42, 43, 44])\n",
    "\n",
    "# Criar uma lista vazia\n",
    "filtro = []\n",
    "\n",
    "# passa por cada elemento em array\n",
    "for elemento in array:\n",
    "  # se o elemento for maior que 42, defina o valor como True, caso contrário, False:\n",
    "  if elemento > 42:\n",
    "    filtro.append(True)\n",
    "  else:\n",
    "    filtro.append(False)\n",
    "\n",
    "array2 = array[filtro]\n",
    "\n",
    "print(filtro)\n",
    "print(array2)"
   ]
  },
  {
   "cell_type": "markdown",
   "id": "a2d3d83c",
   "metadata": {},
   "source": [
    "Exemplo: (Criar uma matriz de filtro que retornará apenas elementos pares da matriz original)"
   ]
  },
  {
   "cell_type": "code",
   "execution_count": 33,
   "id": "c8eeb318",
   "metadata": {},
   "outputs": [
    {
     "name": "stdout",
     "output_type": "stream",
     "text": [
      "[False, True, False, True, False, True, False]\n",
      "[2 4 6]\n"
     ]
    }
   ],
   "source": [
    "import numpy as np\n",
    "\n",
    "array = np.array([1, 2, 3, 4, 5, 6, 7])\n",
    "\n",
    "# Criar uma lista vazia\n",
    "filtro = []\n",
    "\n",
    "# passa por cada elemento em array\n",
    "for elemento in array:\n",
    "  # Se o valor for divisível por 2, então retorna True, se não, retorna False\n",
    "  if elemento % 2 == 0:\n",
    "    filtro.append(True)\n",
    "  else:\n",
    "    filtro.append(False)\n",
    "\n",
    "array2 = array[filtro]\n",
    "\n",
    "print(filtro)\n",
    "print(array2)"
   ]
  },
  {
   "cell_type": "markdown",
   "id": "e3dde8f0",
   "metadata": {},
   "source": [
    "### $\\color{blue}{\\text{Criando filtro diretamente do array}}$\n",
    "O exemplo acima é uma tarefa bastante comum no NumPy e o NumPy fornece uma boa maneira de lidar com isso.\n",
    "\n",
    "Há como substituir diretamente a matriz em vez da variável iterável em nossa condição e ela funcionará exatamente como esperamos.\n",
    "\n",
    "Exemplo: (Criar uma matriz de filtros que retornará apenas valores superiores a 42)"
   ]
  },
  {
   "cell_type": "code",
   "execution_count": 34,
   "id": "1a3652a5",
   "metadata": {},
   "outputs": [
    {
     "name": "stdout",
     "output_type": "stream",
     "text": [
      "[False False  True  True]\n",
      "[43 44]\n"
     ]
    }
   ],
   "source": [
    "import numpy as np\n",
    "\n",
    "array = np.array([41, 42, 43, 44])\n",
    "\n",
    "filtro = array > 42\n",
    "\n",
    "array2 = array[filtro]\n",
    "\n",
    "print(filtro)\n",
    "print(array2)"
   ]
  },
  {
   "cell_type": "markdown",
   "id": "875deb36",
   "metadata": {},
   "source": [
    "Exemplo: (Criar uma matriz de filtro que retornará apenas elementos pares da matriz original)"
   ]
  },
  {
   "cell_type": "code",
   "execution_count": 35,
   "id": "8179ea6a",
   "metadata": {},
   "outputs": [
    {
     "name": "stdout",
     "output_type": "stream",
     "text": [
      "[False  True False  True False  True False]\n",
      "[2 4 6]\n"
     ]
    }
   ],
   "source": [
    "import numpy as np\n",
    "\n",
    "array = np.array([1, 2, 3, 4, 5, 6, 7])\n",
    "\n",
    "filtro = array%2 == 0\n",
    "\n",
    "array2 = array[filtro]\n",
    "\n",
    "print(filtro)\n",
    "print(array2)"
   ]
  },
  {
   "cell_type": "markdown",
   "id": "d658cce1",
   "metadata": {},
   "source": [
    "#### Para mais específicações: \n",
    "#### [Numpy.append](https://numpy.org/doc/stable/reference/generated/numpy.append.html?highlight=append#numpy.append) \n",
    "#### [Numpy.where](https://numpy.org/doc/stable/reference/generated/numpy.where.html?highlight=where#numpy.where) \n",
    "#### [Numpy.searchsorted](https://numpy.org/doc/stable/reference/generated/numpy.searchsorted.html?highlight=searchsorted#numpy.searchsorted) \n",
    "#### [Numoy.sort](https://numpy.org/doc/stable/reference/generated/numpy.sort.html)"
   ]
  }
 ],
 "metadata": {
  "kernelspec": {
   "display_name": "Python 3 (ipykernel)",
   "language": "python",
   "name": "python3"
  },
  "language_info": {
   "codemirror_mode": {
    "name": "ipython",
    "version": 3
   },
   "file_extension": ".py",
   "mimetype": "text/x-python",
   "name": "python",
   "nbconvert_exporter": "python",
   "pygments_lexer": "ipython3",
   "version": "3.9.12"
  }
 },
 "nbformat": 4,
 "nbformat_minor": 5
}
