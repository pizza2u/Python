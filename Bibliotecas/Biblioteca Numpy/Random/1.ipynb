{
 "cells": [
  {
   "cell_type": "markdown",
   "id": "04d7ff0a",
   "metadata": {},
   "source": [
    "## $\\color{purple}{\\text{Random}}$\n",
    "#### $\\color{red}{\\text{O que é?}}$\n",
    "\n",
    "Número aleatório NÃO significa um número diferente a cada vez. Aleatório significa algo que não pode ser previsto logicamente.\n",
    "Computadores trabalham em programas, e programas são um conjunto definitivo de instruções. Então significa que deve haver algum algoritmo para gerar um número aleatório também.\n",
    "\n",
    "Se houver um programa para gerar um número aleatório, ele pode ser previsto, portanto, não é verdadeiramente aleatório.\n",
    "\n",
    "Números aleatórios gerados através de um algoritmo de geração são chamados de pseudo-aleatórios .\n",
    "\n",
    "Pode ser feito números verdadeiramente aleatórios?\n",
    "\n",
    "Sim. Para gerar um número verdadeiramente aleatório em nossos computadores, precisamos obter os dados aleatórios de alguma fonte externa. Essa fonte externa geralmente são nossas teclas, movimentos do mouse, dados na rede etc.\n",
    "\n",
    "Não é preciso de números verdadeiramente aleatórios, a menos que esteja relacionado à segurança (por exemplo, chaves de criptografia) ou a base de aplicação seja a aleatoriedade (por exemplo, roletas digitais).\n",
    "\n",
    "### $\\color{blue}{\\text{Números}}$\n",
    "#### $\\color{red}{\\text{Gerando um número aleatório}}$\n",
    "\n",
    "NumPy oferece o módulo **random** para trabalhar com números aleatórios.\n",
    "\n",
    "Exemplo: (Gerar um número interio aleatório de 0 a 100)"
   ]
  },
  {
   "cell_type": "code",
   "execution_count": 1,
   "id": "338f22df",
   "metadata": {},
   "outputs": [
    {
     "name": "stdout",
     "output_type": "stream",
     "text": [
      "52\n"
     ]
    }
   ],
   "source": [
    "from numpy import random\n",
    "\n",
    "numero = random.randint(100)\n",
    "\n",
    "print(numero)"
   ]
  },
  {
   "cell_type": "markdown",
   "id": "0d58facb",
   "metadata": {},
   "source": [
    "#### $\\color{red}{\\text{Gerando um número float aleatório}}$\n",
    "\n",
    "O método **rand()** do módulo **random** retorna um float aleatório entre 0 e 1.\n",
    "\n",
    "Exemplo: (Gerar um float aleatório de 0 a 1)\n"
   ]
  },
  {
   "cell_type": "code",
   "execution_count": 4,
   "id": "f61c3367",
   "metadata": {},
   "outputs": [
    {
     "name": "stdout",
     "output_type": "stream",
     "text": [
      "0.4299516818763587\n"
     ]
    }
   ],
   "source": [
    "from numpy import random\n",
    "\n",
    "numero = random.rand()\n",
    "\n",
    "print(numero)"
   ]
  },
  {
   "cell_type": "markdown",
   "id": "77969bc6",
   "metadata": {},
   "source": [
    "#### $\\color{red}{\\text{Gerando uma matriz aleatória}}$\n",
    "\n",
    "No NumPy é trabalhado com arrays, e pode usar os dois métodos dos exemplos acima para fazer arrays aleatórios.\n",
    "\n",
    "##### $\\color{orange}{\\text{Inteiros}}$\n",
    "O método **randint()** recebe(**size**) um tamanho de parâmetro onde é especificado a forma de uma matriz.\n",
    "\n",
    "Exemplo: (Gerar uma matriz 1D contendo 6 inteiros aleatórios de 0 a 100)"
   ]
  },
  {
   "cell_type": "code",
   "execution_count": 5,
   "id": "ebff542a",
   "metadata": {},
   "outputs": [
    {
     "name": "stdout",
     "output_type": "stream",
     "text": [
      "[66  2 57 57 18 40]\n"
     ]
    }
   ],
   "source": [
    "from numpy import random\n",
    "\n",
    "numero = random.randint(100,size=(6))\n",
    "\n",
    "print(numero)"
   ]
  },
  {
   "cell_type": "markdown",
   "id": "cebcb9da",
   "metadata": {},
   "source": [
    "Exemplo: (Gerar uma matriz 2D com 3 linhas, cada linha contendo 5 inteiros aleatório de 0 a 100)"
   ]
  },
  {
   "cell_type": "code",
   "execution_count": 6,
   "id": "6d879d3d",
   "metadata": {},
   "outputs": [
    {
     "name": "stdout",
     "output_type": "stream",
     "text": [
      "[[36 10 87  5  6]\n",
      " [ 5 14 56 61 91]\n",
      " [27 82 52 71 80]]\n"
     ]
    }
   ],
   "source": [
    "from numpy import random\n",
    "\n",
    "numero = random.randint(100,size=(3,5))\n",
    "\n",
    "print(numero)"
   ]
  },
  {
   "cell_type": "markdown",
   "id": "e3252b02",
   "metadata": {},
   "source": [
    "##### $\\color{orange}{\\text{Float}}$\n",
    "O método **rand()** também permite especificar a forma da matriz.\n",
    "\n",
    "Exemplo:(Gerar um array 1D contendo 5 floats aleatórios)"
   ]
  },
  {
   "cell_type": "code",
   "execution_count": 7,
   "id": "017c263d",
   "metadata": {},
   "outputs": [
    {
     "name": "stdout",
     "output_type": "stream",
     "text": [
      "[0.81670949 0.37217267 0.08652574 0.71345954 0.05705748]\n"
     ]
    }
   ],
   "source": [
    "from numpy import random\n",
    "\n",
    "numero = random.rand(5)\n",
    "\n",
    "print(numero)"
   ]
  },
  {
   "cell_type": "markdown",
   "id": "93ccf673",
   "metadata": {},
   "source": [
    "Exemplo: (Gerar uma matriz 2D com 3 linhas, cada linha contendo 5 números aleatórios)"
   ]
  },
  {
   "cell_type": "code",
   "execution_count": 18,
   "id": "c43db6fe",
   "metadata": {},
   "outputs": [
    {
     "name": "stdout",
     "output_type": "stream",
     "text": [
      "[[0.35515362 0.79320648 0.5828502  0.28903851 0.77176599]\n",
      " [0.86457717 0.13509643 0.64186272 0.34687498 0.49424878]\n",
      " [0.84821195 0.69139105 0.33901176 0.71884597 0.77553958]]\n"
     ]
    }
   ],
   "source": [
    "from numpy import random\n",
    "\n",
    "numero = random.rand(3,5)\n",
    "\n",
    "print(numero)"
   ]
  },
  {
   "cell_type": "markdown",
   "id": "e24fecd1",
   "metadata": {},
   "source": [
    "#### $\\color{red}{\\text{Gerando um número aleatório da matriz}}$\n",
    "O método **choice()** permite gerar um valor aleatório com base em uma matriz de valores. Ele recebe um array como parâmetro e retorna aleatoriamente um dos valores.\n",
    "\n",
    "Exemplo: (Retornar um dos valores em uma matriz)"
   ]
  },
  {
   "cell_type": "code",
   "execution_count": 11,
   "id": "b7b85b59",
   "metadata": {},
   "outputs": [
    {
     "name": "stdout",
     "output_type": "stream",
     "text": [
      "7\n"
     ]
    }
   ],
   "source": [
    "from numpy import random\n",
    "\n",
    "numero = random.choice([4, 5, 7, 9])\n",
    "\n",
    "print(numero)"
   ]
  },
  {
   "cell_type": "markdown",
   "id": "3f57bfb3",
   "metadata": {},
   "source": [
    "O **choice()** também permite retornar uma matriz de valores.\n",
    "\n",
    "Basta adicionar um parâmetro **size** para especificar a forma da matriz.\n",
    "\n",
    "Exemplo: (Gerar uma matriz 2D que consiste nos valores do parâmetro da matriz anterior)"
   ]
  },
  {
   "cell_type": "code",
   "execution_count": 13,
   "id": "e59eec79",
   "metadata": {},
   "outputs": [
    {
     "name": "stdout",
     "output_type": "stream",
     "text": [
      "[[4 5 5 5 4]\n",
      " [5 7 9 7 9]\n",
      " [9 7 7 4 5]]\n"
     ]
    }
   ],
   "source": [
    "from numpy import random\n",
    "\n",
    "numero = random.choice([4, 5, 7, 9],size=(3,5))\n",
    "\n",
    "print(numero)"
   ]
  },
  {
   "cell_type": "markdown",
   "id": "791c06c5",
   "metadata": {},
   "source": [
    "### $\\color{blue}{\\text{Distribuição de dados aleatórios}}$\n",
    "\n",
    "#### $\\color{red}{\\text{O que é?}}$\n",
    "\n",
    "Distribuição de dados é uma lista de todos os valores possíveis e com que frequência cada valor ocorre.\n",
    "\n",
    "Essas listas são importantes ao trabalhar com estatística e ciência de dados.\n",
    "\n",
    "O módulo random oferece métodos que retornam distribuições de dados geradas aleatoriamente.\n",
    "\n",
    "#### $\\color{red}{\\text{Distribuição aleatória}}$\n",
    "\n",
    "Uma distribuição aleatória é um conjunto de números aleatórios que seguem uma certa função de densidade de probabilidade.\n",
    "> Função Densidade de Probabilidade: Uma função que descreve uma probabilidade contínua. ou seja, probabilidade de todos os valores em uma matriz.\n",
    "\n",
    "É possível gerar números aleatórios com base em probabilidades definidas usando o método **choice()** do módulo **random**.\n",
    "\n",
    "O método **choice()** permite especificar a probabilidade para cada valor.\n",
    "\n",
    "A probabilidade é definida por um número entre 0 e 1, onde 0 significa que o valor nunca ocorrerá e 1 significa que o valor sempre ocorrerá.\n",
    "\n",
    "Exemplo: (Gerar uma matriz 1D contendo 100 valores, onde cada valor deve ser 3,5,7,9). \n",
    "- A probabilidade de o valor ser 3 é definida como 0,1\n",
    "\n",
    "- A probabilidade de o valor ser 5 é definida como 0,3\n",
    "\n",
    "- A probabilidade de o valor ser 7 é definida como 0,6\n",
    "\n",
    "- A probabilidade de o valor ser 9 é definida como 0"
   ]
  },
  {
   "cell_type": "code",
   "execution_count": 15,
   "id": "7232707d",
   "metadata": {},
   "outputs": [
    {
     "name": "stdout",
     "output_type": "stream",
     "text": [
      "[7 7 7 3 5 3 7 7 7 5 5 7 5 7 5 7 5 7 7 7 5 7 3 7 5 5 5 7 7 7 5 5 5 7 3 7 5\n",
      " 5 7 5 5 7 5 5 7 7 5 7 7 7 7 7 7 5 7 7 7 7 5 7 7 7 7 3 7 7 7 7 7 7 7 7 5 3\n",
      " 7 7 7 7 7 7 5 7 7 7 7 7 3 7 5 5 5 7 5 7 7 7 5 7 5 7]\n"
     ]
    }
   ],
   "source": [
    "from numpy import random\n",
    "\n",
    "numero = random.choice([3, 5, 7, 9], p=[0.1, 0.3, 0.6, 0.0], size=(100))\n",
    "\n",
    "print(numero)"
   ]
  },
  {
   "cell_type": "markdown",
   "id": "bc7b4287",
   "metadata": {},
   "source": [
    "A soma de todos os números de probabilidade deve ser 1.\n",
    "\n",
    "Mesmo se executar o exemplo acima de 100 vezes, o valor 9 nunca ocorrerá.\n",
    "\n",
    "Podemos retornar matrizes de qualquer forma e tamanho especificando a forma no parâmetro **size**.\n",
    "\n",
    "Exemplo: (Refazer o exemplo acima, mas retornando um array 2D com 3 linhas, cada linhas com 5 valores)"
   ]
  },
  {
   "cell_type": "code",
   "execution_count": 17,
   "id": "4a0f92f9",
   "metadata": {},
   "outputs": [
    {
     "name": "stdout",
     "output_type": "stream",
     "text": [
      "[[7 7 7 7 5]\n",
      " [7 5 7 5 7]\n",
      " [7 5 5 7 7]]\n"
     ]
    }
   ],
   "source": [
    "from numpy import random\n",
    "\n",
    "numero = random.choice([3, 5, 7, 9], p=[0.1, 0.3, 0.6, 0.0], size=(3, 5))\n",
    "\n",
    "print(numero)"
   ]
  }
 ],
 "metadata": {
  "kernelspec": {
   "display_name": "Python 3 (ipykernel)",
   "language": "python",
   "name": "python3"
  },
  "language_info": {
   "codemirror_mode": {
    "name": "ipython",
    "version": 3
   },
   "file_extension": ".py",
   "mimetype": "text/x-python",
   "name": "python",
   "nbconvert_exporter": "python",
   "pygments_lexer": "ipython3",
   "version": "3.9.12"
  }
 },
 "nbformat": 4,
 "nbformat_minor": 5
}
