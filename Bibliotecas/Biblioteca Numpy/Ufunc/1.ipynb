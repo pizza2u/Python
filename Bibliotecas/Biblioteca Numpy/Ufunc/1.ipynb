{
 "cells": [
  {
   "cell_type": "markdown",
   "id": "d745a80e",
   "metadata": {},
   "source": [
    "## $\\color{purple}{\\text{Ufuncs}}$\n",
    "#### $\\color{red}{\\text{O que é?}}$\n",
    "ufuncs significa \"Funções Universais\" e são funções NumPy que operam no objeto **ndarray**.\n",
    "\n",
    "São usados para implementar a vetorização no NumPy, que é muito mais rápido do que iterar sobre os elementos.\n",
    "\n",
    "Eles também fornecem transmissão e métodos adicionais, como reduzir, acumular, etc., que são muito úteis para computação.\n",
    "\n",
    "ufuncs também aceita argumentos adicionais, como:\n",
    "\n",
    "- `where`: matriz booleana ou condição que define onde as operações devem ocorrer.\n",
    "\n",
    "- `dtype`: definindo o tipo de retorno dos elementos.\n",
    "\n",
    "- `out`: array de saída onde o valor de retorno deve ser copiado.\n",
    "\n",
    "#### $\\color{red}{\\text{O que é Vetorização?}}$\n",
    "A conversão de instruções iterativas em uma operação baseada em vetor é chamada de vetorização.\n",
    "\n",
    "É mais rápido, uma vez que as CPUs modernas são otimizadas para essas operações.\n",
    "\n",
    "##### $\\color{orange}{\\text{Adicionar os elementos de duas listas}}$\n",
    "lista 1: [1, 2, 3, 4]\n",
    "\n",
    "lista 2: [4, 5, 6, 7]\n",
    "\n",
    "Uma maneira de fazer isso é iterar em ambas as listas e, em seguida, somar cada elemento.\n",
    "\n",
    "Exemplo: (Sem ufunc, é possível usar o método interno **zip()** do Python)"
   ]
  },
  {
   "cell_type": "code",
   "execution_count": 1,
   "id": "c4a376e0",
   "metadata": {},
   "outputs": [
    {
     "name": "stdout",
     "output_type": "stream",
     "text": [
      "[5, 7, 9, 11]\n"
     ]
    }
   ],
   "source": [
    "x = [1, 2, 3, 4]\n",
    "y = [4, 5, 6, 7]\n",
    "z = []\n",
    "\n",
    "for i, j in zip(x, y):\n",
    "  z.append(i + j)\n",
    "print(z)"
   ]
  },
  {
   "cell_type": "markdown",
   "id": "ffa57f86",
   "metadata": {},
   "source": [
    "NumPy tem um ufunc para isso, chamado **add(x, y)** que produzirá o mesmo resultado.\n",
    "\n",
    "Exemplo: (Com ufunc, usar a função **add()**)"
   ]
  },
  {
   "cell_type": "code",
   "execution_count": 2,
   "id": "92876061",
   "metadata": {},
   "outputs": [
    {
     "name": "stdout",
     "output_type": "stream",
     "text": [
      "[ 5  7  9 11]\n"
     ]
    }
   ],
   "source": [
    "import numpy as np\n",
    "\n",
    "x = [1, 2, 3, 4]\n",
    "y = [4, 5, 6, 7]\n",
    "z = np.add(x, y)\n",
    "\n",
    "print(z)"
   ]
  },
  {
   "cell_type": "markdown",
   "id": "75071f88",
   "metadata": {},
   "source": [
    "### $\\color{blue}{\\text{Criar o próprio ufunc}}$\n",
    "#### $\\color{red}{\\text{Como criar o próprio ufunc}}$\n",
    "Para criar seu próprio ufunc, é preciso definir uma função, como é normalmente feito em Python, e então adicioná-la à biblioteca NumPy ufunc com o método **frompyfunc()** .\n",
    "\n",
    "O método **frompyfunc()** recebe os seguintes argumentos:\n",
    "\n",
    "- 1. function- o nome da função.\n",
    "- 2. inputs- o número de argumentos de entrada (matrizes).\n",
    "- 3. outputs- o número de matrizes de saída.\n",
    "\n",
    "Exemplo: "
   ]
  },
  {
   "cell_type": "code",
   "execution_count": 3,
   "id": "c11894aa",
   "metadata": {},
   "outputs": [
    {
     "name": "stdout",
     "output_type": "stream",
     "text": [
      "[6 8 10 12]\n"
     ]
    }
   ],
   "source": [
    "import numpy as np\n",
    "\n",
    "def myadd(x, y):\n",
    "  return x+y\n",
    "\n",
    "myadd = np.frompyfunc(myadd, 2, 1)\n",
    "\n",
    "print(myadd([1, 2, 3, 4], [5, 6, 7, 8]))"
   ]
  },
  {
   "cell_type": "markdown",
   "id": "48e721fd",
   "metadata": {},
   "source": [
    "#### $\\color{red}{\\text{Verificação se uma função é um ufunc}}$\n",
    "Um ufunc deve retornar <class 'numpy.ufunc'>.\n",
    "\n",
    "Exemplo: "
   ]
  },
  {
   "cell_type": "code",
   "execution_count": 4,
   "id": "5295d892",
   "metadata": {},
   "outputs": [
    {
     "name": "stdout",
     "output_type": "stream",
     "text": [
      "<class 'numpy.ufunc'>\n"
     ]
    }
   ],
   "source": [
    "import numpy as np\n",
    "\n",
    "print(type(np.add))"
   ]
  },
  {
   "cell_type": "markdown",
   "id": "b7403bba",
   "metadata": {},
   "source": [
    "Se não for um ufunc, ele retornará outro tipo, como esta função NumPy integrada para unir dois ou mais arrays:"
   ]
  },
  {
   "cell_type": "code",
   "execution_count": 5,
   "id": "11031971",
   "metadata": {},
   "outputs": [
    {
     "name": "stdout",
     "output_type": "stream",
     "text": [
      "<class 'function'>\n"
     ]
    }
   ],
   "source": [
    "import numpy as np\n",
    "\n",
    "print(type(np.concatenate))"
   ]
  },
  {
   "cell_type": "markdown",
   "id": "7ffeefc4",
   "metadata": {},
   "source": [
    "Se a função não for reconhecida, ela retornará um erro:"
   ]
  },
  {
   "cell_type": "code",
   "execution_count": 6,
   "id": "cc0ecbe2",
   "metadata": {},
   "outputs": [
    {
     "ename": "AttributeError",
     "evalue": "module 'numpy' has no attribute 'soshis'",
     "output_type": "error",
     "traceback": [
      "\u001b[1;31m---------------------------------------------------------------------------\u001b[0m",
      "\u001b[1;31mAttributeError\u001b[0m                            Traceback (most recent call last)",
      "Input \u001b[1;32mIn [6]\u001b[0m, in \u001b[0;36m<cell line: 3>\u001b[1;34m()\u001b[0m\n\u001b[0;32m      1\u001b[0m \u001b[38;5;28;01mimport\u001b[39;00m \u001b[38;5;21;01mnumpy\u001b[39;00m \u001b[38;5;28;01mas\u001b[39;00m \u001b[38;5;21;01mnp\u001b[39;00m\n\u001b[1;32m----> 3\u001b[0m \u001b[38;5;28mprint\u001b[39m(\u001b[38;5;28mtype\u001b[39m(\u001b[43mnp\u001b[49m\u001b[38;5;241;43m.\u001b[39;49m\u001b[43msoshis\u001b[49m))\n",
      "File \u001b[1;32m~\\anaconda3\\lib\\site-packages\\numpy\\__init__.py:313\u001b[0m, in \u001b[0;36m__getattr__\u001b[1;34m(attr)\u001b[0m\n\u001b[0;32m    310\u001b[0m     \u001b[38;5;28;01mfrom\u001b[39;00m \u001b[38;5;21;01m.\u001b[39;00m\u001b[38;5;21;01mtesting\u001b[39;00m \u001b[38;5;28;01mimport\u001b[39;00m Tester\n\u001b[0;32m    311\u001b[0m     \u001b[38;5;28;01mreturn\u001b[39;00m Tester\n\u001b[1;32m--> 313\u001b[0m \u001b[38;5;28;01mraise\u001b[39;00m \u001b[38;5;167;01mAttributeError\u001b[39;00m(\u001b[38;5;124m\"\u001b[39m\u001b[38;5;124mmodule \u001b[39m\u001b[38;5;132;01m{!r}\u001b[39;00m\u001b[38;5;124m has no attribute \u001b[39m\u001b[38;5;124m\"\u001b[39m\n\u001b[0;32m    314\u001b[0m                      \u001b[38;5;124m\"\u001b[39m\u001b[38;5;132;01m{!r}\u001b[39;00m\u001b[38;5;124m\"\u001b[39m\u001b[38;5;241m.\u001b[39mformat(\u001b[38;5;18m__name__\u001b[39m, attr))\n",
      "\u001b[1;31mAttributeError\u001b[0m: module 'numpy' has no attribute 'soshis'"
     ]
    }
   ],
   "source": [
    "import numpy as np\n",
    "\n",
    "print(type(np.soshis))"
   ]
  },
  {
   "cell_type": "markdown",
   "id": "d03a3a6f",
   "metadata": {},
   "source": [
    "Para testar se a função é um ufunc em uma instrução if, é preciso usar o valor **numpy.ufunc**:"
   ]
  },
  {
   "cell_type": "code",
   "execution_count": 7,
   "id": "274b1f9e",
   "metadata": {},
   "outputs": [
    {
     "name": "stdout",
     "output_type": "stream",
     "text": [
      "add is ufunc\n"
     ]
    }
   ],
   "source": [
    "import numpy as np\n",
    "\n",
    "if type(np.add) == np.ufunc:\n",
    "  print('add is ufunc')\n",
    "else:\n",
    "  print('add is not ufunc')"
   ]
  },
  {
   "cell_type": "markdown",
   "id": "84c7917c",
   "metadata": {},
   "source": [
    "### $\\color{blue}{\\text{Aritmética Simples}}$\n",
    "Os operadores aritméticos **+, -, *, /** podem ser usados diretamente entre arrays NumPy, mas esta seção discute uma extensão do mesmo onde temos funções que podem pegar qualquer objeto do tipo array, por exemplo, listas, tuplas etc. e realizar aritmética condicionalmente.\n",
    "\n",
    "> Aritmética Condicionalmente: significa que podemos definir condições onde a operação aritmética deve acontecer.\n",
    "\n",
    "Todas as funções aritméticas discutidas recebem um parâmetro **where** no qual pode especificar a condição.\n",
    "\n",
    "#### $\\color{red}{\\text{Adição}}$\n",
    "A função **add()** soma o conteúdo de duas matrizes e retorna os resultados em uma nova matriz.\n",
    "\n",
    "Exemplo: (Adicionar o valores em matriz1 aos valores em matriz2)"
   ]
  },
  {
   "cell_type": "code",
   "execution_count": 9,
   "id": "702f4a94",
   "metadata": {},
   "outputs": [
    {
     "name": "stdout",
     "output_type": "stream",
     "text": [
      "[30 32 34 36 38 40]\n"
     ]
    }
   ],
   "source": [
    "import numpy as np\n",
    "\n",
    "matriz1 = np.array([10, 11, 12, 13, 14, 15])\n",
    "matriz2 = np.array([20, 21, 22, 23, 24, 25])\n",
    "\n",
    "nova = np.add(matriz1, matriz2)\n",
    "\n",
    "print(nova)"
   ]
  },
  {
   "cell_type": "markdown",
   "id": "84b33f5d",
   "metadata": {},
   "source": [
    "O exemplo acima retornará [30 32 34 36 38 40] que são as somas de 10+20, 11+21, 12+22 etc.\n",
    "\n",
    "#### $\\color{red}{\\text{Subtração}}$\n",
    "\n",
    "A função **subtract()** subtrai os valores de uma matriz com os valores de outra matriz e retorna os resultados em uma nova matriz.\n",
    "\n",
    "Exemplo: (Subtrair os valores em matriz2 dos valores na matriz1)"
   ]
  },
  {
   "cell_type": "code",
   "execution_count": 12,
   "id": "e55f3915",
   "metadata": {},
   "outputs": [
    {
     "name": "stdout",
     "output_type": "stream",
     "text": [
      "[-10  -1  18   7   4  30]\n"
     ]
    }
   ],
   "source": [
    "import numpy as np\n",
    "\n",
    "matriz1 = np.array([10, 20, 40, 30, 28, 55])\n",
    "matriz2 = np.array([20, 21, 22, 23, 24, 25])\n",
    "\n",
    "nova = np.subtract(matriz1, matriz2)\n",
    "\n",
    "print(nova)"
   ]
  },
  {
   "cell_type": "markdown",
   "id": "b19fa991",
   "metadata": {},
   "source": [
    "O exemplo acima retornará [-10 -1 18 7 4 30] que é o resultado de 10-20, 20-21, 40-22 etc.\n",
    "\n",
    "#### $\\color{red}{\\text{Multiplicação}}$\n",
    "\n",
    "A função **multiply()** multiplica os valores de uma matriz pelos valores de outra matriz e retorna os resultados em uma nova matriz.\n",
    "\n",
    "Exemplo: (Multipicar os valores em matriz1 pelos valores da matriz2)"
   ]
  },
  {
   "cell_type": "code",
   "execution_count": 13,
   "id": "3d9b00d0",
   "metadata": {},
   "outputs": [
    {
     "name": "stdout",
     "output_type": "stream",
     "text": [
      "[ 200  420  660  920 1200 1500]\n"
     ]
    }
   ],
   "source": [
    "import numpy as np\n",
    "\n",
    "matriz1 = np.array([10, 20, 30, 40, 50, 60])\n",
    "matriz2 = np.array([20, 21, 22, 23, 24, 25])\n",
    "\n",
    "nova = np.multiply(matriz1, matriz2)\n",
    "\n",
    "print(nova)"
   ]
  },
  {
   "cell_type": "markdown",
   "id": "0c7deb24",
   "metadata": {},
   "source": [
    "O exemplo acima retornará [200 420 660 920 1200 1500] que é o resultado de 10*20, 20*21, 30*22 etc.\n",
    "\n",
    "#### $\\color{red}{\\text{Divisão}}$\n",
    "\n",
    "A função **divide()** divide os valores de um array com os valores de outro array e retorna os resultados em um novo array.\n",
    "\n",
    "Exemplo: (Dividir os valores em matriz1 com os valores em matriz2:)"
   ]
  },
  {
   "cell_type": "code",
   "execution_count": 14,
   "id": "6e082a65",
   "metadata": {},
   "outputs": [
    {
     "name": "stdout",
     "output_type": "stream",
     "text": [
      "[ 3.33333333  4.          3.          5.         25.          1.81818182]\n"
     ]
    }
   ],
   "source": [
    "import numpy as np\n",
    "\n",
    "matriz1 = np.array([10, 20, 30, 40, 50, 60])\n",
    "matriz2 = np.array([3, 5, 10, 8, 2, 33])\n",
    "\n",
    "nova = np.divide(matriz1, matriz2)\n",
    "\n",
    "print(nova)"
   ]
  },
  {
   "cell_type": "markdown",
   "id": "6de39f15",
   "metadata": {},
   "source": [
    "O exemplo acima retornará [3.33333333 4. 3. 5. 25. 1.81818182] que é o resultado de 10/3, 20/5, 30/10 etc.\n",
    "\n",
    "#### $\\color{red}{\\text{Potência}}$\n",
    "A função **power()** eleva os valores da primeira matriz à potência dos valores da segunda matriz e retorna os resultados em uma nova matriz.\n",
    "\n",
    "Exemplo: (Elevar os valores em matriz1 à potência dos valores em matriz2)"
   ]
  },
  {
   "cell_type": "code",
   "execution_count": 15,
   "id": "dff1b528",
   "metadata": {},
   "outputs": [
    {
     "name": "stdout",
     "output_type": "stream",
     "text": [
      "[      1000    3200000  729000000 -520093696       2500          0]\n"
     ]
    }
   ],
   "source": [
    "import numpy as np\n",
    "\n",
    "matriz1 = np.array([10, 20, 30, 40, 50, 60])\n",
    "matriz2 = np.array([3, 5, 6, 8, 2, 33])\n",
    "\n",
    "nova = np.power(matriz1, matriz2)\n",
    "\n",
    "print(nova)"
   ]
  },
  {
   "cell_type": "markdown",
   "id": "55fda972",
   "metadata": {},
   "source": [
    "O exemplo acima retornará [1000 3200000 729000000 6553600000000 2500 0] que é o resultado de 10*10*10, 20*20*20*20*20, 30*30*30*30*30*30 etc.\n",
    "\n",
    "\n",
    "#### $\\color{red}{\\text{Restante}}$\n",
    "\n",
    "As funções **mod()** e **remainder()** retornam o restante dos valores na primeira matriz correspondentes aos valores na segunda matriz e retornam os resultados em uma nova matriz.\n",
    "\n",
    "Exemplo:"
   ]
  },
  {
   "cell_type": "code",
   "execution_count": 16,
   "id": "45236be4",
   "metadata": {},
   "outputs": [
    {
     "name": "stdout",
     "output_type": "stream",
     "text": [
      "[ 1  6  3  0  0 27]\n"
     ]
    }
   ],
   "source": [
    "import numpy as np\n",
    "\n",
    "matriz1 = np.array([10, 20, 30, 40, 50, 60])\n",
    "matriz2 = np.array([3, 7, 9, 8, 2, 33])\n",
    "\n",
    "nova = np.mod(matriz1, matriz2)\n",
    "\n",
    "print(nova)"
   ]
  },
  {
   "cell_type": "markdown",
   "id": "81898962",
   "metadata": {},
   "source": [
    "O exemplo acima retornará [1 6 3 0 0 27] que são os restos quando você divide 10 com 3 (10%3), 20 com 7 (20%7) 30 com 9 (30%9) etc.\n",
    "\n",
    "Obtém o mesmo resultado ao usar a função **remainder()**:"
   ]
  },
  {
   "cell_type": "code",
   "execution_count": 17,
   "id": "b3d89478",
   "metadata": {},
   "outputs": [
    {
     "name": "stdout",
     "output_type": "stream",
     "text": [
      "[ 1  6  3  0  0 27]\n"
     ]
    }
   ],
   "source": [
    "import numpy as np\n",
    "\n",
    "matriz1 = np.array([10, 20, 30, 40, 50, 60])\n",
    "matriz2 = np.array([3, 7, 9, 8, 2, 33])\n",
    "\n",
    "nova = np.remainder(matriz1, matriz2)\n",
    "\n",
    "print(nova)"
   ]
  },
  {
   "cell_type": "markdown",
   "id": "5e84630d",
   "metadata": {},
   "source": [
    "#### $\\color{red}{\\text{Quociente e Módulo}}$\n",
    "A função **divmod()** retorna o quociente e o módulo. O valor de retorno são dois arrays, o primeiro array contém o quociente e o segundo array contém o mod.\n",
    "\n",
    "Exemplo: (Retornar o quociente e mod)"
   ]
  },
  {
   "cell_type": "code",
   "execution_count": 18,
   "id": "04a90e56",
   "metadata": {},
   "outputs": [
    {
     "name": "stdout",
     "output_type": "stream",
     "text": [
      "(array([ 3,  2,  3,  5, 25,  1], dtype=int32), array([ 1,  6,  3,  0,  0, 27], dtype=int32))\n"
     ]
    }
   ],
   "source": [
    "import numpy as np\n",
    "\n",
    "matriz1 = np.array([10, 20, 30, 40, 50, 60])\n",
    "matriz2 = np.array([3, 7, 9, 8, 2, 33])\n",
    "\n",
    "nova = np.divmod(matriz1, matriz2)\n",
    "\n",
    "print(nova)"
   ]
  },
  {
   "cell_type": "markdown",
   "id": "0c31421a",
   "metadata": {},
   "source": [
    "O exemplo acima retornará:\n",
    "(array([3, 2, 3, 5, 25, 1]), array([1, 6, 3, 0, 0, 27]))\n",
    "O primeiro array representa os quocientes, (o valor inteiro quando você divide 10 com 3, 20 com 7, 30 com 9 etc.\n",
    "A segunda matriz representa os restos das mesmas divisões.\n",
    "\n",
    "#### $\\color{red}{\\text{Valores absolutos}}$\n",
    "\n",
    "Ambas as funções **absolute()** e **abs()** fazem a mesma operação absoluta em termos de elemento, mas é recomendado usar **absolute** para evitar confusão com o embutido do pythonmath.abs().\n",
    "\n",
    "Exemplo: "
   ]
  },
  {
   "cell_type": "code",
   "execution_count": 19,
   "id": "3f388348",
   "metadata": {},
   "outputs": [
    {
     "name": "stdout",
     "output_type": "stream",
     "text": [
      "[1 2 1 2 3 4]\n"
     ]
    }
   ],
   "source": [
    "import numpy as np\n",
    "\n",
    "arr = np.array([-1, -2, 1, 2, 3, -4])\n",
    "\n",
    "newarr = np.absolute(arr)\n",
    "\n",
    "print(newarr)"
   ]
  },
  {
   "cell_type": "markdown",
   "id": "13c570f6",
   "metadata": {},
   "source": [
    "#### Para mais específicações: \n",
    "##### [Universal functions](https://numpy.org/doc/stable/reference/ufuncs.html)\n",
    "\n",
    "##### [Numpy.frompyfunc](https://numpy.org/doc/stable/reference/generated/numpy.frompyfunc.html#numpy-frompyfunc)\n",
    "\n",
    "##### [Numpy.add](https://numpy.org/doc/stable/reference/generated/numpy.add.html#numpy.add)\n",
    "\n",
    "##### [Numpy.subtract](https://numpy.org/doc/stable/reference/generated/numpy.subtract.html#numpy.subtract)\n",
    "\n",
    "##### [Numpy.multiply](https://numpy.org/doc/stable/reference/generated/numpy.multiply.html#numpy.multiply)\n",
    "\n",
    "##### [Numpy.divide](https://numpy.org/doc/stable/reference/generated/numpy.divide.html#numpy.divide)\n",
    "\n",
    "##### [Numpy.power](https://numpy.org/doc/stable/reference/generated/numpy.power.html#numpy.power)\n",
    "\n",
    "##### [Numpy.divmod](https://numpy.org/doc/stable/reference/generated/numpy.divmod.html#numpy.divmod)\n",
    "\n",
    "##### [Numpy.mod](https://numpy.org/doc/stable/reference/generated/numpy.mod.html#numpy.mod)\n",
    "\n",
    "##### [Numpy.absolute](https://numpy.org/doc/stable/reference/generated/numpy.absolute.html#numpy.absolute)\n",
    "\n",
    "##### [Numpy.remainder](https://numpy.org/doc/stable/reference/generated/numpy.remainder.html#numpy.remainder)"
   ]
  }
 ],
 "metadata": {
  "kernelspec": {
   "display_name": "Python 3 (ipykernel)",
   "language": "python",
   "name": "python3"
  },
  "language_info": {
   "codemirror_mode": {
    "name": "ipython",
    "version": 3
   },
   "file_extension": ".py",
   "mimetype": "text/x-python",
   "name": "python",
   "nbconvert_exporter": "python",
   "pygments_lexer": "ipython3",
   "version": "3.9.12"
  }
 },
 "nbformat": 4,
 "nbformat_minor": 5
}
