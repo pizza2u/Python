{
 "cells": [
  {
   "cell_type": "markdown",
   "id": "fca173f0",
   "metadata": {},
   "source": [
    "### $\\color{blue}{\\text{Arredondamento de Decimais}}$\n",
    "Existem basicamente cinco maneiras de arredondar decimais no NumPy:\n",
    "\n",
    "- truncation\n",
    "- fix\n",
    "- rounding\n",
    "- floor\n",
    "- ceil\n",
    "\n",
    "#### $\\color{red}{\\text{Truncamento}}$\n",
    "Remova os decimais e retorne o número float mais próximo de zero. Usando as funções **trunc()** e **fix()**.\n",
    "\n",
    "Exemplo: (Truncar elementos da seguinte matriz com as duas funções)"
   ]
  },
  {
   "cell_type": "code",
   "execution_count": 6,
   "id": "061a621f",
   "metadata": {},
   "outputs": [
    {
     "name": "stdout",
     "output_type": "stream",
     "text": [
      "[-3.  3.]\n"
     ]
    }
   ],
   "source": [
    "import numpy as np\n",
    "\n",
    "mat = np.trunc([-3.1666, 3.6867])\n",
    "\n",
    "print(mat)"
   ]
  },
  {
   "cell_type": "code",
   "execution_count": 7,
   "id": "45ce2ee0",
   "metadata": {},
   "outputs": [
    {
     "name": "stdout",
     "output_type": "stream",
     "text": [
      "[-3.  3.]\n"
     ]
    }
   ],
   "source": [
    "import numpy as np\n",
    "\n",
    "mat = np.fix([-3.1666, 3.6667])\n",
    "\n",
    "print(mat)"
   ]
  },
  {
   "cell_type": "markdown",
   "id": "e39fb9dd",
   "metadata": {},
   "source": [
    "#### $\\color{red}{\\text{Arredondamento/ Rounding}}$\n",
    "\n",
    "A função **around()** incrementa o dígito anterior ou decimal em 1 se >=5 senão não faz nada.\n",
    "\n",
    "Por exemplo, arredondar para 1 ponto decimal, 3,16666 é 3,2\n",
    "\n",
    "Exemplo: (Arrendondar 5,4767 para 2 casas decimais)"
   ]
  },
  {
   "cell_type": "code",
   "execution_count": 9,
   "id": "3eeccda2",
   "metadata": {},
   "outputs": [
    {
     "name": "stdout",
     "output_type": "stream",
     "text": [
      "5.48\n"
     ]
    }
   ],
   "source": [
    "import numpy as np\n",
    "\n",
    "mat = np.around(5.4767, 2)\n",
    "\n",
    "print(mat)"
   ]
  },
  {
   "cell_type": "markdown",
   "id": "9cf587ea",
   "metadata": {},
   "source": [
    "#### $\\color{red}{\\text{Floor}}$\n",
    "\n",
    "A função floor() arredonda o decimal para o inteiro inferior mais próximo.\n",
    "\n",
    "Por exemplo, o piso de 3.166 é 3\n",
    "\n",
    "Exemplo: "
   ]
  },
  {
   "cell_type": "code",
   "execution_count": 12,
   "id": "c85599a9",
   "metadata": {},
   "outputs": [
    {
     "name": "stdout",
     "output_type": "stream",
     "text": [
      "[-4.  3.]\n"
     ]
    }
   ],
   "source": [
    "import numpy as np\n",
    "\n",
    "mat = np.floor([-3.1666, 3.97])\n",
    "\n",
    "print(mat)"
   ]
  },
  {
   "cell_type": "markdown",
   "id": "05cda403",
   "metadata": {},
   "source": [
    " A função **floor()** retorna floats, diferentemente da função **trunc()** que retorna inteiros.\n",
    " \n",
    "#### $\\color{red}{\\text{Ceil}}$\n",
    "\n",
    "A função **ceil()** arredonda o decimal para o inteiro superior mais próximo.\n",
    "\n",
    "Por exemplo, o ceil de 3.166 é 4.\n",
    "\n",
    "Exemplo:"
   ]
  },
  {
   "cell_type": "code",
   "execution_count": 14,
   "id": "4968c7fa",
   "metadata": {},
   "outputs": [
    {
     "name": "stdout",
     "output_type": "stream",
     "text": [
      "[-3.  4.]\n"
     ]
    }
   ],
   "source": [
    "import numpy as np\n",
    "\n",
    "arr = np.ceil([-3.1666, 3.6667])\n",
    "\n",
    "print(arr)"
   ]
  },
  {
   "cell_type": "markdown",
   "id": "9e876be3",
   "metadata": {},
   "source": [
    "### $\\color{blue}{\\text{Logs Numpy}}$\n",
    "\n",
    "NumPy fornece funções para realizar log na base 2, e e 10.\n",
    "\n",
    "Também exploraremos como podemos obter log para qualquer base criando um ufunc.\n",
    "\n",
    "Todas as funções de log colocarão -inf ou inf nos elementos se o log não puder ser calculado.\n",
    "\n",
    "#### $\\color{red}{\\text{Log na base 2}}$\n",
    "Usando a função **log2()** para realizar o log na base 2.\n",
    "\n",
    "Exemplo: (Encontrar log na base 2 de todos os elementos da seguinte matriz)"
   ]
  },
  {
   "cell_type": "code",
   "execution_count": 16,
   "id": "2f0e2d29",
   "metadata": {},
   "outputs": [
    {
     "name": "stdout",
     "output_type": "stream",
     "text": [
      "[0.         1.         1.5849625  2.         2.32192809 2.5849625\n",
      " 2.80735492 3.         3.169925  ]\n"
     ]
    }
   ],
   "source": [
    "import numpy as np\n",
    "\n",
    "arr = np.arange(1, 10)\n",
    "\n",
    "print(np.log2(arr))"
   ]
  },
  {
   "cell_type": "markdown",
   "id": "9180163f",
   "metadata": {},
   "source": [
    "A função **arange(1, 10)** retorna uma matriz com números inteiros começando de 1 (incluído) a 10 (não incluído).\n",
    "\n",
    "#### $\\color{red}{\\text{Log na base 10}}$\n",
    "\n",
    "Usando a função **log10()** para realizar o log na base 10.\n",
    "\n",
    "Exemplo: (Encontrar log na base 10 de todos os elementos da seguinte matriz)"
   ]
  },
  {
   "cell_type": "code",
   "execution_count": 18,
   "id": "e3d27889",
   "metadata": {},
   "outputs": [
    {
     "name": "stdout",
     "output_type": "stream",
     "text": [
      "[0.         0.30103    0.47712125 0.60205999 0.69897    0.77815125\n",
      " 0.84509804 0.90308999 0.95424251]\n"
     ]
    }
   ],
   "source": [
    "import numpy as np\n",
    "\n",
    "arr = np.arange(1, 10)\n",
    "\n",
    "print(np.log10(arr))"
   ]
  },
  {
   "cell_type": "markdown",
   "id": "771dfb7f",
   "metadata": {},
   "source": [
    "#### $\\color{red}{\\text{Log natural/ Log na base e}}$\n",
    "\n",
    "Usando a função  **log()** para realizar o log na base e.\n",
    "\n",
    "Exemplo: (Encontrar log na base e de todos os elementos da seguinte matriz)"
   ]
  },
  {
   "cell_type": "code",
   "execution_count": 19,
   "id": "cc550104",
   "metadata": {},
   "outputs": [
    {
     "name": "stdout",
     "output_type": "stream",
     "text": [
      "[0.         0.69314718 1.09861229 1.38629436 1.60943791 1.79175947\n",
      " 1.94591015 2.07944154 2.19722458]\n"
     ]
    }
   ],
   "source": [
    "import numpy as np\n",
    "\n",
    "arr = np.arange(1, 10)\n",
    "\n",
    "print(np.log(arr))"
   ]
  },
  {
   "cell_type": "markdown",
   "id": "5ec15dc0",
   "metadata": {},
   "source": [
    "#### $\\color{red}{\\text{Log em qualquer base}}$\n",
    "\n",
    "O NumPy não fornece nenhuma função para obter log em nenhuma base, mas é possível usar a função **frompyfunc()** junto com a função embutida **math.log()** com dois parâmetros de entrada e um parâmetro de saída.\n",
    "\n",
    "Exemplo:"
   ]
  },
  {
   "cell_type": "code",
   "execution_count": 20,
   "id": "2e0554e8",
   "metadata": {},
   "outputs": [
    {
     "name": "stdout",
     "output_type": "stream",
     "text": [
      "1.7005483074552052\n"
     ]
    }
   ],
   "source": [
    "from math import log\n",
    "import numpy as np\n",
    "\n",
    "nplog = np.frompyfunc(log, 2, 1)\n",
    "\n",
    "print(nplog(100, 15))"
   ]
  },
  {
   "cell_type": "markdown",
   "id": "a6b452e2",
   "metadata": {},
   "source": [
    "### $\\color{blue}{\\text{Somas Numpy}}$\n",
    "\n",
    "Qual é a diferença entre soma e adição?\n",
    "\n",
    "A adição é feita entre dois argumentos, enquanto a soma ocorre sobre n elementos.\n",
    "\n",
    "Exemplos:"
   ]
  },
  {
   "cell_type": "code",
   "execution_count": 21,
   "id": "5034d62a",
   "metadata": {},
   "outputs": [
    {
     "name": "stdout",
     "output_type": "stream",
     "text": [
      "[2 4 6]\n"
     ]
    }
   ],
   "source": [
    "import numpy as np\n",
    "\n",
    "arr1 = np.array([1, 2, 3])\n",
    "arr2 = np.array([1, 2, 3])\n",
    "\n",
    "newarr = np.add(arr1, arr2)\n",
    "\n",
    "print(newarr)"
   ]
  },
  {
   "cell_type": "code",
   "execution_count": 22,
   "id": "a89afbdf",
   "metadata": {},
   "outputs": [
    {
     "name": "stdout",
     "output_type": "stream",
     "text": [
      "12\n"
     ]
    }
   ],
   "source": [
    "import numpy as np\n",
    "\n",
    "arr1 = np.array([1, 2, 3])\n",
    "arr2 = np.array([1, 2, 3])\n",
    "\n",
    "newarr = np.sum([arr1, arr2])\n",
    "\n",
    "print(newarr)"
   ]
  },
  {
   "cell_type": "markdown",
   "id": "f8a3aa74",
   "metadata": {},
   "source": [
    "### $\\color{blue}{\\text{Soma sobre um eixo}}$\n",
    "Se especificar axis=1, NumPy somará os números em cada array.\n",
    "\n",
    "Exemplo: (Executar a soma na seguinte matriz sobre o 1º eixo)\n"
   ]
  },
  {
   "cell_type": "code",
   "execution_count": 23,
   "id": "fcea27b9",
   "metadata": {},
   "outputs": [
    {
     "name": "stdout",
     "output_type": "stream",
     "text": [
      "[6 6]\n"
     ]
    }
   ],
   "source": [
    "import numpy as np\n",
    "\n",
    "m1 = np.array([1, 2, 3])\n",
    "m2 = np.array([1, 2, 3])\n",
    "\n",
    "nova = np.sum([m1, m2], axis=1)\n",
    "\n",
    "print(nova)"
   ]
  },
  {
   "cell_type": "markdown",
   "id": "a8b6e37c",
   "metadata": {},
   "source": [
    "### $\\color{blue}{\\text{Soma acumulativa}}$\n",
    "\n",
    "Soma acumulativa significa adicionar parcialmente os elementos na matriz.\n",
    "\n",
    "Por exemplo, a soma parcial de [1, 2, 3, 4] seria [1, 1+2, 1+2+3, 1+2+3+4] = [1, 3, 6, 10].\n",
    "\n",
    "Faça a soma parcial com a função **cumsum()**.\n",
    "\n",
    "Exemplo: (Executar a soma cumilativa na matriz)"
   ]
  },
  {
   "cell_type": "code",
   "execution_count": 24,
   "id": "3ad54222",
   "metadata": {},
   "outputs": [
    {
     "name": "stdout",
     "output_type": "stream",
     "text": [
      "[1 3 6]\n"
     ]
    }
   ],
   "source": [
    "import numpy as np\n",
    "\n",
    "m = np.array([1, 2, 3])\n",
    "\n",
    "nova = np.cumsum(m)\n",
    "\n",
    "print(nova)"
   ]
  },
  {
   "cell_type": "markdown",
   "id": "f74afeaa",
   "metadata": {},
   "source": [
    "### $\\color{blue}{\\text{Produtos NumPy}}$\n",
    "\n",
    "#### $\\color{red}{\\text{Produtos}}$\n",
    "Para encontrar o produto dos elementos em uma matriz, use a função **prod()**.\n",
    "\n",
    "Exemplo: (Encontrar o produto dos elementos desta matriz)"
   ]
  },
  {
   "cell_type": "code",
   "execution_count": 26,
   "id": "cda5e072",
   "metadata": {},
   "outputs": [
    {
     "name": "stdout",
     "output_type": "stream",
     "text": [
      "24\n"
     ]
    }
   ],
   "source": [
    "import numpy as np\n",
    "\n",
    "m = np.array([1, 2, 3, 4])\n",
    "\n",
    "x = np.prod(m) # 1*2*3*4\n",
    "\n",
    "print(x)"
   ]
  },
  {
   "cell_type": "markdown",
   "id": "35c45c6c",
   "metadata": {},
   "source": [
    "Exemplo: (Encontrar o produto dos elementos das duas matrizes)"
   ]
  },
  {
   "cell_type": "code",
   "execution_count": 27,
   "id": "6bb5d654",
   "metadata": {},
   "outputs": [
    {
     "name": "stdout",
     "output_type": "stream",
     "text": [
      "40320\n"
     ]
    }
   ],
   "source": [
    "import numpy as np\n",
    "\n",
    "m1 = np.array([1, 2, 3, 4])\n",
    "m2 = np.array([5, 6, 7, 8])\n",
    "\n",
    "x = np.prod([m1, m2]) # 1*2*3*4*5*6*7*8 = 40320\n",
    "\n",
    "print(x)"
   ]
  },
  {
   "cell_type": "markdown",
   "id": "2a1f2738",
   "metadata": {},
   "source": [
    "#### $\\color{red}{\\text{Produto sobre um eixo}}$\n",
    "Podemos especificar axis=1, NumPy retornará o produto de cada array.\n",
    "\n",
    "Exemplo: (Executar a soma na seguinte matriz sobre o 1º eixo)"
   ]
  },
  {
   "cell_type": "code",
   "execution_count": 30,
   "id": "5d19bb1d",
   "metadata": {},
   "outputs": [
    {
     "name": "stdout",
     "output_type": "stream",
     "text": [
      "[  24 1680]\n"
     ]
    }
   ],
   "source": [
    "import numpy as np\n",
    "\n",
    "m1 = np.array([1, 2, 3, 4])\n",
    "m2 = np.array([5, 6, 7, 8])\n",
    "\n",
    "x = np.prod([m1, m2], axis=1)\n",
    "\n",
    "print(x)"
   ]
  },
  {
   "cell_type": "markdown",
   "id": "f6ca1fc4",
   "metadata": {},
   "source": [
    "#### $\\color{red}{\\text{Produto cumulativo}}$\n",
    "\n",
    "Produto cumulativo significa tomar o produto parcialmente.\n",
    "\n",
    "Por exemplo, o produto parcial de [1, 2, 3, 4] é [1, 1*2, 1*2*3, 1*2*3*4] = [1, 2, 6, 24]\n",
    "\n",
    "Faça a soma parcial com a função **cumprod()**.\n",
    "\n",
    "Exemplo: (Fazer o produto cumulativo de todos os elementos para a seguinte matriz)"
   ]
  },
  {
   "cell_type": "code",
   "execution_count": 33,
   "id": "cc95154a",
   "metadata": {},
   "outputs": [
    {
     "name": "stdout",
     "output_type": "stream",
     "text": [
      "[   5   30  210 1680]\n"
     ]
    }
   ],
   "source": [
    "\n",
    "import numpy as np\n",
    "\n",
    "m = np.array([5, 6, 7, 8])\n",
    "\n",
    "x = np.cumprod(m)\n",
    "\n",
    "print(x)"
   ]
  },
  {
   "cell_type": "markdown",
   "id": "68ff94c5",
   "metadata": {},
   "source": [
    "### $\\color{blue}{\\text{Diferenças NumPy}}$\n",
    "\n",
    "#### $\\color{red}{\\text{Diferenças}}$\n",
    "\n",
    "Uma diferença discreta significa subtrair dois elementos sucessivos.\n",
    "\n",
    "Por exemplo, para [1, 2, 3, 4], a diferença discreta seria [2-1, 3-2, 4-3] = [1, 1, 1]\n",
    "\n",
    "Para encontrar a diferença discreta, use a função **diff()**.\n",
    "\n",
    "Exemplo: (Calcule a diferença discreta da seguinte matriz)"
   ]
  },
  {
   "cell_type": "code",
   "execution_count": 34,
   "id": "f31cf648",
   "metadata": {},
   "outputs": [
    {
     "name": "stdout",
     "output_type": "stream",
     "text": [
      "[  5  10 -20]\n"
     ]
    }
   ],
   "source": [
    "import numpy as np\n",
    "\n",
    "m = np.array([10, 15, 25, 5])\n",
    "\n",
    "x = np.diff(m) # 15-10=5, 25-15=10 e 5-25=-20\n",
    "\n",
    "print(x)"
   ]
  },
  {
   "cell_type": "markdown",
   "id": "654f9a2d",
   "metadata": {},
   "source": [
    "Podemos realizar esta operação repetidamente dando o parâmetro **n**.\n",
    "\n",
    "Por exemplo, para [1, 2, 3, 4], a diferença discreta com n = 2 seria [2-1, 3-2, 4-3] = [1, 1, 1] , então, como n=2, faremos isso mais uma vez, com o novo resultado: [1-1, 1-1] = [0, 0]\n",
    "\n",
    "Exemplo: (Calcular a diferença discreta da seguinte matriz duas vezes)"
   ]
  },
  {
   "cell_type": "code",
   "execution_count": 35,
   "id": "248e1ae3",
   "metadata": {},
   "outputs": [
    {
     "name": "stdout",
     "output_type": "stream",
     "text": [
      "[  5 -30]\n"
     ]
    }
   ],
   "source": [
    "import numpy as np\n",
    "\n",
    "m = np.array([10, 15, 25, 5])\n",
    "\n",
    "x = np.diff(m, n=2) # 15-10=5, 25-15=10 e 5-25=-20 :\n",
    "                    # 10-5=5 e -20-10=-30\n",
    "\n",
    "print(x)"
   ]
  },
  {
   "cell_type": "markdown",
   "id": "eac78e53",
   "metadata": {},
   "source": [
    "#### Para mais específicações: \n",
    "##### [Numpy.trunc](https://numpy.org/doc/stable/reference/generated/numpy.trunc.html)\n",
    "\n",
    "##### [Numpy.fix](https://numpy.org/doc/stable/reference/generated/numpy.fix.html)\n",
    "\n",
    "##### [Numpy.floor](https://numpy.org/doc/stable/reference/generated/numpy.floor.html)\n",
    "\n",
    "##### [Numpy.around](https://numpy.org/doc/stable/reference/generated/numpy.around.html)\n",
    "\n",
    "##### [Numpy.ceil](https://numpy.org/doc/stable/reference/generated/numpy.ceil.html)\n",
    "\n",
    "##### [Numpy.log](https://numpy.org/doc/stable/reference/generated/numpy.log.html)\n",
    "\n",
    "##### [Numpy.log2](https://numpy.org/doc/stable/reference/generated/numpy.log2.html)\n",
    "\n",
    "##### [Numpy.log10](https://numpy.org/doc/stable/reference/generated/numpy.log10.html)\n",
    "\n",
    "##### [Numpy.sum](https://numpy.org/doc/stable/reference/generated/numpy.sum.html)\n",
    "\n",
    "##### [Numpy.cumsum](https://numpy.org/doc/stable/reference/generated/numpy.cumsum.html)\n",
    "\n",
    "##### [Numpy.prod](https://numpy.org/doc/stable/reference/generated/numpy.prod.html)\n",
    "\n",
    "##### [Numpy.cumprod](https://numpy.org/doc/stable/reference/generated/numpy.cumprod.html)\n",
    "\n",
    "##### [Numpy.diff](https://numpy.org/doc/stable/reference/generated/numpy.diff.html)\n",
    "\n"
   ]
  },
  {
   "cell_type": "markdown",
   "id": "23a7fadf",
   "metadata": {},
   "source": [
    "![taee](https://c.tenor.com/0g5VnlzUwREAAAAS/taeyeon-confused-snsd.gif)\n"
   ]
  }
 ],
 "metadata": {
  "kernelspec": {
   "display_name": "Python 3 (ipykernel)",
   "language": "python",
   "name": "python3"
  },
  "language_info": {
   "codemirror_mode": {
    "name": "ipython",
    "version": 3
   },
   "file_extension": ".py",
   "mimetype": "text/x-python",
   "name": "python",
   "nbconvert_exporter": "python",
   "pygments_lexer": "ipython3",
   "version": "3.9.12"
  }
 },
 "nbformat": 4,
 "nbformat_minor": 5
}
