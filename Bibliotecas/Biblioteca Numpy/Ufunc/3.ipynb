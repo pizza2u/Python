{
 "cells": [
  {
   "cell_type": "markdown",
   "id": "7ee069e4",
   "metadata": {},
   "source": [
    "### $\\color{blue}{\\text{Mínimo Múltiplo Comum  NumPy}}$\n",
    "#### $\\color{red}{\\text{Encontrando MMC}}$\n",
    "O Mínimo Múltiplo Comum é o menor número múltiplo comum de ambos os números. Usando o método **.lcm()**\n",
    "\n",
    "Exemplo:(Encontre o MMC dos dois números a seguir)\n"
   ]
  },
  {
   "cell_type": "code",
   "execution_count": 1,
   "id": "971604b4",
   "metadata": {},
   "outputs": [
    {
     "name": "stdout",
     "output_type": "stream",
     "text": [
      "12\n"
     ]
    }
   ],
   "source": [
    "import numpy as np\n",
    "\n",
    "num1 = 4\n",
    "num2 = 6\n",
    "\n",
    "x = np.lcm(num1, num2)\n",
    "\n",
    "print(x)"
   ]
  },
  {
   "cell_type": "markdown",
   "id": "51be6d42",
   "metadata": {},
   "source": [
    " `12` porque esse é o mínimo múltiplo comum de ambos os números (4*3=12 e 6*2=12).\n",
    " \n",
    " #### $\\color{red}{\\text{Encontrando MMC em arrays}}$\n",
    " \n",
    " Para encontrar o Mínimo Múltiplo Comum  de todos os valores em uma matriz, você pode usar o método **reduce()**.\n",
    "\n",
    " > O método  `reduce() ` usará o  `ufunc `, neste caso a função `lcm() ` , em cada elemento, e reduzirá o array em uma dimensão.\n",
    " \n",
    " Exemplo: (Encontrar o MMC dos valores da seguinte matriz)"
   ]
  },
  {
   "cell_type": "code",
   "execution_count": 2,
   "id": "0528a87c",
   "metadata": {},
   "outputs": [
    {
     "name": "stdout",
     "output_type": "stream",
     "text": [
      "18\n"
     ]
    }
   ],
   "source": [
    "import numpy as np\n",
    "\n",
    "arr = np.array([3, 6, 9])\n",
    "\n",
    "x = np.lcm.reduce(arr)\n",
    "\n",
    "print(x)"
   ]
  },
  {
   "cell_type": "markdown",
   "id": "7107738c",
   "metadata": {},
   "source": [
    "`18` porque esse é o mínimo múltiplo comum de todos os três números (3*6=18, 6*3=18 e 9*2=18).\n",
    "\n",
    "Exemplo: (Encontrar o MMC de todo um array onde o array contém todos os inteiros de 1 a 10)"
   ]
  },
  {
   "cell_type": "code",
   "execution_count": 3,
   "id": "d8509af0",
   "metadata": {},
   "outputs": [
    {
     "name": "stdout",
     "output_type": "stream",
     "text": [
      "2520\n"
     ]
    }
   ],
   "source": [
    "import numpy as np\n",
    "\n",
    "arr = np.arange(1, 11)\n",
    "\n",
    "x = np.lcm.reduce(arr)\n",
    "\n",
    "print(x)"
   ]
  },
  {
   "cell_type": "markdown",
   "id": "59fbe87e",
   "metadata": {},
   "source": [
    "### $\\color{blue}{\\text{Máximo Divisor Comum NumPy}}$\n",
    "#### $\\color{red}{\\text{Encontrando MDC}}$\n",
    "O MDC (Máximo Divisor Comum), também conhecido como MFC (Maior Fator Comum) é o maior número que é um fator comum de ambos os números.\n",
    "\n",
    "Exemplo: (Encontrar MDC)"
   ]
  },
  {
   "cell_type": "code",
   "execution_count": 4,
   "id": "ef154ccd",
   "metadata": {},
   "outputs": [
    {
     "name": "stdout",
     "output_type": "stream",
     "text": [
      "3\n"
     ]
    }
   ],
   "source": [
    "import numpy as np\n",
    "\n",
    "num1 = 6\n",
    "num2 = 9\n",
    "\n",
    "x = np.gcd(num1, num2)\n",
    "\n",
    "print(x)"
   ]
  },
  {
   "cell_type": "markdown",
   "id": "74c003d2",
   "metadata": {},
   "source": [
    "`3` por ser o número mais alto, ambos os números podem ser divididos por (6/3=2 e 9/3=3).\n",
    "\n",
    "#### $\\color{red}{\\text{Encontrando MDC em arrays}}$\n",
    "\n",
    "Para encontrar o fator comum mais alto de todos os valores em uma matriz, você pode usar o método **reduce()**.\n",
    "\n",
    ">O método **reduce()** usará o ufunc, neste caso a função **gcd()**, em cada elemento, e reduzirá o array em uma dimensão.\n",
    "\n",
    "Exemplo: (Encontre o MDC para todos os números na seguinte matriz)"
   ]
  },
  {
   "cell_type": "code",
   "execution_count": 5,
   "id": "cdc075f3",
   "metadata": {},
   "outputs": [
    {
     "name": "stdout",
     "output_type": "stream",
     "text": [
      "4\n"
     ]
    }
   ],
   "source": [
    "import numpy as np\n",
    "\n",
    "arr = np.array([20, 8, 32, 36, 16])\n",
    "\n",
    "x = np.gcd.reduce(arr)\n",
    "\n",
    "print(x)"
   ]
  },
  {
   "cell_type": "markdown",
   "id": "2208b514",
   "metadata": {},
   "source": [
    "`4` porque esse é o número mais alto pelo qual todos os valores podem ser divididos.\n",
    "\n",
    "### $\\color{blue}{\\text{Funções trigonométricas NumPy}}$\n",
    "#### $\\color{red}{\\text{Funções trigonométricas}}$\n",
    "\n",
    "NumPy fornece o ufuncs **sin()**, **cos()** e **tan()** que recebe valores em radianos e produz os valores correspondentes de sin, cos e tan.\n",
    "\n",
    "Exemplo: (Encontrar o valor do seno de pi/2)"
   ]
  },
  {
   "cell_type": "code",
   "execution_count": 6,
   "id": "15bbf39e",
   "metadata": {},
   "outputs": [
    {
     "name": "stdout",
     "output_type": "stream",
     "text": [
      "1.0\n"
     ]
    }
   ],
   "source": [
    "import numpy as np\n",
    "\n",
    "x = np.sin(np.pi/2)\n",
    "\n",
    "print(x)"
   ]
  },
  {
   "cell_type": "markdown",
   "id": "dbb21941",
   "metadata": {},
   "source": [
    "Exemplo: (Encontrar valores de seno para todos os valores em array)"
   ]
  },
  {
   "cell_type": "code",
   "execution_count": 7,
   "id": "10466fe5",
   "metadata": {},
   "outputs": [
    {
     "name": "stdout",
     "output_type": "stream",
     "text": [
      "[1.         0.8660254  0.70710678 0.58778525]\n"
     ]
    }
   ],
   "source": [
    "import numpy as np\n",
    "\n",
    "array = np.array([np.pi/2, np.pi/3, np.pi/4, np.pi/5])\n",
    "\n",
    "x = np.sin(array)\n",
    "\n",
    "print(x)"
   ]
  },
  {
   "cell_type": "markdown",
   "id": "b96c7bff",
   "metadata": {},
   "source": [
    "#### $\\color{red}{\\text{Converter graus em radianos}}$\n",
    "\n",
    "Por padrão, todas as funções trigonométricas usam radianos como parâmetros, mas podemos converter radianos em graus e vice-versa também no NumPy.\n",
    "\n",
    "> Os valores em radianos são pi/180 * degree_values.\n",
    "\n",
    "Exemplo: (Converter todos os valores no seguinte array arr para radianos)"
   ]
  },
  {
   "cell_type": "code",
   "execution_count": 8,
   "id": "f7511f4b",
   "metadata": {},
   "outputs": [
    {
     "name": "stdout",
     "output_type": "stream",
     "text": [
      "[1.57079633 3.14159265 4.71238898 6.28318531]\n"
     ]
    }
   ],
   "source": [
    "import numpy as np\n",
    "\n",
    "array = np.array([90, 180, 270, 360])\n",
    "\n",
    "x = np.deg2rad(array)\n",
    "\n",
    "print(x)"
   ]
  },
  {
   "cell_type": "markdown",
   "id": "366649e1",
   "metadata": {},
   "source": [
    "#### $\\color{red}{\\text{Radianos para graus}}$\n",
    "\n",
    "Exemplo: (Converta todos os valores na seguinte matriz array em graus)"
   ]
  },
  {
   "cell_type": "code",
   "execution_count": 9,
   "id": "003f7008",
   "metadata": {},
   "outputs": [
    {
     "name": "stdout",
     "output_type": "stream",
     "text": [
      "[ 90. 180. 270. 360.]\n"
     ]
    }
   ],
   "source": [
    "import numpy as np\n",
    "\n",
    "array = np.array([np.pi/2, np.pi, 1.5*np.pi, 2*np.pi])\n",
    "\n",
    "x = np.rad2deg(array)\n",
    "\n",
    "print(x)"
   ]
  },
  {
   "cell_type": "markdown",
   "id": "9821f08d",
   "metadata": {},
   "source": [
    "#### $\\color{red}{\\text{Encontrando ângulos}}$\n",
    "\n",
    "Encontrar ângulos de valores de seno, cos, tan. Por exemplo, sin, cos e tan inverso (arcsin, arccos, arctan).\n",
    "\n",
    "NumPy fornece ufuncs **arcsin()**, **arccos()** e **arctan()** que produz valores radianos para os valores correspondentes de sin, cos e tan dados.\n",
    "\n",
    "Exemplo: (Encontrar o ângulo de 1,0)"
   ]
  },
  {
   "cell_type": "code",
   "execution_count": 10,
   "id": "a1a45bd2",
   "metadata": {},
   "outputs": [
    {
     "name": "stdout",
     "output_type": "stream",
     "text": [
      "1.5707963267948966\n"
     ]
    }
   ],
   "source": [
    "import numpy as np\n",
    "\n",
    "x = np.arcsin(1.0)\n",
    "\n",
    "print(x)"
   ]
  },
  {
   "cell_type": "markdown",
   "id": "ec93515e",
   "metadata": {},
   "source": [
    "#### $\\color{red}{\\text{Ângulos de cada valor em matrizes}}$\n",
    "\n",
    "Exemplo: (Encontrar o ângulo para todos os valores de seno na matriz)"
   ]
  },
  {
   "cell_type": "code",
   "execution_count": null,
   "id": "9767ae99",
   "metadata": {},
   "outputs": [],
   "source": [
    "import numpy as np\n",
    "\n",
    "arr = np.array([1, -1, 0.1])\n",
    "\n",
    "x = np.arcsin(arr)\n",
    "\n",
    "print(x)"
   ]
  },
  {
   "cell_type": "markdown",
   "id": "7eeccf96",
   "metadata": {},
   "source": [
    "#### $\\color{red}{\\text{Hipotenusas}}$\n",
    "Para encontrar hipotenusas basta usar o teorema de Pitágoras no NumPy.\n",
    "\n",
    "NumPy fornece a função **hypot()** que recebe os valores base e perpendicular e produz hipotenusas com base no teorema de Pitágoras.\n",
    "\n",
    "Exemplo: (Encontrar as hipotenusas para 4 bases e 3 perpendiculares)"
   ]
  },
  {
   "cell_type": "code",
   "execution_count": 11,
   "id": "0d63b384",
   "metadata": {},
   "outputs": [
    {
     "name": "stdout",
     "output_type": "stream",
     "text": [
      "5.0\n"
     ]
    }
   ],
   "source": [
    "import numpy as np\n",
    "\n",
    "base = 3\n",
    "perp = 4\n",
    "\n",
    "x = np.hypot(base, perp)\n",
    "\n",
    "print(x)"
   ]
  },
  {
   "cell_type": "markdown",
   "id": "ebd11796",
   "metadata": {},
   "source": [
    "### $\\color{blue}{\\text{Funções Hiperbólicas NumPy}}$\n",
    "#### $\\color{red}{\\text{Funções hiperbólicas}}$\n",
    "NumPy fornece o ufuncs **sinh()**, **cosh()** e **tanh()** que recebe valores em radianos e produz os valores correspondentes sinh, cosh e tanh.\n",
    "\n",
    "Exemplo: (Encontrar o valor sinh de PI/2)"
   ]
  },
  {
   "cell_type": "code",
   "execution_count": 12,
   "id": "d7b17a86",
   "metadata": {},
   "outputs": [
    {
     "name": "stdout",
     "output_type": "stream",
     "text": [
      "2.3012989023072947\n"
     ]
    }
   ],
   "source": [
    "import numpy as np\n",
    "\n",
    "x = np.sinh(np.pi/2)\n",
    "\n",
    "print(x)"
   ]
  },
  {
   "cell_type": "markdown",
   "id": "f2c70906",
   "metadata": {},
   "source": [
    "Exemplo: (Encontrar o valor cosh para todos os valores do array)"
   ]
  },
  {
   "cell_type": "code",
   "execution_count": 13,
   "id": "a1b1c367",
   "metadata": {},
   "outputs": [
    {
     "name": "stdout",
     "output_type": "stream",
     "text": [
      "[2.50917848 1.60028686 1.32460909 1.20397209]\n"
     ]
    }
   ],
   "source": [
    "import numpy as np\n",
    "\n",
    "array = np.array([np.pi/2, np.pi/3, np.pi/4, np.pi/5])\n",
    "\n",
    "x = np.cosh(array)\n",
    "\n",
    "print(x)"
   ]
  },
  {
   "cell_type": "markdown",
   "id": "be2fdd55",
   "metadata": {},
   "source": [
    "#### $\\color{red}{\\text{Encontrando ângulos}}$\n",
    "\n",
    "Encontrar ângulos de valores de seno hiperbólico, cos, tan. Por exemplo, sinh, cosh e tanh inverso (arcsinh, arccosh, arctanh).\n",
    "\n",
    "Numpy fornece ufuncs **arcsinh()**, **arccosh()** e **arctanh()**  que produzem valores radianos para os valores correspondentes de sinh, cosh e tanh fornecidos.\n",
    "\n",
    "Exemplo: (Encontrar o ângulo de 1,0)\n"
   ]
  },
  {
   "cell_type": "code",
   "execution_count": 14,
   "id": "bec569d2",
   "metadata": {},
   "outputs": [
    {
     "name": "stdout",
     "output_type": "stream",
     "text": [
      "0.881373587019543\n"
     ]
    }
   ],
   "source": [
    "import numpy as np\n",
    "\n",
    "x = np.arcsinh(1.0)\n",
    "\n",
    "print(x)"
   ]
  },
  {
   "cell_type": "markdown",
   "id": "fdf3b515",
   "metadata": {},
   "source": [
    "#### $\\color{red}{\\text{Ângulos de cada valor em matrizes}}$\n",
    "\n",
    "Exemplo: (Encontrar o ângulo para todos os valores de tanh na matriz)"
   ]
  },
  {
   "cell_type": "code",
   "execution_count": 15,
   "id": "5bec15d3",
   "metadata": {},
   "outputs": [
    {
     "name": "stdout",
     "output_type": "stream",
     "text": [
      "[0.10033535 0.20273255 0.54930614]\n"
     ]
    }
   ],
   "source": [
    "import numpy as np\n",
    "\n",
    "array = np.array([0.1, 0.2, 0.5])\n",
    "\n",
    "x = np.arctanh(array)\n",
    "\n",
    "print(x)"
   ]
  },
  {
   "cell_type": "markdown",
   "id": "3c7d8881",
   "metadata": {},
   "source": [
    "### $\\color{blue}{\\text{Operações de conjunto NumPy}}$\n",
    "#### $\\color{red}{\\text{O que é um conjunto?}}$\n",
    "\n",
    "Um conjunto em matemática é uma coleção de elementos únicos.\n",
    "\n",
    "Os conjuntos são usados para operações que envolvem operações frequentes de interseção, união e diferença.\n",
    "\n",
    "#### $\\color{red}{\\text{Criar conjuntos no NumPy}}$\n",
    "\n",
    "O método **unique()** do NumPy é usado para encontrar elementos exclusivos de qualquer array. Por exemplo, crie uma matriz de conjuntos, mas lembre-se de que as matrizes de conjuntos devem ser apenas matrizes 1-D.\n",
    "\n",
    "Exemplo: (Converter a seguinte matriz com elementos repetidos em um conjunto)"
   ]
  },
  {
   "cell_type": "code",
   "execution_count": 16,
   "id": "a43fa256",
   "metadata": {},
   "outputs": [
    {
     "name": "stdout",
     "output_type": "stream",
     "text": [
      "[1 2 3 4 5 6 7]\n"
     ]
    }
   ],
   "source": [
    "import numpy as np\n",
    "\n",
    "array = np.array([1, 1, 1, 2, 3, 4, 5, 5, 6, 7])\n",
    "\n",
    "x = np.unique(array)\n",
    "\n",
    "print(x)"
   ]
  },
  {
   "cell_type": "markdown",
   "id": "9a65a279",
   "metadata": {},
   "source": [
    "#### $\\color{red}{\\text{Encontrando União}}$\n",
    "\n",
    "Para encontrar os valores exclusivos de duas matrizes, bastar usar o método **union1d()**.\n",
    "\n",
    "Exemplo: (Encontrar a união das duas matrizes de conjuntos a seguir)"
   ]
  },
  {
   "cell_type": "code",
   "execution_count": 17,
   "id": "313b7d6b",
   "metadata": {},
   "outputs": [
    {
     "name": "stdout",
     "output_type": "stream",
     "text": [
      "[1 2 3 4 5 6]\n"
     ]
    }
   ],
   "source": [
    "import numpy as np\n",
    "\n",
    "arr1 = np.array([1, 2, 3, 4])\n",
    "arr2 = np.array([3, 4, 5, 6])\n",
    "\n",
    "newarr = np.union1d(arr1, arr2)\n",
    "\n",
    "print(newarr)"
   ]
  },
  {
   "cell_type": "markdown",
   "id": "bd82c7d8",
   "metadata": {},
   "source": [
    "#### $\\color{red}{\\text{Encontrando interseção}}$\n",
    "\n",
    "O método **intersect1d()** serve para localizar apenas os valores presentes em ambas as matrizes.\n",
    "\n",
    "Exemplo: (Encontrar a interseção das duas matrizes de conjuntos a seguir)"
   ]
  },
  {
   "cell_type": "code",
   "execution_count": 18,
   "id": "f9232e2d",
   "metadata": {},
   "outputs": [
    {
     "name": "stdout",
     "output_type": "stream",
     "text": [
      "[3 4]\n"
     ]
    }
   ],
   "source": [
    "import numpy as np\n",
    "\n",
    "array1 = np.array([1, 2, 3, 4])\n",
    "array2 = np.array([3, 4, 5, 6])\n",
    "\n",
    "newarray = np.intersect1d(array1, array2, assume_unique=True)\n",
    "\n",
    "print(newarray)"
   ]
  },
  {
   "cell_type": "markdown",
   "id": "ab50a820",
   "metadata": {},
   "source": [
    ">  O **intersect1d()** recebe um argumento opcional **assume_unique**, que, se definido como True, pode acelerar a computação. Deve sempre ser definido como True ao lidar com conjuntos.\n",
    "\n",
    "#### $\\color{red}{\\text{Encontrando a Diferença}}$\n",
    "\n",
    "Para encontrar apenas os valores no primeiro conjunto que NÃO estão presentes no conjunto de segundos, use o método **setdiff1d()**.\n",
    "\n",
    "Exemplo: (Encontrar a diferença do m1 do m2)"
   ]
  },
  {
   "cell_type": "code",
   "execution_count": 19,
   "id": "bdd736d5",
   "metadata": {},
   "outputs": [
    {
     "name": "stdout",
     "output_type": "stream",
     "text": [
      "[1 2]\n"
     ]
    }
   ],
   "source": [
    "import numpy as np\n",
    "\n",
    "m1 = np.array([1, 2, 3, 4])\n",
    "m2 = np.array([3, 4, 5, 6])\n",
    "\n",
    "newarray = np.setdiff1d(m1, m2, assume_unique=True)\n",
    "\n",
    "print(newarray)"
   ]
  },
  {
   "cell_type": "markdown",
   "id": "5ebbb0a4",
   "metadata": {},
   "source": [
    "> O **setdiff1d()** recebe um argumento opcional **assume_unique**, que, se definido como True, pode acelerar a computação. Deve sempre ser definido como True ao lidar com conjuntos.\n",
    "\n",
    "#### $\\color{red}{\\text{Encontrando a diferença simétrica}}$\n",
    "\n",
    "Para encontrar apenas os valores que NÃO estão presentes em AMBOS os conjuntos, use o método **setxor1d()**.\n",
    "\n",
    "Exemplo: (Encontrar a diferença do m1 do m2)"
   ]
  },
  {
   "cell_type": "code",
   "execution_count": 20,
   "id": "ec2c82b5",
   "metadata": {},
   "outputs": [
    {
     "name": "stdout",
     "output_type": "stream",
     "text": [
      "[1 2 5 6]\n"
     ]
    }
   ],
   "source": [
    "import numpy as np\n",
    "\n",
    "m1 = np.array([1, 2, 3, 4])\n",
    "m2 = np.array([3, 4, 5, 6])\n",
    "\n",
    "newarray = np.setxor1d(m1, m2, assume_unique=True)\n",
    "\n",
    "print(newarray)"
   ]
  },
  {
   "cell_type": "markdown",
   "id": "e996bf28",
   "metadata": {},
   "source": [
    "> o **setxor1d()** recebe um argumento opcional **assume_unique**, que, se definido como True, pode acelerar a computação. Deve sempre ser definido como True ao lidar com conjuntos.\n",
    "\n",
    "#### Para mais específicações: \n",
    "##### [Numpy.lcm](https://numpy.org/doc/stable/reference/generated/numpy.lcm.html)\n",
    "\n",
    "##### [Numpy.ufunc.reduce](https://numpy.org/doc/stable/reference/generated/numpy.ufunc.reduce.html)\n",
    "\n",
    "##### [Numpy.gcd](https://numpy.org/doc/stable/reference/generated/numpy.gcd.html)\n",
    "\n",
    "##### [Numpy.cos](https://numpy.org/doc/stable/reference/generated/numpy.cos.html)\n",
    "\n",
    "##### [Numpy.tan](https://numpy.org/doc/stable/reference/generated/numpy.tan.html)\n",
    "\n",
    "##### [Numpy.sin](https://numpy.org/doc/stable/reference/generated/numpy.sin.html)\n",
    "\n",
    "##### [Numpy.deg2rad](https://numpy.org/doc/stable/reference/generated/numpy.deg2rad.html#numpy-deg2rad)\n",
    "\n",
    "##### [Numpy.rad2deg](https://numpy.org/doc/stable/reference/generated/numpy.rad2deg.html)\n",
    "\n",
    "##### [Numpy.sinh](https://numpy.org/doc/stable/reference/generated/numpy.sinh.html)\n",
    "\n",
    "##### [Numpy.cosh](https://numpy.org/doc/stable/reference/generated/numpy.cosh.html)\n",
    "\n",
    "##### [Numpy.tanh](https://numpy.org/doc/stable/reference/generated/numpy.tanh.html)\n",
    "\n",
    "##### [Numpy.arcsin](https://numpy.org/doc/stable/reference/generated/numpy.arcsin.html)\n",
    "\n",
    "##### [Numpy.arccos](https://numpy.org/doc/stable/reference/generated/numpy.arccos.html)\n",
    "\n",
    "##### [Numpy.arctan](https://numpy.org/doc/stable/reference/generated/numpy.arctan.html)\n",
    "\n",
    "##### [Numpy.unique](https://numpy.org/doc/stable/reference/generated/numpy.unique.html)\n",
    "\n",
    "##### [Numpy.union1d](https://numpy.org/doc/stable/reference/generated/numpy.union1d.html)\n",
    "\n",
    "##### [Numpy.intersect1d](https://numpy.org/doc/stable/reference/generated/numpy.intersect1d.html)\n",
    "\n",
    "##### [Numpy.setdiff1d](https://numpy.org/doc/stable/reference/generated/numpy.setdiff1d.html)\n",
    "\n",
    "##### [Numpy.setxor1d](https://numpy.org/doc/stable/reference/generated/numpy.setxor1d.html)\n",
    "\n",
    "\n",
    "![yoong](https://c.tenor.com/oKHzSAIoM9IAAAAS/snsd-soshi.gif)"
   ]
  }
 ],
 "metadata": {
  "kernelspec": {
   "display_name": "Python 3 (ipykernel)",
   "language": "python",
   "name": "python3"
  },
  "language_info": {
   "codemirror_mode": {
    "name": "ipython",
    "version": 3
   },
   "file_extension": ".py",
   "mimetype": "text/x-python",
   "name": "python",
   "nbconvert_exporter": "python",
   "pygments_lexer": "ipython3",
   "version": "3.9.12"
  }
 },
 "nbformat": 4,
 "nbformat_minor": 5
}
