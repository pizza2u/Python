{
 "cells": [
  {
   "cell_type": "markdown",
   "id": "a5baefca",
   "metadata": {},
   "source": [
    "[oi](https://www.tshirtgeek.com.br/wp-content/uploads/2021/03/com001.jpg)"
   ]
  },
  {
   "cell_type": "markdown",
   "id": "21375412",
   "metadata": {},
   "source": [
    "![regina](https://pbs.twimg.com/profile_images/1398328513980153860/esvptsnl_400x400.jpg)"
   ]
  },
  {
   "cell_type": "code",
   "execution_count": 5,
   "id": "6bc67aba",
   "metadata": {},
   "outputs": [
    {
     "name": "stdout",
     "output_type": "stream",
     "text": [
      "Seu nome: e\n",
      "Bem vindo e\n"
     ]
    }
   ],
   "source": [
    "nome = input(\"Seu nome: \")\n",
    "print(f\"Bem vindo {nome}\")"
   ]
  },
  {
   "cell_type": "markdown",
   "id": "8b76356b",
   "metadata": {},
   "source": [
    "![boasorte](https://pbs.twimg.com/media/EBwES5AUIAAmlG8?format=jpg&name=small)"
   ]
  },
  {
   "cell_type": "markdown",
   "id": "ae0232f1",
   "metadata": {},
   "source": [
    "### Alô Gio"
   ]
  },
  {
   "cell_type": "code",
   "execution_count": 7,
   "id": "381dfdb3",
   "metadata": {},
   "outputs": [
    {
     "name": "stdout",
     "output_type": "stream",
     "text": [
      " O programa levou 0.34s para ser executado.\n",
      "Ano: 2022\n",
      "Mês: 5\n",
      "Dia: 31 \n",
      "16 horas\n",
      "22 minutos\n",
      "17 segundos\n"
     ]
    }
   ],
   "source": [
    "import time\n",
    "tempo = time.time()\n",
    "for i in range(2000000):\n",
    "       x = i * i\n",
    "\n",
    "tempoD = time.time() - tempo\n",
    "\n",
    "print(\" O programa levou %.2fs para ser executado.\"%tempoD)\n",
    "\n",
    "data= time.localtime()\n",
    "print(f\"Ano: {data.tm_year}\" ) #ano\n",
    "print(f\"Mês: {data.tm_mon}\") # mes\n",
    "print(f\"Dia: {data.tm_mday} \") #dia\n",
    "print(f\"{data.tm_hour} horas\") #hora\n",
    "print(f\"{data.tm_min} minutos\") # minutos\n",
    "print(f\"{data.tm_sec} segundos\") #segundos\n"
   ]
  },
  {
   "cell_type": "code",
   "execution_count": null,
   "id": "4b57fd20",
   "metadata": {},
   "outputs": [],
   "source": []
  }
 ],
 "metadata": {
  "kernelspec": {
   "display_name": "Python 3 (ipykernel)",
   "language": "python",
   "name": "python3"
  },
  "language_info": {
   "codemirror_mode": {
    "name": "ipython",
    "version": 3
   },
   "file_extension": ".py",
   "mimetype": "text/x-python",
   "name": "python",
   "nbconvert_exporter": "python",
   "pygments_lexer": "ipython3",
   "version": "3.9.12"
  }
 },
 "nbformat": 4,
 "nbformat_minor": 5
}
