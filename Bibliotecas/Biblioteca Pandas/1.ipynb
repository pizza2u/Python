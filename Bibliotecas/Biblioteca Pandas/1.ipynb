{
 "cells": [
  {
   "cell_type": "markdown",
   "id": "c939be3d",
   "metadata": {},
   "source": [
    "## $\\color{purple}{\\text{Pandas}}$\n",
    "\n",
    "<img align=\"center\" src=\"https://upload.wikimedia.org/wikipedia/commons/e/ed/Pandas_logo.svg\" width=\"250\">\n",
    "\n",
    "#### $\\color{red}{\\text{O que é?}}$\n",
    "\n",
    "Pandas é uma biblioteca Python usada para trabalhar com conjuntos de dados.\n",
    "\n",
    "Possui funções para analisar, limpar, explorar e manipular dados.\n",
    "\n",
    "O nome \"Pandas\" faz referência tanto a \"Panel Data\" quanto a \"Python Data Analysis\" e foi criado por Wes McKinney em 2008.\n",
    "\n",
    "#### $\\color{red}{\\text{Por que usar?}}$\n",
    "\n",
    "Pandas permite analisar big data e tirar conclusões com base em teorias estatísticas.\n",
    "\n",
    "Os pandas podem limpar conjuntos de dados confusos e torná-los legíveis e relevantes.\n",
    "\n",
    "Dados relevantes são muito importantes na ciência de dados.\n",
    "\n",
    ">Data Science: é um ramo da ciência da computação onde estudamos como armazenar, usar e analisar dados para derivar informações deles.\n",
    "\n",
    "#### $\\color{red}{\\text{O que podem fazer?}}$\n",
    "\n",
    "O Pandas fornece respostas sobre os dados. Como:\n",
    "\n",
    "- Existe uma correlação entre duas ou mais colunas?\n",
    "- O que é valor médio?\n",
    "- Valor máximo?\n",
    "- Valor mínimo?\n",
    "\n",
    "Os pandas também podem excluir linhas que não são relevantes ou contêm valores errados, como valores vazios ou inválidos. Isso é chamado de limpeza dos dados.\n",
    "\n",
    "#### $\\color{red}{\\text{Base do código}}$\n",
    "\n",
    "A base do código do Pandas está localizado neste [repositório do github](https://github.com/pandas-dev/pandas).\n",
    "\n",
    "#### $\\color{red}{\\text{Instalação}}$\n",
    "Se você já tem o Python e o PIP instalados em um sistema, a instalação do Pandas é muito fácil. Basta usar:\n",
    ">C:\\Users\\Your Name>pip install pandas\n",
    "\n",
    "#### $\\color{red}{\\text{Importar}}$\n",
    "Depois que o Pandas estiver instalado, importe-o em seus aplicativos adicionando a  palavra-chave: **import**\n",
    "\n",
    ">import pandas\n",
    "\n",
    "Exemplo:"
   ]
  },
  {
   "cell_type": "code",
   "execution_count": 3,
   "id": "3969ed71",
   "metadata": {},
   "outputs": [
    {
     "name": "stdout",
     "output_type": "stream",
     "text": [
      "  carros  passagem\n",
      "0    BMW         3\n",
      "1  Volvo         7\n",
      "2   Ford         2\n"
     ]
    }
   ],
   "source": [
    "import pandas\n",
    "\n",
    "dataset = {\n",
    "  'carros': [\"BMW\", \"Volvo\", \"Ford\"],\n",
    "  'passagem': [3, 7, 2]\n",
    "}\n",
    "\n",
    "meu = pandas.DataFrame(dataset)\n",
    "\n",
    "print(meu)"
   ]
  },
  {
   "cell_type": "markdown",
   "id": "0d23cbb6",
   "metadata": {},
   "source": [
    "#### $\\color{red}{\\text{Pandas como pd}}$\n",
    "\n",
    "Pandas geralmente é importado sob o alias **pd** .\n",
    "\n",
    ">alias: em Python, alias é um nome alternativo para se referir à mesma coisa\n",
    "\n",
    "Para criar um alias,use a palavra **as** durante a importação:"
   ]
  },
  {
   "cell_type": "code",
   "execution_count": 4,
   "id": "01cf5772",
   "metadata": {},
   "outputs": [],
   "source": [
    "import pandas as pd"
   ]
  },
  {
   "cell_type": "markdown",
   "id": "7d69743a",
   "metadata": {},
   "source": [
    "Agora, o pacote **Pandas** pode ser referido como **pd** em vez de pandas.\n",
    "\n",
    "Exemplo:"
   ]
  },
  {
   "cell_type": "code",
   "execution_count": 5,
   "id": "b28705f1",
   "metadata": {},
   "outputs": [
    {
     "name": "stdout",
     "output_type": "stream",
     "text": [
      "  carros  passagem\n",
      "0    BMW         3\n",
      "1  Volvo         7\n",
      "2   Ford         2\n"
     ]
    }
   ],
   "source": [
    "import pandas as pd\n",
    "\n",
    "dataset = {\n",
    "  'carros': [\"BMW\", \"Volvo\", \"Ford\"],\n",
    "  'passagem': [3, 7, 2]\n",
    "}\n",
    "\n",
    "meu = pd.DataFrame(dataset)\n",
    "\n",
    "print(meu)"
   ]
  },
  {
   "cell_type": "markdown",
   "id": "4cd0f425",
   "metadata": {},
   "source": [
    "#### $\\color{red}{\\text{Versão do Pandas}}$\n",
    "\n",
    "A string da versão é armazenada no atributo `__version__` ."
   ]
  },
  {
   "cell_type": "code",
   "execution_count": 6,
   "id": "2f83a4a6",
   "metadata": {},
   "outputs": [
    {
     "name": "stdout",
     "output_type": "stream",
     "text": [
      "1.4.2\n"
     ]
    }
   ],
   "source": [
    "import pandas as pd\n",
    "\n",
    "print(pd.__version__)"
   ]
  },
  {
   "cell_type": "markdown",
   "id": "94cca376",
   "metadata": {},
   "source": [
    "### $\\color{blue}{\\text{Séries}}$\n",
    "\n",
    "#### $\\color{red}{\\text{O que é uma Série?}}$\n",
    "Uma série Pandas é como uma coluna em uma tabela.\n",
    "\n",
    "É um array unidimensional que contém dados de qualquer tipo.\n",
    "\n",
    "Exemplo: (Criar uma série de Pandas simples a partir de uma lista)"
   ]
  },
  {
   "cell_type": "code",
   "execution_count": 1,
   "id": "dee54cbe",
   "metadata": {},
   "outputs": [
    {
     "name": "stdout",
     "output_type": "stream",
     "text": [
      "0    1\n",
      "1    7\n",
      "2    2\n",
      "dtype: int64\n"
     ]
    }
   ],
   "source": [
    "import pandas as pd\n",
    "\n",
    "a = [1, 7, 2]\n",
    "\n",
    "serie = pd.Series(a)\n",
    "\n",
    "print(serie)"
   ]
  },
  {
   "cell_type": "markdown",
   "id": "2f893b2f",
   "metadata": {},
   "source": [
    "#### $\\color{red}{\\text{Rótulos}}$\n",
    "\n",
    "Se nada mais for especificado, os valores serão rotulados com seu número de índice. O primeiro valor tem índice 0, o segundo valor tem índice 1 etc. (Como é visto em NumPY).\n",
    "\n",
    "Este rótulo pode ser usado para acessar um valor especificado."
   ]
  },
  {
   "cell_type": "code",
   "execution_count": 7,
   "id": "fa8787b9",
   "metadata": {},
   "outputs": [
    {
     "name": "stdout",
     "output_type": "stream",
     "text": [
      "1\n"
     ]
    }
   ],
   "source": [
    "print(serie[0])"
   ]
  },
  {
   "cell_type": "markdown",
   "id": "2546ff45",
   "metadata": {},
   "source": [
    "#### $\\color{red}{\\text{Rótulos}}$\n",
    "Com o argumento **index**, podemos nomear seus próprios rótulos. Cada elemento no **index** definirá um elemento no array."
   ]
  },
  {
   "cell_type": "code",
   "execution_count": 5,
   "id": "fd1ee7cb",
   "metadata": {},
   "outputs": [
    {
     "name": "stdout",
     "output_type": "stream",
     "text": [
      "x    1\n",
      "y    7\n",
      "z    2\n",
      "dtype: int64\n"
     ]
    }
   ],
   "source": [
    "import pandas as pd\n",
    "\n",
    "a = [1, 7, 2]\n",
    "\n",
    "serie = pd.Series(a, index = [\"x\", \"y\", \"z\"])\n",
    "\n",
    "print(serie)"
   ]
  },
  {
   "cell_type": "code",
   "execution_count": 6,
   "id": "5212037f",
   "metadata": {},
   "outputs": [
    {
     "name": "stdout",
     "output_type": "stream",
     "text": [
      "2\n"
     ]
    }
   ],
   "source": [
    "# Acesso ao item\n",
    "print(serie[\"z\"])"
   ]
  },
  {
   "cell_type": "markdown",
   "id": "2a6397a8",
   "metadata": {},
   "source": [
    "#### $\\color{red}{\\text{Objetos de chave/valor como série}}$\n",
    "Podemos usar um objeto de chave/valor, como um dicionário, ao criar uma série.\n",
    "\n",
    "Exemplo: (Criar uma série de Pandas simples a partir de um dicionário)"
   ]
  },
  {
   "cell_type": "code",
   "execution_count": 10,
   "id": "c138d35e",
   "metadata": {},
   "outputs": [
    {
     "name": "stdout",
     "output_type": "stream",
     "text": [
      "dia 1    420\n",
      "dia 2    380\n",
      "dia 3    390\n",
      "dtype: int64\n"
     ]
    }
   ],
   "source": [
    "import pandas as pd\n",
    "\n",
    "calories = {\"dia 1\": 420, \"dia 2\": 380, \"dia 3\": 390}\n",
    "\n",
    "serie = pd.Series(calories)\n",
    "\n",
    "print(serie)"
   ]
  },
  {
   "cell_type": "markdown",
   "id": "548d12c3",
   "metadata": {},
   "source": [
    ">As chaves do dicionário tornam-se os rótulos.\n",
    "\n",
    "Para selecionar apenas alguns dos itens do dicionário, é preciso usar o argumento **index** e especificar apenas os itens que deseja incluir na Série.\n",
    "\n",
    "Exemplo: (Criar uma série usando os dados de \"dia 1\" e \"dia 2\")"
   ]
  },
  {
   "cell_type": "code",
   "execution_count": 11,
   "id": "1705c981",
   "metadata": {},
   "outputs": [
    {
     "name": "stdout",
     "output_type": "stream",
     "text": [
      "dia 1    420\n",
      "dia 2    380\n",
      "dtype: int64\n"
     ]
    }
   ],
   "source": [
    "import pandas as pd\n",
    "\n",
    "calories = {\"dia 1\": 420, \"dia 2\": 380, \"dia 3\": 390}\n",
    "\n",
    "myvar = pd.Series(calories, index = [\"dia 1\", \"dia 2\"])\n",
    "\n",
    "print(myvar)"
   ]
  },
  {
   "cell_type": "markdown",
   "id": "552cff7d",
   "metadata": {},
   "source": [
    "### $\\color{blue}{\\text{DataFrames}}$\n",
    "\n",
    "#### $\\color{red}{\\text{O que é um DataFrame?}}$\n",
    "\n",
    "Um DataFrame é uma estrutura de dados bidimensional/multidimensionais, como uma matriz bidimensional ou uma tabela com linhas e colunas.\n",
    "\n",
    "> `Series` é como uma coluna, e um `DataFrame` é a tabela inteira.\n",
    "\n",
    "Exemplo: (Criar um DataFrame simples)"
   ]
  },
  {
   "cell_type": "code",
   "execution_count": 15,
   "id": "10a314ca",
   "metadata": {},
   "outputs": [
    {
     "name": "stdout",
     "output_type": "stream",
     "text": [
      "   calorias  duração(m)\n",
      "0       420          50\n",
      "1       380          40\n",
      "2       390          45\n"
     ]
    }
   ],
   "source": [
    "import pandas as pd\n",
    "\n",
    "data = {\n",
    "  \"calorias\": [420, 380, 390],\n",
    "  \"duração(m)\": [50, 40, 45]\n",
    "}\n",
    "\n",
    "#carregar dados em um objeto DataFrame:\n",
    "x = pd.DataFrame(data)\n",
    "\n",
    "print(x)"
   ]
  },
  {
   "cell_type": "markdown",
   "id": "c01c68d2",
   "metadata": {},
   "source": [
    "#### $\\color{red}{\\text{Localizando linha}}$\n",
    "\n",
    "Sendo o DataFrame uma tabela com linhas e colunas, o Pandas usa o atributo **loc** para retornar uma ou mais linhas especificadas.\n",
    "\n",
    "Exemplo: (Retornar a linha 0) \n",
    "- Este exemplo retorna um Pandas Series ."
   ]
  },
  {
   "cell_type": "code",
   "execution_count": 17,
   "id": "a07ff4b0",
   "metadata": {},
   "outputs": [
    {
     "name": "stdout",
     "output_type": "stream",
     "text": [
      "calorias      420\n",
      "duração(m)     50\n",
      "Name: 0, dtype: int64\n"
     ]
    }
   ],
   "source": [
    "print(x.loc[0])"
   ]
  },
  {
   "cell_type": "code",
   "execution_count": 19,
   "id": "43b813e3",
   "metadata": {},
   "outputs": [
    {
     "name": "stdout",
     "output_type": "stream",
     "text": [
      "   calorias  duração(m)\n",
      "0       420          50\n",
      "2       390          45\n"
     ]
    }
   ],
   "source": [
    "# Retornar a linha 0 e 2\n",
    "print(x.loc[[0, 2]])"
   ]
  },
  {
   "cell_type": "markdown",
   "id": "1b25abc7",
   "metadata": {},
   "source": [
    "Ao usar **[]**, o resultado é um Pandas DataFrame.\n",
    "\n",
    "#### $\\color{red}{\\text{Índices nomeados}}$\n",
    "\n",
    "Como visto anteriormente, podemos nomear os índices com o argumento **index**.\n",
    "\n",
    "Exemplo: (Adicionar uma lista de nomes para dar um nome a cada linha)"
   ]
  },
  {
   "cell_type": "code",
   "execution_count": 20,
   "id": "869c27bd",
   "metadata": {},
   "outputs": [
    {
     "name": "stdout",
     "output_type": "stream",
     "text": [
      "       calorias  duração(m)\n",
      "dia 1       420          50\n",
      "dia 2       380          40\n",
      "dia 3       390          45\n"
     ]
    }
   ],
   "source": [
    "import pandas as pd\n",
    "\n",
    "data = {\n",
    "  \"calorias\": [420, 380, 390],\n",
    "  \"duração(m)\": [50, 40, 45]\n",
    "}\n",
    "\n",
    "#carregar dados em um objeto DataFrame:\n",
    "x = pd.DataFrame(data,index =[\"dia 1\",\"dia 2\",\"dia 3\"])\n",
    "\n",
    "print(x)"
   ]
  },
  {
   "cell_type": "markdown",
   "id": "964645f5",
   "metadata": {},
   "source": [
    "#### $\\color{red}{\\text{Localizar índices nomeados}}$\n",
    "\n",
    "Assim como anteriormente usamos **loc** para retornar a(s) linha(s) especificada(s).\n",
    "\n",
    "Exemplo: (Retornar \"dia 3\")"
   ]
  },
  {
   "cell_type": "code",
   "execution_count": 21,
   "id": "b143cf3e",
   "metadata": {},
   "outputs": [
    {
     "name": "stdout",
     "output_type": "stream",
     "text": [
      "calorias      390\n",
      "duração(m)     45\n",
      "Name: dia 3, dtype: int64\n"
     ]
    }
   ],
   "source": [
    "print(x.loc[\"dia 3\"])"
   ]
  },
  {
   "cell_type": "markdown",
   "id": "6c3c4145",
   "metadata": {},
   "source": [
    "### $\\color{blue}{\\text{CSV}}$\n",
    "#### $\\color{red}{\\text{Leitura arquivos CSV}}$\n",
    "Uma maneira simples de armazenar grandes conjuntos de dados é usar arquivos CSV (arquivos separados por vírgula).\n",
    "\n",
    "Os arquivos CSV contêm texto simples e é um formato bem conhecido que pode ser lido por todos, incluindo Pandas.\n",
    "\n",
    "Exemplo: (Carregar o CSV em um DataFrame)\n",
    "\n",
    "- Primeiro faremos no Jupyter Notebook:\n",
    "\n",
    "Utilizando a sintaxe:\n",
    "\n",
    "`'C://Users//user//Local onde foi colocado o CSV//NomeDoCSV.csv`"
   ]
  },
  {
   "cell_type": "code",
   "execution_count": 27,
   "id": "d098a635",
   "metadata": {},
   "outputs": [
    {
     "name": "stdout",
     "output_type": "stream",
     "text": [
      "     Duration  Pulse  Maxpulse  Calories\n",
      "0          60    110       130     409.1\n",
      "1          60    117       145     479.0\n",
      "2          60    103       135     340.0\n",
      "3          45    109       175     282.4\n",
      "4          45    117       148     406.0\n",
      "5          60    102       127     300.0\n",
      "6          60    110       136     374.0\n",
      "7          45    104       134     253.3\n",
      "8          30    109       133     195.1\n",
      "9          60     98       124     269.0\n",
      "10         60    103       147     329.3\n",
      "11         60    100       120     250.7\n",
      "12         60    106       128     345.3\n",
      "13         60    104       132     379.3\n",
      "14         60     98       123     275.0\n",
      "15         60     98       120     215.2\n",
      "16         60    100       120     300.0\n",
      "17         45     90       112       NaN\n",
      "18         60    103       123     323.0\n",
      "19         45     97       125     243.0\n",
      "20         60    108       131     364.2\n",
      "21         45    100       119     282.0\n",
      "22         60    130       101     300.0\n",
      "23         45    105       132     246.0\n",
      "24         60    102       126     334.5\n",
      "25         60    100       120     250.0\n",
      "26         60     92       118     241.0\n",
      "27         60    103       132       NaN\n",
      "28         60    100       132     280.0\n",
      "29         60    102       129     380.3\n",
      "30         60     92       115     243.0\n",
      "31         45     90       112     180.1\n",
      "32         60    101       124     299.0\n",
      "33         60     93       113     223.0\n",
      "34         60    107       136     361.0\n",
      "35         60    114       140     415.0\n",
      "36         60    102       127     300.0\n",
      "37         60    100       120     300.0\n",
      "38         60    100       120     300.0\n",
      "39         45    104       129     266.0\n",
      "40         45     90       112     180.1\n",
      "41         60     98       126     286.0\n",
      "42         60    100       122     329.4\n",
      "43         60    111       138     400.0\n",
      "44         60    111       131     397.0\n",
      "45         60     99       119     273.0\n",
      "46         60    109       153     387.6\n",
      "47         45    111       136     300.0\n",
      "48         45    108       129     298.0\n",
      "49         60    111       139     397.6\n",
      "50         60    107       136     380.2\n",
      "51         80    123       146     643.1\n",
      "52         60    106       130     263.0\n",
      "53         60    118       151     486.0\n",
      "54         30    136       175     238.0\n",
      "55         60    121       146     450.7\n",
      "56         60    118       121     413.0\n",
      "57         45    115       144     305.0\n",
      "58         20    153       172     226.4\n",
      "59         45    123       152     321.0\n",
      "60        210    108       160    1376.0\n",
      "61        160    110       137    1034.4\n",
      "62        160    109       135     853.0\n",
      "63         45    118       141     341.0\n",
      "64         20    110       130     131.4\n",
      "65        180     90       130     800.4\n",
      "66        150    105       135     873.4\n",
      "67        150    107       130     816.0\n",
      "68         20    106       136     110.4\n",
      "69        300    108       143    1500.2\n",
      "70        150     97       129    1115.0\n",
      "71         60    109       153     387.6\n",
      "72         90    100       127     700.0\n",
      "73        150     97       127     953.2\n",
      "74         45    114       146     304.0\n",
      "75         90     98       125     563.2\n",
      "76         45    105       134     251.0\n",
      "77         45    110       141     300.0\n",
      "78        120    100       130     500.4\n",
      "79        270    100       131    1729.0\n",
      "80         30    159       182     319.2\n",
      "81         45    149       169     344.0\n",
      "82         30    103       139     151.1\n",
      "83        120    100       130     500.0\n",
      "84         45    100       120     225.3\n",
      "85         30    151       170     300.0\n",
      "86         45    102       136     234.0\n",
      "87        120    100       157    1000.1\n",
      "88         45    129       103     242.0\n",
      "89         20     83       107      50.3\n",
      "90        180    101       127     600.1\n",
      "91         45    107       137       NaN\n",
      "92         30     90       107     105.3\n",
      "93         15     80       100      50.5\n",
      "94         20    150       171     127.4\n",
      "95         20    151       168     229.4\n",
      "96         30     95       128     128.2\n",
      "97         25    152       168     244.2\n",
      "98         30    109       131     188.2\n",
      "99         90     93       124     604.1\n",
      "100        20     95       112      77.7\n",
      "101        90     90       110     500.0\n",
      "102        90     90       100     500.0\n",
      "103        90     90       100     500.4\n",
      "104        30     92       108      92.7\n",
      "105        30     93       128     124.0\n",
      "106       180     90       120     800.3\n",
      "107        30     90       120      86.2\n",
      "108        90     90       120     500.3\n",
      "109       210    137       184    1860.4\n",
      "110        60    102       124     325.2\n",
      "111        45    107       124     275.0\n",
      "112        15    124       139     124.2\n",
      "113        45    100       120     225.3\n",
      "114        60    108       131     367.6\n",
      "115        60    108       151     351.7\n",
      "116        60    116       141     443.0\n",
      "117        60     97       122     277.4\n",
      "118        60    105       125       NaN\n",
      "119        60    103       124     332.7\n",
      "120        30    112       137     193.9\n",
      "121        45    100       120     100.7\n",
      "122        60    119       169     336.7\n",
      "123        60    107       127     344.9\n",
      "124        60    111       151     368.5\n",
      "125        60     98       122     271.0\n",
      "126        60     97       124     275.3\n",
      "127        60    109       127     382.0\n",
      "128        90     99       125     466.4\n",
      "129        60    114       151     384.0\n",
      "130        60    104       134     342.5\n",
      "131        60    107       138     357.5\n",
      "132        60    103       133     335.0\n",
      "133        60    106       132     327.5\n",
      "134        60    103       136     339.0\n",
      "135        20    136       156     189.0\n",
      "136        45    117       143     317.7\n",
      "137        45    115       137     318.0\n",
      "138        45    113       138     308.0\n",
      "139        20    141       162     222.4\n",
      "140        60    108       135     390.0\n",
      "141        60     97       127       NaN\n",
      "142        45    100       120     250.4\n",
      "143        45    122       149     335.4\n",
      "144        60    136       170     470.2\n",
      "145        45    106       126     270.8\n",
      "146        60    107       136     400.0\n",
      "147        60    112       146     361.9\n",
      "148        30    103       127     185.0\n",
      "149        60    110       150     409.4\n",
      "150        60    106       134     343.0\n",
      "151        60    109       129     353.2\n",
      "152        60    109       138     374.0\n",
      "153        30    150       167     275.8\n",
      "154        60    105       128     328.0\n",
      "155        60    111       151     368.5\n",
      "156        60     97       131     270.4\n",
      "157        60    100       120     270.4\n",
      "158        60    114       150     382.8\n",
      "159        30     80       120     240.9\n",
      "160        30     85       120     250.4\n",
      "161        45     90       130     260.4\n",
      "162        45     95       130     270.0\n",
      "163        45    100       140     280.9\n",
      "164        60    105       140     290.8\n",
      "165        60    110       145     300.0\n",
      "166        60    115       145     310.2\n",
      "167        75    120       150     320.4\n",
      "168        75    125       150     330.4\n"
     ]
    }
   ],
   "source": [
    "import pandas as pd\n",
    "\n",
    "x = pd.read_csv('C://Users//bialn//Downloads//Leitura CSV//data.csv')\n",
    "\n",
    "print(x.to_string()) "
   ]
  },
  {
   "cell_type": "markdown",
   "id": "3c883130",
   "metadata": {},
   "source": [
    "- Utilizando o VSCode\n",
    "\n",
    "`'C:\\\\Users\\\\user\\\\Local onde foi colocado o CSV\\\\NomeDoCSV.csv'`"
   ]
  },
  {
   "cell_type": "code",
   "execution_count": null,
   "id": "2d3cf6cf",
   "metadata": {},
   "outputs": [],
   "source": [
    "import pandas as pd\n",
    "\n",
    "x = pd.read_csv('C:\\\\Users\\\\bialn\\\\Downloads\\\\Leitura CSV\\\\data.csv')\n",
    "\n",
    "print(x.to_string()) "
   ]
  },
  {
   "cell_type": "markdown",
   "id": "422981d5",
   "metadata": {},
   "source": [
    "É possível fazer o mesmo com a sintaxe para usada no acesso do Jupyter Notebook no VSCode mas terá que instalar a leitura de especificação para sistemas de arquivos: **fsspec**.\n",
    " Para isso basta escever **pip install fsspec** no terminal.\n",
    " \n",
    " O **to_string()** serve para imprimir todo o DataFrame.\n",
    " Se não tivessemos utilizado esse parâmetros, então o Pandas retornaria paenas as 5 primeiras linhas e as 5 últimas."
   ]
  },
  {
   "cell_type": "code",
   "execution_count": 28,
   "id": "f5ca3063",
   "metadata": {},
   "outputs": [
    {
     "name": "stdout",
     "output_type": "stream",
     "text": [
      "     Duration  Pulse  Maxpulse  Calories\n",
      "0          60    110       130     409.1\n",
      "1          60    117       145     479.0\n",
      "2          60    103       135     340.0\n",
      "3          45    109       175     282.4\n",
      "4          45    117       148     406.0\n",
      "..        ...    ...       ...       ...\n",
      "164        60    105       140     290.8\n",
      "165        60    110       145     300.0\n",
      "166        60    115       145     310.2\n",
      "167        75    120       150     320.4\n",
      "168        75    125       150     330.4\n",
      "\n",
      "[169 rows x 4 columns]\n"
     ]
    }
   ],
   "source": [
    "import pandas as pd\n",
    "\n",
    "x = pd.read_csv('C://Users//bialn//Downloads//Leitura CSV//data.csv')\n",
    "\n",
    "print(x) "
   ]
  },
  {
   "cell_type": "markdown",
   "id": "dd4ac6eb",
   "metadata": {},
   "source": [
    "#### $\\color{red}{\\text{max_rows}}$\n",
    "\n",
    "O número de linhas retornadas é definido nas configurações de opção do Pandas.\n",
    "\n",
    "Podemos verificar o número máximo de linhas do seu sistema com a  instrução **pd.options.display.max_rows**.\n",
    "\n",
    "Exemplo: (Verificar o número máximo de linhas retornadas)"
   ]
  },
  {
   "cell_type": "code",
   "execution_count": 29,
   "id": "5d89fe99",
   "metadata": {},
   "outputs": [
    {
     "name": "stdout",
     "output_type": "stream",
     "text": [
      "60\n"
     ]
    }
   ],
   "source": [
    "import pandas as pd\n",
    "\n",
    "print(pd.options.display.max_rows) "
   ]
  },
  {
   "cell_type": "markdown",
   "id": "57b83778",
   "metadata": {},
   "source": [
    "Apareceu o número 60 em meu programa, o que significa que se o DataFrame contiver mais de 60 linhas, a instrução print(df) retornará apenas os cabeçalhos e as primeiras e últimas 5 linhas.\n",
    "Podemos altera o número máximo de linhas utilizando a mesma instrução.\n",
    "\n",
    "Exemplo: (Aumentar o número máximo de linhas para exibir o DataFrame inteiro)"
   ]
  },
  {
   "cell_type": "code",
   "execution_count": 30,
   "id": "1bcabdc2",
   "metadata": {},
   "outputs": [
    {
     "name": "stdout",
     "output_type": "stream",
     "text": [
      "     Duration  Pulse  Maxpulse  Calories\n",
      "0          60    110       130     409.1\n",
      "1          60    117       145     479.0\n",
      "2          60    103       135     340.0\n",
      "3          45    109       175     282.4\n",
      "4          45    117       148     406.0\n",
      "5          60    102       127     300.0\n",
      "6          60    110       136     374.0\n",
      "7          45    104       134     253.3\n",
      "8          30    109       133     195.1\n",
      "9          60     98       124     269.0\n",
      "10         60    103       147     329.3\n",
      "11         60    100       120     250.7\n",
      "12         60    106       128     345.3\n",
      "13         60    104       132     379.3\n",
      "14         60     98       123     275.0\n",
      "15         60     98       120     215.2\n",
      "16         60    100       120     300.0\n",
      "17         45     90       112       NaN\n",
      "18         60    103       123     323.0\n",
      "19         45     97       125     243.0\n",
      "20         60    108       131     364.2\n",
      "21         45    100       119     282.0\n",
      "22         60    130       101     300.0\n",
      "23         45    105       132     246.0\n",
      "24         60    102       126     334.5\n",
      "25         60    100       120     250.0\n",
      "26         60     92       118     241.0\n",
      "27         60    103       132       NaN\n",
      "28         60    100       132     280.0\n",
      "29         60    102       129     380.3\n",
      "30         60     92       115     243.0\n",
      "31         45     90       112     180.1\n",
      "32         60    101       124     299.0\n",
      "33         60     93       113     223.0\n",
      "34         60    107       136     361.0\n",
      "35         60    114       140     415.0\n",
      "36         60    102       127     300.0\n",
      "37         60    100       120     300.0\n",
      "38         60    100       120     300.0\n",
      "39         45    104       129     266.0\n",
      "40         45     90       112     180.1\n",
      "41         60     98       126     286.0\n",
      "42         60    100       122     329.4\n",
      "43         60    111       138     400.0\n",
      "44         60    111       131     397.0\n",
      "45         60     99       119     273.0\n",
      "46         60    109       153     387.6\n",
      "47         45    111       136     300.0\n",
      "48         45    108       129     298.0\n",
      "49         60    111       139     397.6\n",
      "50         60    107       136     380.2\n",
      "51         80    123       146     643.1\n",
      "52         60    106       130     263.0\n",
      "53         60    118       151     486.0\n",
      "54         30    136       175     238.0\n",
      "55         60    121       146     450.7\n",
      "56         60    118       121     413.0\n",
      "57         45    115       144     305.0\n",
      "58         20    153       172     226.4\n",
      "59         45    123       152     321.0\n",
      "60        210    108       160    1376.0\n",
      "61        160    110       137    1034.4\n",
      "62        160    109       135     853.0\n",
      "63         45    118       141     341.0\n",
      "64         20    110       130     131.4\n",
      "65        180     90       130     800.4\n",
      "66        150    105       135     873.4\n",
      "67        150    107       130     816.0\n",
      "68         20    106       136     110.4\n",
      "69        300    108       143    1500.2\n",
      "70        150     97       129    1115.0\n",
      "71         60    109       153     387.6\n",
      "72         90    100       127     700.0\n",
      "73        150     97       127     953.2\n",
      "74         45    114       146     304.0\n",
      "75         90     98       125     563.2\n",
      "76         45    105       134     251.0\n",
      "77         45    110       141     300.0\n",
      "78        120    100       130     500.4\n",
      "79        270    100       131    1729.0\n",
      "80         30    159       182     319.2\n",
      "81         45    149       169     344.0\n",
      "82         30    103       139     151.1\n",
      "83        120    100       130     500.0\n",
      "84         45    100       120     225.3\n",
      "85         30    151       170     300.0\n",
      "86         45    102       136     234.0\n",
      "87        120    100       157    1000.1\n",
      "88         45    129       103     242.0\n",
      "89         20     83       107      50.3\n",
      "90        180    101       127     600.1\n",
      "91         45    107       137       NaN\n",
      "92         30     90       107     105.3\n",
      "93         15     80       100      50.5\n",
      "94         20    150       171     127.4\n",
      "95         20    151       168     229.4\n",
      "96         30     95       128     128.2\n",
      "97         25    152       168     244.2\n",
      "98         30    109       131     188.2\n",
      "99         90     93       124     604.1\n",
      "100        20     95       112      77.7\n",
      "101        90     90       110     500.0\n",
      "102        90     90       100     500.0\n",
      "103        90     90       100     500.4\n",
      "104        30     92       108      92.7\n",
      "105        30     93       128     124.0\n",
      "106       180     90       120     800.3\n",
      "107        30     90       120      86.2\n",
      "108        90     90       120     500.3\n",
      "109       210    137       184    1860.4\n",
      "110        60    102       124     325.2\n",
      "111        45    107       124     275.0\n",
      "112        15    124       139     124.2\n",
      "113        45    100       120     225.3\n",
      "114        60    108       131     367.6\n",
      "115        60    108       151     351.7\n",
      "116        60    116       141     443.0\n",
      "117        60     97       122     277.4\n",
      "118        60    105       125       NaN\n",
      "119        60    103       124     332.7\n",
      "120        30    112       137     193.9\n",
      "121        45    100       120     100.7\n",
      "122        60    119       169     336.7\n",
      "123        60    107       127     344.9\n",
      "124        60    111       151     368.5\n",
      "125        60     98       122     271.0\n",
      "126        60     97       124     275.3\n",
      "127        60    109       127     382.0\n",
      "128        90     99       125     466.4\n",
      "129        60    114       151     384.0\n",
      "130        60    104       134     342.5\n",
      "131        60    107       138     357.5\n",
      "132        60    103       133     335.0\n",
      "133        60    106       132     327.5\n",
      "134        60    103       136     339.0\n",
      "135        20    136       156     189.0\n",
      "136        45    117       143     317.7\n",
      "137        45    115       137     318.0\n",
      "138        45    113       138     308.0\n",
      "139        20    141       162     222.4\n",
      "140        60    108       135     390.0\n",
      "141        60     97       127       NaN\n",
      "142        45    100       120     250.4\n",
      "143        45    122       149     335.4\n",
      "144        60    136       170     470.2\n",
      "145        45    106       126     270.8\n",
      "146        60    107       136     400.0\n",
      "147        60    112       146     361.9\n",
      "148        30    103       127     185.0\n",
      "149        60    110       150     409.4\n",
      "150        60    106       134     343.0\n",
      "151        60    109       129     353.2\n",
      "152        60    109       138     374.0\n",
      "153        30    150       167     275.8\n",
      "154        60    105       128     328.0\n",
      "155        60    111       151     368.5\n",
      "156        60     97       131     270.4\n",
      "157        60    100       120     270.4\n",
      "158        60    114       150     382.8\n",
      "159        30     80       120     240.9\n",
      "160        30     85       120     250.4\n",
      "161        45     90       130     260.4\n",
      "162        45     95       130     270.0\n",
      "163        45    100       140     280.9\n",
      "164        60    105       140     290.8\n",
      "165        60    110       145     300.0\n",
      "166        60    115       145     310.2\n",
      "167        75    120       150     320.4\n",
      "168        75    125       150     330.4\n"
     ]
    }
   ],
   "source": [
    "import pandas as pd\n",
    "\n",
    "pd.options.display.max_rows = 9999\n",
    "\n",
    "x = pd.read_csv('C://Users//bialn//Downloads//Leitura CSV//data.csv')\n",
    "\n",
    "print(x) "
   ]
  },
  {
   "cell_type": "markdown",
   "id": "f27d9c2d",
   "metadata": {},
   "source": [
    "### $\\color{blue}{\\text{JSON}}$\n",
    "#### $\\color{red}{\\text{Leitura de um JSON}}$\n",
    "Os conjuntos de big data geralmente são armazenados ou extraídos como JSON.\n",
    "\n",
    "JSON é texto simples, mas tem o formato de um objeto, e é bastante conhecido no mundo da programação, incluindo Pandas.\n",
    "\n",
    "E segue a mesma lógica do CSV.\n",
    "\n",
    "Exemplo: (Carregar o arquivo JSON em um DataFrame)"
   ]
  },
  {
   "cell_type": "code",
   "execution_count": 31,
   "id": "a4d4453e",
   "metadata": {},
   "outputs": [
    {
     "name": "stdout",
     "output_type": "stream",
     "text": [
      "     Duration  Pulse  Maxpulse  Calories\n",
      "0          60    110       130     409.1\n",
      "1          60    117       145     479.0\n",
      "2          60    103       135     340.0\n",
      "3          45    109       175     282.4\n",
      "4          45    117       148     406.0\n",
      "5          60    102       127     300.5\n",
      "6          60    110       136     374.0\n",
      "7          45    104       134     253.3\n",
      "8          30    109       133     195.1\n",
      "9          60     98       124     269.0\n",
      "10         60    103       147     329.3\n",
      "11         60    100       120     250.7\n",
      "12         60    106       128     345.3\n",
      "13         60    104       132     379.3\n",
      "14         60     98       123     275.0\n",
      "15         60     98       120     215.2\n",
      "16         60    100       120     300.0\n",
      "17         45     90       112       NaN\n",
      "18         60    103       123     323.0\n",
      "19         45     97       125     243.0\n",
      "20         60    108       131     364.2\n",
      "21         45    100       119     282.0\n",
      "22         60    130       101     300.0\n",
      "23         45    105       132     246.0\n",
      "24         60    102       126     334.5\n",
      "25         60    100       120     250.0\n",
      "26         60     92       118     241.0\n",
      "27         60    103       132       NaN\n",
      "28         60    100       132     280.0\n",
      "29         60    102       129     380.3\n",
      "30         60     92       115     243.0\n",
      "31         45     90       112     180.1\n",
      "32         60    101       124     299.0\n",
      "33         60     93       113     223.0\n",
      "34         60    107       136     361.0\n",
      "35         60    114       140     415.0\n",
      "36         60    102       127     300.5\n",
      "37         60    100       120     300.1\n",
      "38         60    100       120     300.0\n",
      "39         45    104       129     266.0\n",
      "40         45     90       112     180.1\n",
      "41         60     98       126     286.0\n",
      "42         60    100       122     329.4\n",
      "43         60    111       138     400.0\n",
      "44         60    111       131     397.0\n",
      "45         60     99       119     273.0\n",
      "46         60    109       153     387.6\n",
      "47         45    111       136     300.0\n",
      "48         45    108       129     298.0\n",
      "49         60    111       139     397.6\n",
      "50         60    107       136     380.2\n",
      "51         80    123       146     643.1\n",
      "52         60    106       130     263.0\n",
      "53         60    118       151     486.0\n",
      "54         30    136       175     238.0\n",
      "55         60    121       146     450.7\n",
      "56         60    118       121     413.0\n",
      "57         45    115       144     305.0\n",
      "58         20    153       172     226.4\n",
      "59         45    123       152     321.0\n",
      "60        210    108       160    1376.0\n",
      "61        160    110       137    1034.4\n",
      "62        160    109       135     853.0\n",
      "63         45    118       141     341.0\n",
      "64         20    110       130     131.4\n",
      "65        180     90       130     800.4\n",
      "66        150    105       135     873.4\n",
      "67        150    107       130     816.0\n",
      "68         20    106       136     110.4\n",
      "69        300    108       143    1500.2\n",
      "70        150     97       129    1115.0\n",
      "71         60    109       153     387.6\n",
      "72         90    100       127     700.0\n",
      "73        150     97       127     953.2\n",
      "74         45    114       146     304.0\n",
      "75         90     98       125     563.2\n",
      "76         45    105       134     251.0\n",
      "77         45    110       141     300.0\n",
      "78        120    100       130     500.4\n",
      "79        270    100       131    1729.0\n",
      "80         30    159       182     319.2\n",
      "81         45    149       169     344.0\n",
      "82         30    103       139     151.1\n",
      "83        120    100       130     500.0\n",
      "84         45    100       120     225.3\n",
      "85         30    151       170     300.1\n",
      "86         45    102       136     234.0\n",
      "87        120    100       157    1000.1\n",
      "88         45    129       103     242.0\n",
      "89         20     83       107      50.3\n",
      "90        180    101       127     600.1\n",
      "91         45    107       137       NaN\n",
      "92         30     90       107     105.3\n",
      "93         15     80       100      50.5\n",
      "94         20    150       171     127.4\n",
      "95         20    151       168     229.4\n",
      "96         30     95       128     128.2\n",
      "97         25    152       168     244.2\n",
      "98         30    109       131     188.2\n",
      "99         90     93       124     604.1\n",
      "100        20     95       112      77.7\n",
      "101        90     90       110     500.0\n",
      "102        90     90       100     500.0\n",
      "103        90     90       100     500.4\n",
      "104        30     92       108      92.7\n",
      "105        30     93       128     124.0\n",
      "106       180     90       120     800.3\n",
      "107        30     90       120      86.2\n",
      "108        90     90       120     500.3\n",
      "109       210    137       184    1860.4\n",
      "110        60    102       124     325.2\n",
      "111        45    107       124     275.0\n",
      "112        15    124       139     124.2\n",
      "113        45    100       120     225.3\n",
      "114        60    108       131     367.6\n",
      "115        60    108       151     351.7\n",
      "116        60    116       141     443.0\n",
      "117        60     97       122     277.4\n",
      "118        60    105       125       NaN\n",
      "119        60    103       124     332.7\n",
      "120        30    112       137     193.9\n",
      "121        45    100       120     100.7\n",
      "122        60    119       169     336.7\n",
      "123        60    107       127     344.9\n",
      "124        60    111       151     368.5\n",
      "125        60     98       122     271.0\n",
      "126        60     97       124     275.3\n",
      "127        60    109       127     382.0\n",
      "128        90     99       125     466.4\n",
      "129        60    114       151     384.0\n",
      "130        60    104       134     342.5\n",
      "131        60    107       138     357.5\n",
      "132        60    103       133     335.0\n",
      "133        60    106       132     327.5\n",
      "134        60    103       136     339.0\n",
      "135        20    136       156     189.0\n",
      "136        45    117       143     317.7\n",
      "137        45    115       137     318.0\n",
      "138        45    113       138     308.0\n",
      "139        20    141       162     222.4\n",
      "140        60    108       135     390.0\n",
      "141        60     97       127       NaN\n",
      "142        45    100       120     250.4\n",
      "143        45    122       149     335.4\n",
      "144        60    136       170     470.2\n",
      "145        45    106       126     270.8\n",
      "146        60    107       136     400.0\n",
      "147        60    112       146     361.9\n",
      "148        30    103       127     185.0\n",
      "149        60    110       150     409.4\n",
      "150        60    106       134     343.0\n",
      "151        60    109       129     353.2\n",
      "152        60    109       138     374.0\n",
      "153        30    150       167     275.8\n",
      "154        60    105       128     328.0\n",
      "155        60    111       151     368.5\n",
      "156        60     97       131     270.4\n",
      "157        60    100       120     270.4\n",
      "158        60    114       150     382.8\n",
      "159        30     80       120     240.9\n",
      "160        30     85       120     250.4\n",
      "161        45     90       130     260.4\n",
      "162        45     95       130     270.0\n",
      "163        45    100       140     280.9\n",
      "164        60    105       140     290.8\n",
      "165        60    110       145     300.4\n",
      "166        60    115       145     310.2\n",
      "167        75    120       150     320.4\n",
      "168        75    125       150     330.4\n"
     ]
    }
   ],
   "source": [
    "import pandas as pd\n",
    "\n",
    "x = pd.read_json('C://Users//bialn//Downloads//Leitura JSON//data.json')\n",
    "\n",
    "print(x.to_string()) # Imprimindo todo o DataFrame"
   ]
  },
  {
   "cell_type": "markdown",
   "id": "f9f9e9c0",
   "metadata": {},
   "source": [
    "#### $\\color{red}{\\text{Dicionário como JSON}}$\n",
    "\n",
    "> JSON = Dicionário Python\n",
    ">>Os objetos JSON têm o mesmo formato dos dicionários Python.\n",
    "\n",
    "Se o código JSON não estiver em um arquivo, mas em um Dicionário Python, poderemos carregá-lo diretamente em um DataFrame.\n",
    "\n",
    "\n",
    "Exemplo: (Carregar um dicionário Python em um DataFrame)"
   ]
  },
  {
   "cell_type": "code",
   "execution_count": 32,
   "id": "d7647f8a",
   "metadata": {},
   "outputs": [
    {
     "name": "stdout",
     "output_type": "stream",
     "text": [
      "   Duração  Pulso  Pulso Max  Calorias\n",
      "0       60    110        130       409\n",
      "1       60    117        145       479\n",
      "2       60    103        135       340\n",
      "3       45    109        175       282\n",
      "4       45    117        148       406\n",
      "5       60    102        127       300\n"
     ]
    }
   ],
   "source": [
    "import pandas as pd\n",
    "\n",
    "data = {\n",
    "  \"Duração\":{\n",
    "    \"0\":60,\n",
    "    \"1\":60,\n",
    "    \"2\":60,\n",
    "    \"3\":45,\n",
    "    \"4\":45,\n",
    "    \"5\":60\n",
    "  },\n",
    "  \"Pulso\":{\n",
    "    \"0\":110,\n",
    "    \"1\":117,\n",
    "    \"2\":103,\n",
    "    \"3\":109,\n",
    "    \"4\":117,\n",
    "    \"5\":102\n",
    "  },\n",
    "  \"Pulso Max\":{\n",
    "    \"0\":130,\n",
    "    \"1\":145,\n",
    "    \"2\":135,\n",
    "    \"3\":175,\n",
    "    \"4\":148,\n",
    "    \"5\":127\n",
    "  },\n",
    "  \"Calorias\":{\n",
    "    \"0\":409,\n",
    "    \"1\":479,\n",
    "    \"2\":340,\n",
    "    \"3\":282,\n",
    "    \"4\":406,\n",
    "    \"5\":300\n",
    "  }\n",
    "}\n",
    "\n",
    "x = pd.DataFrame(data)\n",
    "\n",
    "print(x) "
   ]
  },
  {
   "cell_type": "markdown",
   "id": "682b48fa",
   "metadata": {},
   "source": [
    "### $\\color{blue}{\\text{Analisando DataFrames}}$\n",
    "\n",
    "#### $\\color{red}{\\text{Visualizando os dados}}$\n",
    "\n",
    "Um dos métodos mais usados para obter uma visão geral rápida do DataFrame, é o método **head()**.\n",
    "\n",
    "O **head()** retorna os cabeçalhos e um número especificado de linhas, começando do topo.\n",
    "\n",
    "Exemplo: (Obter uma visão geral rápida imprimindo as primeiras 10 linhas do DataFrame)"
   ]
  },
  {
   "cell_type": "code",
   "execution_count": 33,
   "id": "4b510793",
   "metadata": {},
   "outputs": [
    {
     "name": "stdout",
     "output_type": "stream",
     "text": [
      "   Duration  Pulse  Maxpulse  Calories\n",
      "0        60    110       130     409.1\n",
      "1        60    117       145     479.0\n",
      "2        60    103       135     340.0\n",
      "3        45    109       175     282.4\n",
      "4        45    117       148     406.0\n",
      "5        60    102       127     300.0\n",
      "6        60    110       136     374.0\n",
      "7        45    104       134     253.3\n",
      "8        30    109       133     195.1\n",
      "9        60     98       124     269.0\n"
     ]
    }
   ],
   "source": [
    "import pandas as pd\n",
    "\n",
    "x = pd.read_csv('C://Users//bialn//Downloads//Leitura CSV//data.csv')\n",
    "\n",
    "print(x.head(10))"
   ]
  },
  {
   "cell_type": "markdown",
   "id": "cfe0c796",
   "metadata": {},
   "source": [
    "Se o número de linhas não for especificado, o método **head()** retornará as 5 primeiras linhas."
   ]
  },
  {
   "cell_type": "code",
   "execution_count": 34,
   "id": "30fe6cbb",
   "metadata": {},
   "outputs": [
    {
     "name": "stdout",
     "output_type": "stream",
     "text": [
      "   Duration  Pulse  Maxpulse  Calories\n",
      "0        60    110       130     409.1\n",
      "1        60    117       145     479.0\n",
      "2        60    103       135     340.0\n",
      "3        45    109       175     282.4\n",
      "4        45    117       148     406.0\n"
     ]
    }
   ],
   "source": [
    "import pandas as pd\n",
    "\n",
    "x = pd.read_csv('C://Users//bialn//Downloads//Leitura CSV//data.csv')\n",
    "\n",
    "print(x.head())"
   ]
  },
  {
   "cell_type": "markdown",
   "id": "4ef62644",
   "metadata": {},
   "source": [
    "Há também um método **tail()** para visualizar as últimas linhas do DataFrame.\n",
    "\n",
    "O **tail()** retorna os cabeçalhos e um número especificado de linhas, começando na parte inferior.\n",
    "\n",
    "Exemplo: (Imprimir as últimas 5 linhas do DataFrame)"
   ]
  },
  {
   "cell_type": "code",
   "execution_count": 35,
   "id": "7ccc8c5a",
   "metadata": {},
   "outputs": [
    {
     "name": "stdout",
     "output_type": "stream",
     "text": [
      "     Duration  Pulse  Maxpulse  Calories\n",
      "164        60    105       140     290.8\n",
      "165        60    110       145     300.0\n",
      "166        60    115       145     310.2\n",
      "167        75    120       150     320.4\n",
      "168        75    125       150     330.4\n"
     ]
    }
   ],
   "source": [
    "print(x.tail()) "
   ]
  },
  {
   "cell_type": "markdown",
   "id": "5a17e626",
   "metadata": {},
   "source": [
    "#### $\\color{red}{\\text{Informações sobre os dados}}$\n",
    "O objeto DataFrames possui um método chamado **info()**, que fornece mais informações sobre o conjunto de dados.\n",
    "\n",
    "Exemplo: (Imprimir informações sobre os dados)"
   ]
  },
  {
   "cell_type": "code",
   "execution_count": 36,
   "id": "0657e294",
   "metadata": {},
   "outputs": [
    {
     "name": "stdout",
     "output_type": "stream",
     "text": [
      "<class 'pandas.core.frame.DataFrame'>\n",
      "RangeIndex: 169 entries, 0 to 168\n",
      "Data columns (total 4 columns):\n",
      " #   Column    Non-Null Count  Dtype  \n",
      "---  ------    --------------  -----  \n",
      " 0   Duration  169 non-null    int64  \n",
      " 1   Pulse     169 non-null    int64  \n",
      " 2   Maxpulse  169 non-null    int64  \n",
      " 3   Calories  164 non-null    float64\n",
      "dtypes: float64(1), int64(3)\n",
      "memory usage: 5.4 KB\n",
      "None\n"
     ]
    }
   ],
   "source": [
    "print(x.info()) "
   ]
  },
  {
   "cell_type": "markdown",
   "id": "cb4fe8cf",
   "metadata": {},
   "source": [
    "Temos que existem 169 linhas e 4 colunas, e o nome de cada coluna, com o tipo de dados.\n",
    "\n",
    "#### $\\color{red}{\\text{Valores Nulos}}$\n",
    "\n",
    "O método **info()** também nos diz quantos valores não nulos estão presentes em cada coluna e, em nosso conjunto de dados, parece que há 164 de 169 valores não nulos na coluna \"Calorias\".\n",
    "\n",
    "O que significa que existem 5 linhas sem valor algum, na coluna \"Calorias\", por qualquer motivo.\n",
    "\n",
    "Valores vazios, ou valores nulos, podem ser ruins ao analisar dados, e deve-se considerar a remoção de linhas com valores vazios, isso é chamado de limpeza de dados ."
   ]
  },
  {
   "cell_type": "markdown",
   "id": "19003492",
   "metadata": {},
   "source": [
    "#### Para mais especificações: \n",
    "##### [pandas.Series ](https://pandas.pydata.org/docs/reference/api/pandas.Series.html)\n",
    "\n",
    "##### [pandas.Index ](https://pandas.pydata.org/docs/reference/api/pandas.Index.html)\n",
    "\n",
    "##### [pandas.DataFrame ](https://pandas.pydata.org/pandas-docs/stable/reference/api/pandas.DataFrame.html)\n",
    "\n",
    "##### [pandas.DataFrame.loc ](https://pandas.pydata.org/docs/reference/api/pandas.DataFrame.loc.html)\n",
    "\n",
    "##### [ Indexing and selecting data](https://pandas.pydata.org/docs/user_guide/indexing.html)\n",
    "\n",
    "##### [pandas.read_csv ](https://pandas.pydata.org/docs/reference/api/pandas.read_csv.html)\n",
    "\n",
    "##### [pandas.DataFrame.to_string ](https://pandas.pydata.org/docs/reference/api/pandas.DataFrame.to_string.html)\n",
    "\n",
    "##### [Options and settings ](https://pandas.pydata.org/pandas-docs/stable/user_guide/options.html)\n",
    "\n",
    "##### [fsspec](https://pypi.org/project/fsspec/)\n",
    "\n",
    "##### [pandas.read_json](https://pandas.pydata.org/docs/reference/api/pandas.read_json.html)\n",
    "\n",
    "##### [pandas.DataFrame.info](https://pandas.pydata.org/docs/reference/api/pandas.DataFrame.info.html)"
   ]
  }
 ],
 "metadata": {
  "kernelspec": {
   "display_name": "Python 3 (ipykernel)",
   "language": "python",
   "name": "python3"
  },
  "language_info": {
   "codemirror_mode": {
    "name": "ipython",
    "version": 3
   },
   "file_extension": ".py",
   "mimetype": "text/x-python",
   "name": "python",
   "nbconvert_exporter": "python",
   "pygments_lexer": "ipython3",
   "version": "3.9.12"
  }
 },
 "nbformat": 4,
 "nbformat_minor": 5
}
