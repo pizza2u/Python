{
 "cells": [
  {
   "cell_type": "markdown",
   "id": "af4177e2",
   "metadata": {},
   "source": [
    "### $\\color{blue}{\\text{Dados de Limpeza (Cleaning Data)}}$\n",
    "\n",
    "#### $\\color{red}{\\text{Limpeza de dados}}$\n",
    "A limpeza de dados significa corrigir dados ruins em seu conjunto de dados.\n",
    "\n",
    "Dados incorretos podem ser:\n",
    "\n",
    "- Células vazias\n",
    "- Dados no formato errado\n",
    "- Dados errados\n",
    "- Duplicatas"
   ]
  },
  {
   "cell_type": "code",
   "execution_count": 6,
   "id": "4643d24f",
   "metadata": {},
   "outputs": [
    {
     "name": "stdout",
     "output_type": "stream",
     "text": [
      "    Duration            Date   Pulse   Maxpulse   Calories\n",
      "0         60    '2020/12/01'     110        130      409.1\n",
      "1         60   '2020/12/02'      117        145      479.0\n",
      "2         60    '2020/12/03'     103        135      340.0\n",
      "3         45    '2020/12/04'     109        175      282.4\n",
      "4         45    '2020/12/05'     117        148      406.0\n",
      "5         60    '2020/12/06'     102        127      300.0\n",
      "6         60    '2020/12/07'     110        136      374.0\n",
      "7        450    '2020/12/08'     104        134      253.3\n",
      "8         30    '2020/12/09'     109        133      195.1\n",
      "9         60    '2020/12/10'      98        124      269.0\n",
      "10        60    '2020/12/11'     103        147      329.3\n",
      "11        60    '2020/12/12'     100        120      250.7\n",
      "12        60    '2020/12/12'     100        120      250.7\n",
      "13        60    '2020/12/13'     106        128      345.3\n",
      "14        60    '2020/12/14'     104        132      379.3\n",
      "15        60    '2020/12/15'      98        123      275.0\n",
      "16        60    '2020/12/16'      98        120      215.2\n",
      "17        60    '2020/12/17'     100        120      300.0\n",
      "18        45    '2020/12/18'      90        112        NaN\n",
      "19        60    '2020/12/19'     103        123      323.0\n",
      "20        45    '2020/12/20'      97        125      243.0\n",
      "21        60    '2020/12/21'     108        131      364.2\n",
      "22        45             NaN     100        119      282.0\n",
      "23        60    '2020/12/23'     130        101      300.0\n",
      "24        45    '2020/12/24'     105        132      246.0\n",
      "25        60    '2020/12/25'     102        126      334.5\n",
      "26        60      2020/12/26     100        120      250.0\n",
      "27        60    '2020/12/27'      92        118      241.0\n",
      "28        60    '2020/12/28'     103        132        NaN\n",
      "29        60    '2020/12/29'     100        132      280.0\n",
      "30        60    '2020/12/30'     102        129      380.3\n",
      "31        60    '2020/12/31'      92        115      243.0\n"
     ]
    }
   ],
   "source": [
    "import pandas as pd #ORIGINAL\n",
    "\n",
    "df = pd.read_csv('C://Users//bialn//Downloads//ArquivoCSV//data2.csv')\n",
    "\n",
    "print(df.to_string())"
   ]
  },
  {
   "cell_type": "code",
   "execution_count": 1,
   "id": "e29e9b48",
   "metadata": {},
   "outputs": [
    {
     "name": "stdout",
     "output_type": "stream",
     "text": [
      "    Duration            Date   Pulse   Maxpulse   Calories\n",
      "0         60    '2020/12/01'     110        130      409.1\n",
      "1         60   '2020/12/02'      117        145      479.0\n",
      "2         60    '2020/12/03'     103        135      340.0\n",
      "3         45    '2020/12/04'     109        175      282.4\n",
      "4         45    '2020/12/05'     117        148      406.0\n",
      "5         60    '2020/12/06'     102        127      300.0\n",
      "6         60    '2020/12/07'     110        136      374.0\n",
      "7        450    '2020/12/08'     104        134      253.3\n",
      "8         30    '2020/12/09'     109        133      195.1\n",
      "9         60    '2020/12/10'      98        124      269.0\n",
      "10        60    '2020/12/11'     103        147      329.3\n",
      "11        60    '2020/12/12'     100        120      250.7\n",
      "12        60    '2020/12/12'     100        120      250.7\n",
      "13        60    '2020/12/13'     106        128      345.3\n",
      "14        60    '2020/12/14'     104        132      379.3\n",
      "15        60    '2020/12/15'      98        123      275.0\n",
      "16        60    '2020/12/16'      98        120      215.2\n",
      "17        60    '2020/12/17'     100        120      300.0\n",
      "19        60    '2020/12/19'     103        123      323.0\n",
      "20        45    '2020/12/20'      97        125      243.0\n",
      "21        60    '2020/12/21'     108        131      364.2\n",
      "23        60    '2020/12/23'     130        101      300.0\n",
      "24        45    '2020/12/24'     105        132      246.0\n",
      "25        60    '2020/12/25'     102        126      334.5\n",
      "26        60      2020/12/26     100        120      250.0\n",
      "27        60    '2020/12/27'      92        118      241.0\n",
      "29        60    '2020/12/29'     100        132      280.0\n",
      "30        60    '2020/12/30'     102        129      380.3\n",
      "31        60    '2020/12/31'      92        115      243.0\n"
     ]
    }
   ],
   "source": [
    "import pandas as pd\n",
    "\n",
    "df = pd.read_csv('C://Users//bialn//Downloads//ArquivoCSV//data2.csv')\n",
    "new_df = df.dropna()\n",
    "\n",
    "print(new_df.to_string())"
   ]
  },
  {
   "cell_type": "markdown",
   "id": "83f45219",
   "metadata": {},
   "source": [
    "Por padrão, o método **dropna()** retorna um novo DataFrame e não altera o original.\n",
    "\n",
    "Se formos alterar o DataFrame original, usaremos o **inplace = True**.\n",
    "\n",
    "Exemplo: (Remover todas as linhas com valores NULL)"
   ]
  },
  {
   "cell_type": "code",
   "execution_count": 2,
   "id": "1affacae",
   "metadata": {},
   "outputs": [
    {
     "name": "stdout",
     "output_type": "stream",
     "text": [
      "    Duration            Date   Pulse   Maxpulse   Calories\n",
      "0         60    '2020/12/01'     110        130      409.1\n",
      "1         60   '2020/12/02'      117        145      479.0\n",
      "2         60    '2020/12/03'     103        135      340.0\n",
      "3         45    '2020/12/04'     109        175      282.4\n",
      "4         45    '2020/12/05'     117        148      406.0\n",
      "5         60    '2020/12/06'     102        127      300.0\n",
      "6         60    '2020/12/07'     110        136      374.0\n",
      "7        450    '2020/12/08'     104        134      253.3\n",
      "8         30    '2020/12/09'     109        133      195.1\n",
      "9         60    '2020/12/10'      98        124      269.0\n",
      "10        60    '2020/12/11'     103        147      329.3\n",
      "11        60    '2020/12/12'     100        120      250.7\n",
      "12        60    '2020/12/12'     100        120      250.7\n",
      "13        60    '2020/12/13'     106        128      345.3\n",
      "14        60    '2020/12/14'     104        132      379.3\n",
      "15        60    '2020/12/15'      98        123      275.0\n",
      "16        60    '2020/12/16'      98        120      215.2\n",
      "17        60    '2020/12/17'     100        120      300.0\n",
      "19        60    '2020/12/19'     103        123      323.0\n",
      "20        45    '2020/12/20'      97        125      243.0\n",
      "21        60    '2020/12/21'     108        131      364.2\n",
      "23        60    '2020/12/23'     130        101      300.0\n",
      "24        45    '2020/12/24'     105        132      246.0\n",
      "25        60    '2020/12/25'     102        126      334.5\n",
      "26        60      2020/12/26     100        120      250.0\n",
      "27        60    '2020/12/27'      92        118      241.0\n",
      "29        60    '2020/12/29'     100        132      280.0\n",
      "30        60    '2020/12/30'     102        129      380.3\n",
      "31        60    '2020/12/31'      92        115      243.0\n"
     ]
    }
   ],
   "source": [
    "import pandas as pd\n",
    "\n",
    "df = pd.read_csv('C://Users//bialn//Downloads//ArquivoCSV//data2.csv')\n",
    "\n",
    "df.dropna(inplace = True)\n",
    "\n",
    "print(df.to_string())"
   ]
  },
  {
   "cell_type": "markdown",
   "id": "2098e093",
   "metadata": {},
   "source": [
    "Agora, o **dropna(inplace = True)** NÃO retornará um novo DataFrame, mas removerá todas as linhas contendo valores NULL do DataFrame original.\n",
    "\n",
    "#### $\\color{red}{\\text{Substituir valores vazios}}$\n",
    "Outra maneira de lidar com células vazias é inserir um novo valor.\n",
    "\n",
    "Dessa forma, não precisamos excluir linhas inteiras apenas por causa de algumas células vazias.\n",
    "\n",
    "O método **fillna()** nos permite substituir células vazias por um valor.\n",
    "\n",
    "Exemplo: (Substituir os valores NULL pelo número 130)"
   ]
  },
  {
   "cell_type": "code",
   "execution_count": 5,
   "id": "5df507a3",
   "metadata": {},
   "outputs": [
    {
     "name": "stdout",
     "output_type": "stream",
     "text": [
      "    Duration            Date   Pulse   Maxpulse   Calories\n",
      "0         60    '2020/12/01'     110        130      409.1\n",
      "1         60   '2020/12/02'      117        145      479.0\n",
      "2         60    '2020/12/03'     103        135      340.0\n",
      "3         45    '2020/12/04'     109        175      282.4\n",
      "4         45    '2020/12/05'     117        148      406.0\n",
      "5         60    '2020/12/06'     102        127      300.0\n",
      "6         60    '2020/12/07'     110        136      374.0\n",
      "7        450    '2020/12/08'     104        134      253.3\n",
      "8         30    '2020/12/09'     109        133      195.1\n",
      "9         60    '2020/12/10'      98        124      269.0\n",
      "10        60    '2020/12/11'     103        147      329.3\n",
      "11        60    '2020/12/12'     100        120      250.7\n",
      "12        60    '2020/12/12'     100        120      250.7\n",
      "13        60    '2020/12/13'     106        128      345.3\n",
      "14        60    '2020/12/14'     104        132      379.3\n",
      "15        60    '2020/12/15'      98        123      275.0\n",
      "16        60    '2020/12/16'      98        120      215.2\n",
      "17        60    '2020/12/17'     100        120      300.0\n",
      "18        45    '2020/12/18'      90        112      130.0\n",
      "19        60    '2020/12/19'     103        123      323.0\n",
      "20        45    '2020/12/20'      97        125      243.0\n",
      "21        60    '2020/12/21'     108        131      364.2\n",
      "22        45             130     100        119      282.0\n",
      "23        60    '2020/12/23'     130        101      300.0\n",
      "24        45    '2020/12/24'     105        132      246.0\n",
      "25        60    '2020/12/25'     102        126      334.5\n",
      "26        60      2020/12/26     100        120      250.0\n",
      "27        60    '2020/12/27'      92        118      241.0\n",
      "28        60    '2020/12/28'     103        132      130.0\n",
      "29        60    '2020/12/29'     100        132      280.0\n",
      "30        60    '2020/12/30'     102        129      380.3\n",
      "31        60    '2020/12/31'      92        115      243.0\n"
     ]
    }
   ],
   "source": [
    "import pandas as pd\n",
    "\n",
    "df = pd.read_csv('C://Users//bialn//Downloads//ArquivoCSV//data2.csv')\n",
    "\n",
    "df.fillna(130, inplace = True)\n",
    "\n",
    "print(df.to_string())"
   ]
  },
  {
   "cell_type": "markdown",
   "id": "ad61b94e",
   "metadata": {},
   "source": [
    "##### $\\color{orange}{\\text{Substituir apenas para colunas especificadas}}$\n",
    "\n",
    "O exemplo acima substitui todas as células vazias em todo o Data Frame.\n",
    "\n",
    "Para substituir apenas valores vazios de uma coluna, especifique o nome da coluna para o DataFrame.\n",
    "\n",
    "Exemplo: (Substituir os valores NULL nas colunas \"Calorias\" pelo número 130)"
   ]
  },
  {
   "cell_type": "code",
   "execution_count": 12,
   "id": "9289f5c8",
   "metadata": {},
   "outputs": [
    {
     "name": "stdout",
     "output_type": "stream",
     "text": [
      "    Duration            Date   Pulse   Maxpulse  Calories\n",
      "0         60    '2020/12/01'     110        130     409.1\n",
      "1         60   '2020/12/02'      117        145     479.0\n",
      "2         60    '2020/12/03'     103        135     340.0\n",
      "3         45    '2020/12/04'     109        175     282.4\n",
      "4         45    '2020/12/05'     117        148     406.0\n",
      "5         60    '2020/12/06'     102        127     300.0\n",
      "6         60    '2020/12/07'     110        136     374.0\n",
      "7        450    '2020/12/08'     104        134     253.3\n",
      "8         30    '2020/12/09'     109        133     195.1\n",
      "9         60    '2020/12/10'      98        124     269.0\n",
      "10        60    '2020/12/11'     103        147     329.3\n",
      "11        60    '2020/12/12'     100        120     250.7\n",
      "12        60    '2020/12/12'     100        120     250.7\n",
      "13        60    '2020/12/13'     106        128     345.3\n",
      "14        60    '2020/12/14'     104        132     379.3\n",
      "15        60    '2020/12/15'      98        123     275.0\n",
      "16        60    '2020/12/16'      98        120     215.2\n",
      "17        60    '2020/12/17'     100        120     300.0\n",
      "18        45    '2020/12/18'      90        112     130.0\n",
      "19        60    '2020/12/19'     103        123     323.0\n",
      "20        45    '2020/12/20'      97        125     243.0\n",
      "21        60    '2020/12/21'     108        131     364.2\n",
      "22        45             NaN     100        119     282.0\n",
      "23        60    '2020/12/23'     130        101     300.0\n",
      "24        45    '2020/12/24'     105        132     246.0\n",
      "25        60    '2020/12/25'     102        126     334.5\n",
      "26        60      2020/12/26     100        120     250.0\n",
      "27        60    '2020/12/27'      92        118     241.0\n",
      "28        60    '2020/12/28'     103        132     130.0\n",
      "29        60    '2020/12/29'     100        132     280.0\n",
      "30        60    '2020/12/30'     102        129     380.3\n",
      "31        60    '2020/12/31'      92        115     243.0\n"
     ]
    }
   ],
   "source": [
    "import pandas as pd\n",
    "\n",
    "df = pd.read_csv('C://Users//bialn//Downloads//ArquivoCSV//data2.csv')\n",
    "\n",
    "df[\"Calories\"].fillna(130, inplace = True)\n",
    "\n",
    "print(df.to_string())"
   ]
  },
  {
   "cell_type": "markdown",
   "id": "de0e0ca0",
   "metadata": {},
   "source": [
    "#### $\\color{red}{\\text{Substituir usando média, mediana ou modo}}$\n",
    "Uma maneira comum de substituir células vazias é calcular o valor médio, mediano ou moda da coluna.\n",
    "\n",
    "O Pandas usa os métodos **mean()**, **median()** e **mode()** para calcular os respectivos valores para uma coluna especificada.\n",
    "\n",
    "Exemplo: (Calcular a MEAN(média) e substituir quaisquer valores vazios por ela)"
   ]
  },
  {
   "cell_type": "code",
   "execution_count": 17,
   "id": "42a54026",
   "metadata": {},
   "outputs": [
    {
     "name": "stdout",
     "output_type": "stream",
     "text": [
      "Média = 304.68\n",
      "    Duration            Date   Pulse   Maxpulse  Calories\n",
      "0         60    '2020/12/01'     110        130    409.10\n",
      "1         60   '2020/12/02'      117        145    479.00\n",
      "2         60    '2020/12/03'     103        135    340.00\n",
      "3         45    '2020/12/04'     109        175    282.40\n",
      "4         45    '2020/12/05'     117        148    406.00\n",
      "5         60    '2020/12/06'     102        127    300.00\n",
      "6         60    '2020/12/07'     110        136    374.00\n",
      "7        450    '2020/12/08'     104        134    253.30\n",
      "8         30    '2020/12/09'     109        133    195.10\n",
      "9         60    '2020/12/10'      98        124    269.00\n",
      "10        60    '2020/12/11'     103        147    329.30\n",
      "11        60    '2020/12/12'     100        120    250.70\n",
      "12        60    '2020/12/12'     100        120    250.70\n",
      "13        60    '2020/12/13'     106        128    345.30\n",
      "14        60    '2020/12/14'     104        132    379.30\n",
      "15        60    '2020/12/15'      98        123    275.00\n",
      "16        60    '2020/12/16'      98        120    215.20\n",
      "17        60    '2020/12/17'     100        120    300.00\n",
      "18        45    '2020/12/18'      90        112    304.68\n",
      "19        60    '2020/12/19'     103        123    323.00\n",
      "20        45    '2020/12/20'      97        125    243.00\n",
      "21        60    '2020/12/21'     108        131    364.20\n",
      "22        45             NaN     100        119    282.00\n",
      "23        60    '2020/12/23'     130        101    300.00\n",
      "24        45    '2020/12/24'     105        132    246.00\n",
      "25        60    '2020/12/25'     102        126    334.50\n",
      "26        60      2020/12/26     100        120    250.00\n",
      "27        60    '2020/12/27'      92        118    241.00\n",
      "28        60    '2020/12/28'     103        132    304.68\n",
      "29        60    '2020/12/29'     100        132    280.00\n",
      "30        60    '2020/12/30'     102        129    380.30\n",
      "31        60    '2020/12/31'      92        115    243.00\n"
     ]
    }
   ],
   "source": [
    "import pandas as pd\n",
    "\n",
    "df = pd.read_csv('C://Users//bialn//Downloads//ArquivoCSV//data2.csv')\n",
    "\n",
    "x = df[\"Calories\"].mean()\n",
    "\n",
    "df[\"Calories\"].fillna(x, inplace = True)\n",
    "print(\"Média =\",x)\n",
    "print(df.to_string())"
   ]
  },
  {
   "cell_type": "markdown",
   "id": "717aa4dd",
   "metadata": {},
   "source": [
    "> Média = o valor médio (a soma de todos os valores dividido pelo número de valores).\n",
    "\n",
    "Exemplo: (Calcular a MEDIAN (mediana) e substituir quaisquer valores vazios por ela)\n",
    "\n",
    ">Mediana = o valor no meio, depois de classificar todos os valores em ordem crescente.\n",
    "\n"
   ]
  },
  {
   "cell_type": "code",
   "execution_count": 19,
   "id": "a482acca",
   "metadata": {},
   "outputs": [
    {
     "name": "stdout",
     "output_type": "stream",
     "text": [
      "Mediana = 291.2\n",
      "    Duration            Date   Pulse   Maxpulse  Calories\n",
      "0         60    '2020/12/01'     110        130     409.1\n",
      "1         60   '2020/12/02'      117        145     479.0\n",
      "2         60    '2020/12/03'     103        135     340.0\n",
      "3         45    '2020/12/04'     109        175     282.4\n",
      "4         45    '2020/12/05'     117        148     406.0\n",
      "5         60    '2020/12/06'     102        127     300.0\n",
      "6         60    '2020/12/07'     110        136     374.0\n",
      "7        450    '2020/12/08'     104        134     253.3\n",
      "8         30    '2020/12/09'     109        133     195.1\n",
      "9         60    '2020/12/10'      98        124     269.0\n",
      "10        60    '2020/12/11'     103        147     329.3\n",
      "11        60    '2020/12/12'     100        120     250.7\n",
      "12        60    '2020/12/12'     100        120     250.7\n",
      "13        60    '2020/12/13'     106        128     345.3\n",
      "14        60    '2020/12/14'     104        132     379.3\n",
      "15        60    '2020/12/15'      98        123     275.0\n",
      "16        60    '2020/12/16'      98        120     215.2\n",
      "17        60    '2020/12/17'     100        120     300.0\n",
      "18        45    '2020/12/18'      90        112     291.2\n",
      "19        60    '2020/12/19'     103        123     323.0\n",
      "20        45    '2020/12/20'      97        125     243.0\n",
      "21        60    '2020/12/21'     108        131     364.2\n",
      "22        45             NaN     100        119     282.0\n",
      "23        60    '2020/12/23'     130        101     300.0\n",
      "24        45    '2020/12/24'     105        132     246.0\n",
      "25        60    '2020/12/25'     102        126     334.5\n",
      "26        60      2020/12/26     100        120     250.0\n",
      "27        60    '2020/12/27'      92        118     241.0\n",
      "28        60    '2020/12/28'     103        132     291.2\n",
      "29        60    '2020/12/29'     100        132     280.0\n",
      "30        60    '2020/12/30'     102        129     380.3\n",
      "31        60    '2020/12/31'      92        115     243.0\n"
     ]
    }
   ],
   "source": [
    "import pandas as pd\n",
    "\n",
    "df = pd.read_csv('C://Users//bialn//Downloads//ArquivoCSV//data2.csv')\n",
    "\n",
    "x = df[\"Calories\"].median()\n",
    "\n",
    "df[\"Calories\"].fillna(x, inplace = True)\n",
    "print(\"Mediana =\",x)\n",
    "print(df.to_string())"
   ]
  },
  {
   "cell_type": "markdown",
   "id": "f59f86ae",
   "metadata": {},
   "source": [
    ">Moda = o valor que aparece com mais frequência.\n",
    "\n",
    "Exemplo: (Calcular o MODO(moda) e substituir quaiquer valores vazios por ele)"
   ]
  },
  {
   "cell_type": "code",
   "execution_count": 4,
   "id": "f6cef692",
   "metadata": {},
   "outputs": [
    {
     "name": "stdout",
     "output_type": "stream",
     "text": [
      "Moda = 300.0\n",
      "    Duration            Date   Pulse   Maxpulse  Calories\n",
      "0         60    '2020/12/01'     110        130     409.1\n",
      "1         60   '2020/12/02'      117        145     479.0\n",
      "2         60    '2020/12/03'     103        135     340.0\n",
      "3         45    '2020/12/04'     109        175     282.4\n",
      "4         45    '2020/12/05'     117        148     406.0\n",
      "5         60    '2020/12/06'     102        127     300.0\n",
      "6         60    '2020/12/07'     110        136     374.0\n",
      "7        450    '2020/12/08'     104        134     253.3\n",
      "8         30    '2020/12/09'     109        133     195.1\n",
      "9         60    '2020/12/10'      98        124     269.0\n",
      "10        60    '2020/12/11'     103        147     329.3\n",
      "11        60    '2020/12/12'     100        120     250.7\n",
      "12        60    '2020/12/12'     100        120     250.7\n",
      "13        60    '2020/12/13'     106        128     345.3\n",
      "14        60    '2020/12/14'     104        132     379.3\n",
      "15        60    '2020/12/15'      98        123     275.0\n",
      "16        60    '2020/12/16'      98        120     215.2\n",
      "17        60    '2020/12/17'     100        120     300.0\n",
      "18        45    '2020/12/18'      90        112     300.0\n",
      "19        60    '2020/12/19'     103        123     323.0\n",
      "20        45    '2020/12/20'      97        125     243.0\n",
      "21        60    '2020/12/21'     108        131     364.2\n",
      "22        45             NaN     100        119     282.0\n",
      "23        60    '2020/12/23'     130        101     300.0\n",
      "24        45      '20201224'     105        132     246.0\n",
      "25        60    '2020/12/25'     102        126     334.5\n",
      "26        60      2020/12/26     100        120     250.0\n",
      "27        60    '2020/12/27'      92        118     241.0\n",
      "28        60    '2020/12/28'     103        132     300.0\n",
      "29        60    '2020/12/29'     100        132     280.0\n",
      "30        60    '2020/12/30'     102        129     380.3\n",
      "31        60    '2020/12/31'      92        115     243.0\n"
     ]
    }
   ],
   "source": [
    "import pandas as pd\n",
    "\n",
    "df = pd.read_csv('C://Users//bialn//Downloads//ArquivoCSV//data2.csv')\n",
    "\n",
    "x = df[\"Calories\"].mode()[0]\n",
    "\n",
    "df[\"Calories\"].fillna(x, inplace = True)\n",
    "print(\"Moda =\",x)\n",
    "print(df.to_string())"
   ]
  },
  {
   "cell_type": "markdown",
   "id": "22710d65",
   "metadata": {},
   "source": [
    "### $\\color{blue}{\\text{Limpeza de dados de formato errado}}$\n",
    "\n",
    "#### $\\color{red}{\\text{Dados de formato incorreto}}$\n",
    "Células com dados de formato incorreto podem dificultar, ou mesmo impossibilitar, a análise dos dados.\n",
    "\n",
    "Para corrigi-lo, temos duas opções: remover as linhas ou converter todas as células das colunas para o mesmo formato.\n",
    "\n",
    "#### $\\color{red}{\\text{Converter em um formato correto}}$\n",
    "\n",
    "Para converter todas as células da coluna 'Data' em datas, o Pandas tem um método **to_datetime()** para isso.\n",
    "\n",
    "Exemplo: (Converter para data)"
   ]
  },
  {
   "cell_type": "code",
   "execution_count": 1,
   "id": "12e518ca",
   "metadata": {},
   "outputs": [
    {
     "name": "stdout",
     "output_type": "stream",
     "text": [
      "    Duration       Date  Pulse  Maxpulse  Calories\n",
      "0         60 2020-12-01    110       130     409.1\n",
      "1         60 2020-12-02    117       145     479.0\n",
      "2         60 2020-12-03    103       135     340.0\n",
      "3         45 2020-12-04    109       175     282.4\n",
      "4         45 2020-12-05    117       148     406.0\n",
      "5         60 2020-12-06    102       127     300.0\n",
      "6         60 2020-12-07    110       136     374.0\n",
      "7        450 2020-12-08    104       134     253.3\n",
      "8         30 2020-12-09    109       133     195.1\n",
      "9         60 2020-12-10     98       124     269.0\n",
      "10        60 2020-12-11    103       147     329.3\n",
      "11        60 2020-12-12    100       120     250.7\n",
      "12        60 2020-12-12    100       120     250.7\n",
      "13        60 2020-12-13    106       128     345.3\n",
      "14        60 2020-12-14    104       132     379.3\n",
      "15        60 2020-12-15     98       123     275.0\n",
      "16        60 2020-12-16     98       120     215.2\n",
      "17        60 2020-12-17    100       120     300.0\n",
      "18        45 2020-12-18     90       112       NaN\n",
      "19        60 2020-12-19    103       123     323.0\n",
      "20        45 2020-12-20     97       125     243.0\n",
      "21        60 2020-12-21    108       131     364.2\n",
      "22        45        NaT    100       119     282.0\n",
      "23        60 2020-12-23    130       101     300.0\n",
      "24        45 2020-12-24    105       132     246.0\n",
      "25        60 2020-12-25    102       126     334.5\n",
      "26        60 2020-12-26    100       120     250.0\n",
      "27        60 2020-12-27     92       118     241.0\n",
      "28        60 2020-12-28    103       132       NaN\n",
      "29        60 2020-12-29    100       132     280.0\n",
      "30        60 2020-12-30    102       129     380.3\n",
      "31        60 2020-12-31     92       115     243.0\n"
     ]
    }
   ],
   "source": [
    "import pandas as pd\n",
    "\n",
    "df = pd.read_csv('C://Users//bialn//Downloads//ArquivoCSV//data2.csv')\n",
    "\n",
    "df['Date']= pd.to_datetime(df['Date'])\n",
    "\n",
    "print(df.to_string())"
   ]
  },
  {
   "cell_type": "markdown",
   "id": "2b3d6fdf",
   "metadata": {},
   "source": [
    "O resultado mostra que a data na linha 26 foi corrigida, mas a data vazia na linha 22 obteve um valor NaT (Not a Time), ou seja, um valor vazio. Uma maneira de lidar com valores vazios é simplesmente remover a linha inteira.\n",
    "\n",
    "#### $\\color{red}{\\text{Removendo linhas}}$\n",
    "O resultado da conversão no exemplo acima nos deu um valor NaT, que pode ser tratado como um valor NULL, e podemos remover a linha usando o método **dropna()**.\n",
    "\n",
    "Exemplo: (Remover as linhas coom valor NULL na coluna Date)"
   ]
  },
  {
   "cell_type": "code",
   "execution_count": 2,
   "id": "0490663d",
   "metadata": {},
   "outputs": [
    {
     "name": "stdout",
     "output_type": "stream",
     "text": [
      "    Duration           Date  Pulse  Maxpulse  Calories\n",
      "0         60   '2020/12/01'    110       130     409.1\n",
      "1         60  '2020/12/02'     117       145     479.0\n",
      "2         60   '2020/12/03'    103       135     340.0\n",
      "3         45   '2020/12/04'    109       175     282.4\n",
      "4         45   '2020/12/05'    117       148     406.0\n",
      "5         60   '2020/12/06'    102       127     300.0\n",
      "6         60   '2020/12/07'    110       136     374.0\n",
      "7        450   '2020/12/08'    104       134     253.3\n",
      "8         30   '2020/12/09'    109       133     195.1\n",
      "9         60   '2020/12/10'     98       124     269.0\n",
      "10        60   '2020/12/11'    103       147     329.3\n",
      "11        60   '2020/12/12'    100       120     250.7\n",
      "12        60   '2020/12/12'    100       120     250.7\n",
      "13        60   '2020/12/13'    106       128     345.3\n",
      "14        60   '2020/12/14'    104       132     379.3\n",
      "15        60   '2020/12/15'     98       123     275.0\n",
      "16        60   '2020/12/16'     98       120     215.2\n",
      "17        60   '2020/12/17'    100       120     300.0\n",
      "18        45   '2020/12/18'     90       112       NaN\n",
      "19        60   '2020/12/19'    103       123     323.0\n",
      "20        45   '2020/12/20'     97       125     243.0\n",
      "21        60   '2020/12/21'    108       131     364.2\n",
      "23        60   '2020/12/23'    130       101     300.0\n",
      "24        45     '20201224'    105       132     246.0\n",
      "25        60   '2020/12/25'    102       126     334.5\n",
      "26        60       20201226    100       120     250.0\n",
      "27        60   '2020/12/27'     92       118     241.0\n",
      "28        60   '2020/12/28'    103       132       NaN\n",
      "29        60   '2020/12/29'    100       132     280.0\n",
      "30        60   '2020/12/30'    102       129     380.3\n",
      "31        60   '2020/12/31'     92       115     243.0\n"
     ]
    }
   ],
   "source": [
    "import pandas as pd\n",
    "\n",
    "df = pd.read_csv('C://Users//bialn//Downloads//ArquivoCSV//data2.csv')\n",
    "\n",
    "df.dropna(subset=['Date'], inplace = True)\n",
    "\n",
    "print(df.to_string())"
   ]
  },
  {
   "cell_type": "markdown",
   "id": "97487042",
   "metadata": {},
   "source": [
    "### $\\color{blue}{\\text{Corrigindo dados errados}}$\n",
    "\n",
    "#### $\\color{red}{\\text{Dados errados}}$\n",
    "\"Dados errados\" não precisam ser \"células vazias\" ou \"formato errado\", pode apenas estar errado, como se alguém registrasse \"199\" em vez de \"1,99\".\n",
    "\n",
    "Às vezes, identificamos dados errados observando o conjunto de dados, porque tem uma expectativa do que deveria ser.\n",
    "\n",
    "Se você der uma olhada em nosso conjunto de dados, verá que na linha 7, a duração é 450, mas para todas as outras linhas a duração está entre 30 e 60.\n",
    "\n",
    "Não precisa estar errado, mas levando em consideração que este é o conjunto de dados das sessões de treino de alguém, concluímos com o fato de que essa pessoa não treinou em 450 minutos.\n",
    "\n",
    "#### $\\color{red}{\\text{Substituindo valores}}$\n",
    "\n",
    "Uma maneira de corrigir valores errados é substituí-los por outra coisa.\n",
    "\n",
    "Exemplo: (Definir \"Duration\" = 45 a linha 7)"
   ]
  },
  {
   "cell_type": "code",
   "execution_count": 3,
   "id": "376cbd06",
   "metadata": {},
   "outputs": [
    {
     "name": "stdout",
     "output_type": "stream",
     "text": [
      "    Duration           Date  Pulse  Maxpulse  Calories\n",
      "0         60   '2020/12/01'    110       130     409.1\n",
      "1         60  '2020/12/02'     117       145     479.0\n",
      "2         60   '2020/12/03'    103       135     340.0\n",
      "3         45   '2020/12/04'    109       175     282.4\n",
      "4         45   '2020/12/05'    117       148     406.0\n",
      "5         60   '2020/12/06'    102       127     300.0\n",
      "6         60   '2020/12/07'    110       136     374.0\n",
      "7         45   '2020/12/08'    104       134     253.3\n",
      "8         30   '2020/12/09'    109       133     195.1\n",
      "9         60   '2020/12/10'     98       124     269.0\n",
      "10        60   '2020/12/11'    103       147     329.3\n",
      "11        60   '2020/12/12'    100       120     250.7\n",
      "12        60   '2020/12/12'    100       120     250.7\n",
      "13        60   '2020/12/13'    106       128     345.3\n",
      "14        60   '2020/12/14'    104       132     379.3\n",
      "15        60   '2020/12/15'     98       123     275.0\n",
      "16        60   '2020/12/16'     98       120     215.2\n",
      "17        60   '2020/12/17'    100       120     300.0\n",
      "18        45   '2020/12/18'     90       112       NaN\n",
      "19        60   '2020/12/19'    103       123     323.0\n",
      "20        45   '2020/12/20'     97       125     243.0\n",
      "21        60   '2020/12/21'    108       131     364.2\n",
      "22        45            NaN    100       119     282.0\n",
      "23        60   '2020/12/23'    130       101     300.0\n",
      "24        45     '20201224'    105       132     246.0\n",
      "25        60   '2020/12/25'    102       126     334.5\n",
      "26        60       20201226    100       120     250.0\n",
      "27        60   '2020/12/27'     92       118     241.0\n",
      "28        60   '2020/12/28'    103       132       NaN\n",
      "29        60   '2020/12/29'    100       132     280.0\n",
      "30        60   '2020/12/30'    102       129     380.3\n",
      "31        60   '2020/12/31'     92       115     243.0\n"
     ]
    }
   ],
   "source": [
    "import pandas as pd\n",
    "\n",
    "df = pd.read_csv('C://Users//bialn//Downloads//ArquivoCSV//data2.csv')\n",
    "\n",
    "df.loc[7, 'Duration'] = 45\n",
    "\n",
    "print(df.to_string())"
   ]
  },
  {
   "cell_type": "markdown",
   "id": "3af551a9",
   "metadata": {},
   "source": [
    "Para conjuntos de dados pequenos, podemos substituir os dados errados um por um, mas não para conjuntos de dados grandes.\n",
    "\n",
    "Para substituir dados errados por conjuntos de dados maiores, precisaremos definir alguns limites para valores legais e substituir quaisquer valores que estejam fora dos limites.\n",
    "\n",
    "Exemplo: (Percorrer todos os valores na coluna \"Duration\", se o valor for maior que 120, definí-los como 120)"
   ]
  },
  {
   "cell_type": "code",
   "execution_count": 4,
   "id": "be549aac",
   "metadata": {},
   "outputs": [
    {
     "name": "stdout",
     "output_type": "stream",
     "text": [
      "    Duration           Date  Pulse  Maxpulse  Calories\n",
      "0         60   '2020/12/01'    110       130     409.1\n",
      "1         60  '2020/12/02'     117       145     479.0\n",
      "2         60   '2020/12/03'    103       135     340.0\n",
      "3         45   '2020/12/04'    109       175     282.4\n",
      "4         45   '2020/12/05'    117       148     406.0\n",
      "5         60   '2020/12/06'    102       127     300.0\n",
      "6         60   '2020/12/07'    110       136     374.0\n",
      "7        120   '2020/12/08'    104       134     253.3\n",
      "8         30   '2020/12/09'    109       133     195.1\n",
      "9         60   '2020/12/10'     98       124     269.0\n",
      "10        60   '2020/12/11'    103       147     329.3\n",
      "11        60   '2020/12/12'    100       120     250.7\n",
      "12        60   '2020/12/12'    100       120     250.7\n",
      "13        60   '2020/12/13'    106       128     345.3\n",
      "14        60   '2020/12/14'    104       132     379.3\n",
      "15        60   '2020/12/15'     98       123     275.0\n",
      "16        60   '2020/12/16'     98       120     215.2\n",
      "17        60   '2020/12/17'    100       120     300.0\n",
      "18        45   '2020/12/18'     90       112       NaN\n",
      "19        60   '2020/12/19'    103       123     323.0\n",
      "20        45   '2020/12/20'     97       125     243.0\n",
      "21        60   '2020/12/21'    108       131     364.2\n",
      "22        45            NaN    100       119     282.0\n",
      "23        60   '2020/12/23'    130       101     300.0\n",
      "24        45     '20201224'    105       132     246.0\n",
      "25        60   '2020/12/25'    102       126     334.5\n",
      "26        60       20201226    100       120     250.0\n",
      "27        60   '2020/12/27'     92       118     241.0\n",
      "28        60   '2020/12/28'    103       132       NaN\n",
      "29        60   '2020/12/29'    100       132     280.0\n",
      "30        60   '2020/12/30'    102       129     380.3\n",
      "31        60   '2020/12/31'     92       115     243.0\n"
     ]
    }
   ],
   "source": [
    "import pandas as pd\n",
    "\n",
    "df = pd.read_csv('C://Users//bialn//Downloads//ArquivoCSV//data2.csv')\n",
    "\n",
    "for x in df.index:\n",
    "  if df.loc[x, \"Duration\"] > 120:\n",
    "    df.loc[x, \"Duration\"] = 120\n",
    "\n",
    "print(df.to_string())"
   ]
  },
  {
   "cell_type": "markdown",
   "id": "ddd185d5",
   "metadata": {},
   "source": [
    "#### $\\color{red}{\\text{Removendo linhas}}$\n",
    "Outra maneira de lidar com dados errados é remover as linhas que contêm dados errados.\n",
    "\n",
    "Dessa forma, não é preciso descobrir com o que substituí-los e há uma boa chance de não precisar deles para fazer suas análises.\n",
    "\n",
    "Exemplo: (Excluir as linhas em que \"Duration\" for maior que 120)"
   ]
  },
  {
   "cell_type": "code",
   "execution_count": 8,
   "id": "e482bafb",
   "metadata": {},
   "outputs": [
    {
     "name": "stdout",
     "output_type": "stream",
     "text": [
      "    Duration           Date  Pulse  Maxpulse  Calories\n",
      "0         60   '2020/12/01'    110       130     409.1\n",
      "1         60  '2020/12/02'     117       145     479.0\n",
      "2         60   '2020/12/03'    103       135     340.0\n",
      "3         45   '2020/12/04'    109       175     282.4\n",
      "4         45   '2020/12/05'    117       148     406.0\n",
      "5         60   '2020/12/06'    102       127     300.0\n",
      "6         60   '2020/12/07'    110       136     374.0\n",
      "8         30   '2020/12/09'    109       133     195.1\n",
      "9         60   '2020/12/10'     98       124     269.0\n",
      "10        60   '2020/12/11'    103       147     329.3\n",
      "11        60   '2020/12/12'    100       120     250.7\n",
      "12        60   '2020/12/12'    100       120     250.7\n",
      "13        60   '2020/12/13'    106       128     345.3\n",
      "14        60   '2020/12/14'    104       132     379.3\n",
      "15        60   '2020/12/15'     98       123     275.0\n",
      "16        60   '2020/12/16'     98       120     215.2\n",
      "17        60   '2020/12/17'    100       120     300.0\n",
      "18        45   '2020/12/18'     90       112       NaN\n",
      "19        60   '2020/12/19'    103       123     323.0\n",
      "20        45   '2020/12/20'     97       125     243.0\n",
      "21        60   '2020/12/21'    108       131     364.2\n",
      "22        45            NaN    100       119     282.0\n",
      "23        60   '2020/12/23'    130       101     300.0\n",
      "24        45     '20201224'    105       132     246.0\n",
      "25        60   '2020/12/25'    102       126     334.5\n",
      "26        60       20201226    100       120     250.0\n",
      "27        60   '2020/12/27'     92       118     241.0\n",
      "28        60   '2020/12/28'    103       132       NaN\n",
      "29        60   '2020/12/29'    100       132     280.0\n",
      "30        60   '2020/12/30'    102       129     380.3\n",
      "31        60   '2020/12/31'     92       115     243.0\n"
     ]
    }
   ],
   "source": [
    "import pandas as pd\n",
    "\n",
    "df = pd.read_csv('C://Users//bialn//Downloads//ArquivoCSV//data2.csv')\n",
    "\n",
    "for x in df.index:\n",
    "  if df.loc[x, \"Duration\"] > 120:\n",
    "    df.drop(x, inplace = True)\n",
    "\n",
    "print(df.to_string())"
   ]
  },
  {
   "cell_type": "markdown",
   "id": "a30fc597",
   "metadata": {},
   "source": [
    "### $\\color{blue}{\\text{Removendo duplicatas}}$\n",
    "#### $\\color{red}{\\text{Descobrindo duplicatas}}$\n",
    "Linhas duplicadas são linhas que foram registradas mais de uma vez. Como é o caso das linhas 11 e 12.\n",
    "\n",
    "Para descobrir duplicatas, podemos usar o método **duplicated()**.\n",
    "\n",
    "O **duplicated()** retorna valores booleanos para cada linha:\n",
    "\n",
    "Exemplo: (Retornar True para cada linha duplicada, caso contrário False)"
   ]
  },
  {
   "cell_type": "code",
   "execution_count": 6,
   "id": "c6ff0fb1",
   "metadata": {},
   "outputs": [
    {
     "name": "stdout",
     "output_type": "stream",
     "text": [
      "0     False\n",
      "1     False\n",
      "2     False\n",
      "3     False\n",
      "4     False\n",
      "5     False\n",
      "6     False\n",
      "7     False\n",
      "8     False\n",
      "9     False\n",
      "10    False\n",
      "11    False\n",
      "12     True\n",
      "13    False\n",
      "14    False\n",
      "15    False\n",
      "16    False\n",
      "17    False\n",
      "18    False\n",
      "19    False\n",
      "20    False\n",
      "21    False\n",
      "22    False\n",
      "23    False\n",
      "24    False\n",
      "25    False\n",
      "26    False\n",
      "27    False\n",
      "28    False\n",
      "29    False\n",
      "30    False\n",
      "31    False\n",
      "dtype: bool\n"
     ]
    }
   ],
   "source": [
    "import pandas as pd\n",
    "\n",
    "df = pd.read_csv('C://Users//bialn//Downloads//ArquivoCSV//data2.csv')\n",
    "\n",
    "print(df.duplicated())"
   ]
  },
  {
   "cell_type": "markdown",
   "id": "8b33f782",
   "metadata": {},
   "source": [
    "#### $\\color{red}{\\text{Removendo duplicatas}}$\n",
    "Para remover duplicatas, use o método **drop_duplicates()**.\n",
    "\n",
    "Exemplo:"
   ]
  },
  {
   "cell_type": "code",
   "execution_count": 7,
   "id": "a248a506",
   "metadata": {},
   "outputs": [
    {
     "name": "stdout",
     "output_type": "stream",
     "text": [
      "    Duration           Date  Pulse  Maxpulse  Calories\n",
      "0         60   '2020/12/01'    110       130     409.1\n",
      "1         60  '2020/12/02'     117       145     479.0\n",
      "2         60   '2020/12/03'    103       135     340.0\n",
      "3         45   '2020/12/04'    109       175     282.4\n",
      "4         45   '2020/12/05'    117       148     406.0\n",
      "5         60   '2020/12/06'    102       127     300.0\n",
      "6         60   '2020/12/07'    110       136     374.0\n",
      "7        450   '2020/12/08'    104       134     253.3\n",
      "8         30   '2020/12/09'    109       133     195.1\n",
      "9         60   '2020/12/10'     98       124     269.0\n",
      "10        60   '2020/12/11'    103       147     329.3\n",
      "11        60   '2020/12/12'    100       120     250.7\n",
      "13        60   '2020/12/13'    106       128     345.3\n",
      "14        60   '2020/12/14'    104       132     379.3\n",
      "15        60   '2020/12/15'     98       123     275.0\n",
      "16        60   '2020/12/16'     98       120     215.2\n",
      "17        60   '2020/12/17'    100       120     300.0\n",
      "18        45   '2020/12/18'     90       112       NaN\n",
      "19        60   '2020/12/19'    103       123     323.0\n",
      "20        45   '2020/12/20'     97       125     243.0\n",
      "21        60   '2020/12/21'    108       131     364.2\n",
      "22        45            NaN    100       119     282.0\n",
      "23        60   '2020/12/23'    130       101     300.0\n",
      "24        45     '20201224'    105       132     246.0\n",
      "25        60   '2020/12/25'    102       126     334.5\n",
      "26        60       20201226    100       120     250.0\n",
      "27        60   '2020/12/27'     92       118     241.0\n",
      "28        60   '2020/12/28'    103       132       NaN\n",
      "29        60   '2020/12/29'    100       132     280.0\n",
      "30        60   '2020/12/30'    102       129     380.3\n",
      "31        60   '2020/12/31'     92       115     243.0\n"
     ]
    }
   ],
   "source": [
    "import pandas as pd\n",
    "\n",
    "df = pd.read_csv('C://Users//bialn//Downloads//ArquivoCSV//data2.csv')\n",
    "df.drop_duplicates(inplace = True)\n",
    "print(df.to_string())"
   ]
  },
  {
   "cell_type": "markdown",
   "id": "4a800f51",
   "metadata": {},
   "source": [
    " > O (inplace = True) irá garantir que o método NÃO retorne um novo DataFrame, mas removerá todas as duplicatas do DataFrame original ."
   ]
  },
  {
   "cell_type": "markdown",
   "id": "9fdd9a7e",
   "metadata": {},
   "source": [
    "<img src=\"https://thumbs.gfycat.com/CelebratedJaggedHalcyon-size_restricted.gif\" width=\"300\" >\n",
    "\n",
    "#### Para mais especificações: \n",
    "##### [What does inplace mean in Pandas? ](https://www.geeksforgeeks.org/what-does-inplace-mean-in-pandas/)\n",
    "\n",
    "##### [pandas.DataFrame.dropna ](https://pandas.pydata.org/docs/reference/api/pandas.DataFrame.dropna.html)\n",
    "\n",
    "##### [Como usar loc e iloc no pandas? ](https://medium.com/horadecodar/data-science-tips-02-como-usar-loc-e-iloc-no-pandas-fab58e214d87)\n",
    "\n",
    "##### [pandas.DataFrame.loc ](https://pandas.pydata.org/docs/reference/api/pandas.DataFrame.loc.html)\n",
    "\n",
    "##### [ pandas.DataFrame.mode](https://pandas.pydata.org/docs/reference/api/pandas.DataFrame.mode.html)\n",
    "\n",
    "##### [ pandas.DataFrame.median](https://pandas.pydata.org/docs/reference/api/pandas.DataFrame.median.html)\n",
    "\n",
    "##### [pandas.DataFrame.mean ](https://pandas.pydata.org/docs/reference/api/pandas.DataFrame.mean.html)\n",
    "\n",
    "##### [ pandas.DataFrame.fillna](https://pandas.pydata.org/docs/reference/api/pandas.DataFrame.fillna.html)\n",
    "\n",
    "##### [pandas.to_datetime ](https://pandas.pydata.org/docs/reference/api/pandas.to_datetime.html)\n",
    "\n",
    "##### [pandas.DataFrame.duplicated ](https://pandas.pydata.org/docs/reference/api/pandas.DataFrame.duplicated.html)\n",
    "\n",
    "##### [pandas.DataFrame.drop_duplicates ](https://pandas.pydata.org/docs/reference/api/pandas.DataFrame.drop_duplicates.html)"
   ]
  }
 ],
 "metadata": {
  "kernelspec": {
   "display_name": "Python 3 (ipykernel)",
   "language": "python",
   "name": "python3"
  },
  "language_info": {
   "codemirror_mode": {
    "name": "ipython",
    "version": 3
   },
   "file_extension": ".py",
   "mimetype": "text/x-python",
   "name": "python",
   "nbconvert_exporter": "python",
   "pygments_lexer": "ipython3",
   "version": "3.9.12"
  }
 },
 "nbformat": 4,
 "nbformat_minor": 5
}
