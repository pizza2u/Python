{
 "cells": [
  {
   "cell_type": "markdown",
   "metadata": {},
   "source": [
    "![logo](https://upload.wikimedia.org/wikipedia/commons/8/8a/Plotly-logo.png)"
   ]
  },
  {
   "cell_type": "markdown",
   "metadata": {},
   "source": [
    "Plotly é uma biblioteca de gráficos interativos para Python e outras linguagens de programação, como R, Julia e JavaScript. É amplamente utilizada para criar visualizações de dados interativas e dinâmicas que podem ser facilmente compartilhadas e incorporadas em aplicações web. Alguns dos principais recursos do Plotly incluem:\n",
    "\n",
    "> Variedade de Gráficos: Suporta uma ampla gama de tipos de gráficos, como gráficos de linha, barra, dispersão, área, caixa, histograma, mapa de calor, gráficos 3D, entre outros.\n",
    "\n",
    "> Interatividade: Permite a criação de gráficos interativos que respondem a cliques, movimentos do mouse e outros eventos. Isso inclui zoom, hover para detalhes e seleção de dados.\n",
    "\n",
    "> Integração com Pandas: Facilita a criação de gráficos diretamente a partir de DataFrames do Pandas, tornando-o ideal para análise de dados.\n",
    "\n",
    "> Compartilhamento e Incorporação: Os gráficos podem ser facilmente exportados como imagens estáticas ou incorporados em páginas web. Além disso, o Plotly permite a hospedagem de gráficos na sua plataforma online, facilitando o compartilhamento.\n",
    "\n",
    "> Dash: O Plotly é a base do Dash, uma estrutura que permite a criação de aplicativos web analíticos usando apenas Python. O Dash é amplamente utilizado para construir dashboards interativos e ferramentas de visualização de dados.\n",
    "\n",
    "> Personalização: Oferece uma ampla gama de opções de personalização para ajustar a aparência dos gráficos conforme necessário."
   ]
  },
  {
   "cell_type": "code",
   "execution_count": null,
   "metadata": {},
   "outputs": [],
   "source": []
  }
 ],
 "metadata": {
  "language_info": {
   "name": "python"
  }
 },
 "nbformat": 4,
 "nbformat_minor": 2
}
