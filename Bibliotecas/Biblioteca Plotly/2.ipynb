{
 "cells": [
  {
   "cell_type": "markdown",
   "metadata": {},
   "source": [
    "#restante\n",
    "\n",
    "[llink](https://medium.com/@guilhermedatt/visualiza%C3%A7%C3%A3o-de-dados-interativa-com-plotly-guia-pr%C3%A1tico-em-python-f46cef6065f2)"
   ]
  }
 ],
 "metadata": {
  "language_info": {
   "name": "python"
  }
 },
 "nbformat": 4,
 "nbformat_minor": 2
}
