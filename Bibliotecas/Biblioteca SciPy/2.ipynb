{
 "cells": [
  {
   "cell_type": "markdown",
   "id": "cff81a7b",
   "metadata": {},
   "source": [
    "### $\\color{blue}{\\text{Dados Esparsos}}$\n",
    "\n",
    "#### $\\color{red}{\\text{O que são dados esparsos?}}$\n",
    "Dados esparsos são dados que possuem principalmente elementos não utilizados (elementos que não carregam nenhuma informação).\n",
    "\n",
    "Pode ser um array como este:\n",
    "\n",
    "`[1, 0, 2, 0, 0, 3, 0, 0, 0, 0, 0, 0]`\n",
    "\n",
    ">Dados Esparsos: é um conjunto de dados onde a maioria dos valores dos itens é zero.\n",
    "\n",
    ">Dense Array: é o oposto de um array esparso, a maioria dos valores não é zero.\n",
    "\n",
    "Na computação científica, quando estamos lidando com derivadas parciais em álgebra linear, encontraremos dados esparsos.\n",
    "\n",
    "#### $\\color{red}{\\text{Como usar dados esparsos}}$\n",
    "\n",
    "O SciPy possui um módulo **scipy.sparse** que fornece funções para lidar com dados esparsos.\n",
    "\n",
    "Existem basicamente dois tipos de matrizes esparsas:\n",
    "\n",
    "- CSC: Coluna Esparsa Comprimida. Para aritmética eficiente, fatiamento de coluna rápido.\n",
    "\n",
    "- CSR: Linha Esparsa Comprimida. Para fatiamento de linha rápido, produtos vetoriais de matriz mais rápidos\n",
    "\n",
    "#### $\\color{red}{\\text{Matriz de CSR}}$\n",
    "\n",
    "Podemos criar uma matriz CSR passando um array para função **scipy.sparse.csr_matrix()**.\n",
    "\n",
    "Exemplo: (Criar uma matriz CSR a partir de uma matriz)"
   ]
  },
  {
   "cell_type": "code",
   "execution_count": 2,
   "id": "da46984f",
   "metadata": {},
   "outputs": [
    {
     "name": "stdout",
     "output_type": "stream",
     "text": [
      "  (0, 5)\t1\n",
      "  (0, 6)\t1\n",
      "  (0, 8)\t2\n"
     ]
    }
   ],
   "source": [
    "import numpy as np\n",
    "from scipy.sparse import csr_matrix\n",
    "\n",
    "arr = np.array([0, 0, 0, 0, 0, 1, 1, 0, 2])\n",
    "\n",
    "print(csr_matrix(arr))"
   ]
  },
  {
   "cell_type": "markdown",
   "id": "1373e8fd",
   "metadata": {},
   "source": [
    "A partir do resultado podemos ver que existem 3 itens com valor.\n",
    "\n",
    "O 1º item está na posição `0` da linha `5` e tem o valor `1`.\n",
    "\n",
    "O 2º item está na posição `0` da linha `6` e tem o valor `1`.\n",
    "\n",
    "O 3º item está na posição `0` da linha `8` e tem o valor `2`.\n",
    "\n",
    "\n",
    "#### $\\color{red}{\\text{Métodos de matriz esparsa}}$\n",
    "Visualizando dados armazenados (não os itens zero) com a propriedade **data**.\n",
    "\n",
    "Exemplo:"
   ]
  },
  {
   "cell_type": "code",
   "execution_count": 3,
   "id": "8b800cb0",
   "metadata": {},
   "outputs": [
    {
     "name": "stdout",
     "output_type": "stream",
     "text": [
      "[1 1 2]\n"
     ]
    }
   ],
   "source": [
    "import numpy as np\n",
    "from scipy.sparse import csr_matrix\n",
    "\n",
    "arr = np.array([[0, 0, 0], [0, 0, 1], [1, 0, 2]])\n",
    "\n",
    "print(csr_matrix(arr).data)"
   ]
  },
  {
   "cell_type": "markdown",
   "id": "24f84951",
   "metadata": {},
   "source": [
    "Contando diferentes zeros com o método **count_nonzero()**.\n",
    "\n",
    "Exemplo:"
   ]
  },
  {
   "cell_type": "code",
   "execution_count": 4,
   "id": "90d6dcba",
   "metadata": {},
   "outputs": [
    {
     "name": "stdout",
     "output_type": "stream",
     "text": [
      "3\n"
     ]
    }
   ],
   "source": [
    "import numpy as np\n",
    "from scipy.sparse import csr_matrix\n",
    "\n",
    "arr = np.array([[0, 0, 0], [0, 0, 1], [1, 0, 2]])\n",
    "\n",
    "print(csr_matrix(arr).count_nonzero())"
   ]
  },
  {
   "cell_type": "markdown",
   "id": "88981690",
   "metadata": {},
   "source": [
    "Removendo zero-entradas da matriz com o método **eliminate_zeros()**.\n",
    "\n",
    "Exemplo:"
   ]
  },
  {
   "cell_type": "code",
   "execution_count": 5,
   "id": "eb77ca1a",
   "metadata": {},
   "outputs": [
    {
     "name": "stdout",
     "output_type": "stream",
     "text": [
      "  (1, 2)\t1\n",
      "  (2, 0)\t1\n",
      "  (2, 2)\t2\n"
     ]
    }
   ],
   "source": [
    "import numpy as np\n",
    "from scipy.sparse import csr_matrix\n",
    "\n",
    "arr = np.array([[0, 0, 0], [0, 0, 1], [1, 0, 2]])\n",
    "\n",
    "mat = csr_matrix(arr)\n",
    "mat.eliminate_zeros()\n",
    "\n",
    "print(mat)"
   ]
  },
  {
   "cell_type": "markdown",
   "id": "54c4052d",
   "metadata": {},
   "source": [
    "Eliminando entradas duplicadas com o método **sum_duplicates()**.\n",
    "\n",
    "Exemplo:"
   ]
  },
  {
   "cell_type": "code",
   "execution_count": 6,
   "id": "3a0fd854",
   "metadata": {},
   "outputs": [
    {
     "name": "stdout",
     "output_type": "stream",
     "text": [
      "  (1, 2)\t1\n",
      "  (2, 0)\t1\n",
      "  (2, 2)\t2\n"
     ]
    }
   ],
   "source": [
    "import numpy as np\n",
    "from scipy.sparse import csr_matrix\n",
    "\n",
    "arr = np.array([[0, 0, 0], [0, 0, 1], [1, 0, 2]])\n",
    "\n",
    "mat = csr_matrix(arr)\n",
    "mat.sum_duplicates()\n",
    "\n",
    "print(mat)"
   ]
  },
  {
   "cell_type": "markdown",
   "id": "b5a22c7c",
   "metadata": {},
   "source": [
    "Convertendo de csr para csc com o método **tocsc()**.\n",
    "\n",
    "Exemplo:"
   ]
  },
  {
   "cell_type": "code",
   "execution_count": 7,
   "id": "2b5342a1",
   "metadata": {},
   "outputs": [
    {
     "name": "stdout",
     "output_type": "stream",
     "text": [
      "  (2, 0)\t1\n",
      "  (1, 2)\t1\n",
      "  (2, 2)\t2\n"
     ]
    }
   ],
   "source": [
    "import numpy as np\n",
    "from scipy.sparse import csr_matrix\n",
    "\n",
    "arr = np.array([[0, 0, 0], [0, 0, 1], [1, 0, 2]])\n",
    "\n",
    "newarr = csr_matrix(arr).tocsc()\n",
    "\n",
    "print(newarr)"
   ]
  },
  {
   "cell_type": "markdown",
   "id": "eab517f5",
   "metadata": {},
   "source": [
    "> Além das operações específicas esparsas mencionadas, as matrizes esparsas suportam todas as operações que as matrizes normais suportam, por exemplo, remodelação, soma, aritmética, transmissão, etc."
   ]
  },
  {
   "attachments": {
    "image.png": {
     "image/png": "[encoded data removed]"
    }
   },
   "cell_type": "markdown",
   "id": "31186ab9",
   "metadata": {},
   "source": [
    "### $\\color{blue}{\\text{Gráficos SciPy}}$\n",
    "\n",
    "#### $\\color{red}{\\text{Trabalhando com gráficos}}$\n",
    "Os gráficos são uma estrutura de dados essencial.\n",
    "\n",
    "SciPy fornece o módulo **scipy.sparse.csgraph** para trabalhar com tais estruturas de dados.\n",
    "\n",
    "#### $\\color{red}{\\text{Matriz de adjacência}}$\n",
    "\n",
    "Matriz de adjacência é uma matriz **nxn** onde **n** é o número de elementos em um gráfico.\n",
    "\n",
    "E os valores representam a conexão entre os elementos.\n",
    "\n",
    "Exemplo: ![image.png](attachment:image.png)\n",
    "\n",
    "Para um grafo como este, com os elementos A, B e C, as conexões são:\n",
    "\n",
    "A e B estão conectados com peso 1.\n",
    "\n",
    "A e C estão conectados com o peso 2.\n",
    "\n",
    "C & B não está conectado.\n",
    "\n",
    "A Matriz de Adjeção ficaria assim:\n",
    "\n",
    "\n",
    "    abc\n",
    "  \n",
    "   R:[0 1 2]  \n",
    "   \n",
    "   B:[1 0 0]\n",
    "   \n",
    "   C:[2 0 0]\n",
    "   \n",
    "   \n",
    "   >Um grafo é uma que representação abstrata de um conjunto de objetos e das relações existentes entre eles. É definido por um conjunto de nós ou vértices, e pelas ligações ou arestas, que ligam pares de nós.\n",
    "   \n",
    "#### $\\color{red}{\\text{Componentes conectados}}$\n",
    "\n",
    "É possível encontrar todos os elementos conectados usando o método **connected_components()**.\n",
    "\n",
    "Exemplo:"
   ]
  },
  {
   "cell_type": "code",
   "execution_count": 8,
   "id": "af56d1b2",
   "metadata": {},
   "outputs": [
    {
     "name": "stdout",
     "output_type": "stream",
     "text": [
      "(1, array([0, 0, 0]))\n"
     ]
    }
   ],
   "source": [
    "import numpy as np\n",
    "from scipy.sparse.csgraph import connected_components\n",
    "from scipy.sparse import csr_matrix\n",
    "\n",
    "arr = np.array([\n",
    "  [0, 1, 2],\n",
    "  [1, 0, 0],\n",
    "  [2, 0, 0]\n",
    "])\n",
    "\n",
    "newarr = csr_matrix(arr)\n",
    "\n",
    "print(connected_components(newarr))"
   ]
  },
  {
   "cell_type": "markdown",
   "id": "080a0877",
   "metadata": {},
   "source": [
    "#### $\\color{red}{\\text{Dijkstra}}$\n",
    "\n",
    "Usar o método **dijkstra** permite encontrar o caminho mais curto em um gráfico de um elemento para outro.\n",
    "\n",
    "Aceita os seguintes argumentos:\n",
    "- return_predecessors: boolean (True para retornar todo o caminho da travessia, caso contrário, False).\n",
    "- índices: índice do elemento para retornar todos os caminhos desse elemento somente.\n",
    "- limite: peso máximo do caminho.\n",
    "\n",
    "Exemplo: (Encontrar o caminho mais curto do elemento 1 ao 2)"
   ]
  },
  {
   "cell_type": "code",
   "execution_count": 9,
   "id": "0376f75f",
   "metadata": {},
   "outputs": [
    {
     "name": "stdout",
     "output_type": "stream",
     "text": [
      "(array([0., 1., 2.]), array([-9999,     0,     0]))\n"
     ]
    }
   ],
   "source": [
    "import numpy as np\n",
    "from scipy.sparse.csgraph import dijkstra\n",
    "from scipy.sparse import csr_matrix\n",
    "\n",
    "arr = np.array([\n",
    "  [0, 1, 2],\n",
    "  [1, 0, 0],\n",
    "  [2, 0, 0]\n",
    "])\n",
    "\n",
    "newarr = csr_matrix(arr)\n",
    "\n",
    "print(dijkstra(newarr, return_predecessors=True, indices=0))"
   ]
  },
  {
   "cell_type": "markdown",
   "id": "c3483709",
   "metadata": {},
   "source": [
    "#### $\\color{red}{\\text{Floyd Warshall}}$\n",
    "Use o método **floyd_warshall()** para encontrar o caminho mais curto entre todos os pares de elementos.\n",
    "\n",
    "Exemplo: (Encontrar o caminho mais curto entre todos os pares de elementos)"
   ]
  },
  {
   "cell_type": "code",
   "execution_count": 10,
   "id": "b3617331",
   "metadata": {},
   "outputs": [
    {
     "name": "stdout",
     "output_type": "stream",
     "text": [
      "(array([[0., 1., 2.],\n",
      "       [1., 0., 3.],\n",
      "       [2., 3., 0.]]), array([[-9999,     0,     0],\n",
      "       [    1, -9999,     0],\n",
      "       [    2,     0, -9999]]))\n"
     ]
    }
   ],
   "source": [
    "import numpy as np\n",
    "from scipy.sparse.csgraph import floyd_warshall\n",
    "from scipy.sparse import csr_matrix\n",
    "\n",
    "arr = np.array([\n",
    "  [0, 1, 2],\n",
    "  [1, 0, 0],\n",
    "  [2, 0, 0]\n",
    "])\n",
    "\n",
    "newarr = csr_matrix(arr)\n",
    "\n",
    "print(floyd_warshall(newarr, return_predecessors=True))"
   ]
  },
  {
   "cell_type": "markdown",
   "id": "55b51b57",
   "metadata": {},
   "source": [
    "#### $\\color{red}{\\text{Bellman Ford}}$\n",
    "O método **bellman_ford()** também pode encontrar o caminho mais curto entre todos os pares de elementos, mas também pode lidar com pesos negativos.\n",
    "\n",
    "Exemplo:(Encontrar o caminho mais curto do elemento 1 ao 2 com o gráfico fornecido com um peso negativo)"
   ]
  },
  {
   "cell_type": "code",
   "execution_count": 11,
   "id": "4a354153",
   "metadata": {},
   "outputs": [
    {
     "name": "stdout",
     "output_type": "stream",
     "text": [
      "(array([ 0., -1.,  2.]), array([-9999,     0,     0]))\n"
     ]
    }
   ],
   "source": [
    "import numpy as np\n",
    "from scipy.sparse.csgraph import bellman_ford\n",
    "from scipy.sparse import csr_matrix\n",
    "\n",
    "arr = np.array([\n",
    "  [0, -1, 2],\n",
    "  [1, 0, 0],\n",
    "  [2, 0, 0]\n",
    "])\n",
    "\n",
    "newarr = csr_matrix(arr)\n",
    "\n",
    "print(bellman_ford(newarr, return_predecessors=True, indices=0))"
   ]
  },
  {
   "cell_type": "markdown",
   "id": "fcc8c28d",
   "metadata": {},
   "source": [
    "#### $\\color{red}{\\text{Profundidade Primeira Ordem}}$\n",
    "O método **depth_first_order()** retorna uma primeira travessia de profundidade de um nó.\n",
    "\n",
    "Esta função recebe os seguintes argumentos:\n",
    "\n",
    "- O gráfico.\n",
    "- O elemento inicial para percorrer o gráfico.\n",
    "\n",
    "Exemplo: (Percorrer a profundidade do gráfico para determinada matriz de adjacência)"
   ]
  },
  {
   "cell_type": "code",
   "execution_count": 12,
   "id": "9e40d83e",
   "metadata": {},
   "outputs": [
    {
     "name": "stdout",
     "output_type": "stream",
     "text": [
      "(array([1, 0, 3, 2]), array([    1, -9999,     1,     0]))\n"
     ]
    }
   ],
   "source": [
    "import numpy as np\n",
    "from scipy.sparse.csgraph import depth_first_order\n",
    "from scipy.sparse import csr_matrix\n",
    "\n",
    "arr = np.array([\n",
    "  [0, 1, 0, 1],\n",
    "  [1, 1, 1, 1],\n",
    "  [2, 1, 1, 0],\n",
    "  [0, 1, 0, 1]\n",
    "])\n",
    "\n",
    "newarr = csr_matrix(arr)\n",
    "\n",
    "print(depth_first_order(newarr, 1))"
   ]
  },
  {
   "cell_type": "markdown",
   "id": "607769f7",
   "metadata": {},
   "source": [
    "#### $\\color{red}{\\text{Largura Primeira Ordem}}$\n",
    "O método **breadth_first_order()** retorna um primeiro percurso de largura de um nó.\n",
    "\n",
    "Esta função recebe os seguintes argumentos:\n",
    "- O gráfico.\n",
    "- O elemento inicial para percorrer o gráfico.\n",
    "\n",
    "Exemplo: (Percorrer a largura do gráfico para determinada matriz de adjacência)"
   ]
  },
  {
   "cell_type": "code",
   "execution_count": 13,
   "id": "f22144ab",
   "metadata": {},
   "outputs": [
    {
     "name": "stdout",
     "output_type": "stream",
     "text": [
      "(array([1, 0, 2, 3]), array([    1, -9999,     1,     1]))\n"
     ]
    }
   ],
   "source": [
    "import numpy as np\n",
    "from scipy.sparse.csgraph import breadth_first_order\n",
    "from scipy.sparse import csr_matrix\n",
    "\n",
    "arr = np.array([\n",
    "  [0, 1, 0, 1],\n",
    "  [1, 1, 1, 1],\n",
    "  [2, 1, 1, 0],\n",
    "  [0, 1, 0, 1]\n",
    "])\n",
    "\n",
    "newarr = csr_matrix(arr)\n",
    "\n",
    "print(breadth_first_order(newarr, 1))"
   ]
  },
  {
   "cell_type": "markdown",
   "id": "29944f85",
   "metadata": {},
   "source": [
    "<img src=\"https://c.tenor.com/uNygGB5LME8AAAAC/death-spongebob.gif\" width=300>\n",
    "\n",
    "#### Para mais específicações: \n",
    "#### [ scipy.sparse.csr_matrix](https://docs.scipy.org/doc/scipy-0.14.0/reference/generated/scipy.sparse.csr_matrix.html ) \n",
    "\n",
    "#### [Sparse matrices (scipy.sparse) ](https://docs.scipy.org/doc/scipy/reference/sparse.html) \n",
    "\n",
    "#### [scipy.sparse.csr_matrix ](https://docs.scipy.org/doc/scipy/reference/generated/scipy.sparse.csr_matrix.html ) \n",
    "\n",
    "#### [scipy.sparse.csr_matrix.sum_duplicates ](https://docs.scipy.org/doc/scipy/reference/generated/scipy.sparse.csr_matrix.sum_duplicates.html ) \n",
    "\n",
    "#### [scipy.sparse.csr_matrix.eliminate_zeros ](https://docs.scipy.org/doc/scipy-0.14.0/reference/generated/scipy.sparse.csr_matrix.eliminate_zeros.html ) \n",
    "\n",
    "#### [numpy.count_nonzero ](https://numpy.org/doc/stable/reference/generated/numpy.count_nonzero.html ) \n",
    "\n",
    "#### [scipy.sparse.csr_matrix.tocsc ](https://docs.scipy.org/doc/scipy/reference/generated/scipy.sparse.csr_matrix.tocsc.html ) \n",
    "\n",
    "#### [Compressed sparse graph routines (scipy.sparse.csgraph) ](https://docs.scipy.org/doc/scipy/reference/sparse.csgraph.html ) \n",
    "\n",
    "#### [scipy.sparse.csgraph.connected_components ](https://docs.scipy.org/doc/scipy/reference/generated/scipy.sparse.csgraph.connected_components.html ) \n",
    "\n",
    "#### [scipy.sparse.csgraph.dijkstra ](https://docs.scipy.org/doc/scipy/reference/generated/scipy.sparse.csgraph.dijkstra.html ) \n",
    "\n",
    "#### [scipy.sparse.csgraph.floyd_warshall ](https://docs.scipy.org/doc/scipy/reference/generated/scipy.sparse.csgraph.floyd_warshall.html ) \n",
    "\n",
    "#### [scipy.sparse.csgraph.bellman_ford ](https://docs.scipy.org/doc/scipy/reference/generated/scipy.sparse.csgraph.bellman_ford.html ) \n",
    "\n",
    "#### [scipy.sparse.csgraph.depth_first_order ](https://docs.scipy.org/doc/scipy/reference/generated/scipy.sparse.csgraph.depth_first_order.html ) \n",
    "\n",
    "#### [ scipy.sparse.csgraph.breadth_first_order](https://docs.scipy.org/doc/scipy/reference/generated/scipy.sparse.csgraph.breadth_first_order.html) \n"
   ]
  }
 ],
 "metadata": {
  "kernelspec": {
   "display_name": "Python 3 (ipykernel)",
   "language": "python",
   "name": "python3"
  },
  "language_info": {
   "codemirror_mode": {
    "name": "ipython",
    "version": 3
   },
   "file_extension": ".py",
   "mimetype": "text/x-python",
   "name": "python",
   "nbconvert_exporter": "python",
   "pygments_lexer": "ipython3",
   "version": "3.9.12"
  }
 },
 "nbformat": 4,
 "nbformat_minor": 5
}
