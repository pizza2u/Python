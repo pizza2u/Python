{
 "cells": [
  {
   "cell_type": "markdown",
   "id": "04f05ad5",
   "metadata": {},
   "source": [
    "O objetivo do jogo é que o jogador cuja tartaruga chega à sua casa primeiro ganha o jogo."
   ]
  },
  {
   "cell_type": "markdown",
   "id": "24f9f7ed",
   "metadata": {},
   "source": [
    "Você tem que criar as duas tartarugas que irão representar os jogadores. Cada tartaruga terá uma cor diferente, correspondendo aos diferentes jogadores. Aqui, o jogador um é verde e o jogador dois é azul: (REPRESENTADOR POR PLAYER ONE E PLAYER TWO)"
   ]
  },
  {
   "cell_type": "markdown",
   "id": "b136d797",
   "metadata": {},
   "source": []
  },
  {
   "cell_type": "code",
   "execution_count": null,
   "id": "7a6d40f7",
   "metadata": {},
   "outputs": [],
   "source": [
    "import turtle\n",
    "import random\n",
    "player_one = turtle.Turtle()\n",
    "player_one.color(\"green\")\n",
    "player_one.shape(\"turtle\")\n",
    "player_one.penup()\n",
    "player_one.goto(-200,100)\n",
    "player_two = player_one.clone()\n",
    "player_two.color(\"blue\")\n",
    "player_two.penup()\n",
    "player_two.goto(-200,-100)\n",
    "player_one.goto(300,60)\n",
    "player_one.pendown()\n",
    "player_one.circle(40)\n",
    "player_one.penup()\n",
    "player_one.goto(-200,100)\n",
    "player_two.goto(300,-140)\n",
    "player_two.pendown()\n",
    "player_two.circle(40)\n",
    "player_two.penup()\n",
    "player_two.goto(-200,-100)\n",
    "\n",
    "die = [1,2,3,4,5,6]\n",
    "\n",
    "for i in range(20):\n",
    "     if player_one.pos() >= (300,100):\n",
    "             print(\"Player One Wins!\")\n",
    "             break\n",
    "     elif player_two.pos() >= (300,-100):\n",
    "             print(\"Player Two Wins!\")\n",
    "             break\n",
    "     else:\n",
    "             player_one_turn = input(\"Press 'Enter' to roll the die \")\n",
    "             die_outcome = random.choice(die)\n",
    "             print(\"The result of the die roll is: \")\n",
    "             print(die_outcome)\n",
    "             print(\"The number of steps will be: \")\n",
    "             print(20*die_outcome)\n",
    "             player_one.fd(20*die_outcome)\n",
    "             player_two_turn = input(\"Press 'Enter' to roll the die \")\n",
    "             die_outcome = random.choice(die)\n",
    "             print(\"The result of the die roll is: \")\n",
    "             print(die_outcome)\n",
    "             print(\"The number of steps will be: \")\n",
    "             print(20*die_outcome)\n",
    "             player_two.fd(20*die_outcome)"
   ]
  }
 ],
 "metadata": {
  "kernelspec": {
   "display_name": "Python 3 (ipykernel)",
   "language": "python",
   "name": "python3"
  },
  "language_info": {
   "codemirror_mode": {
    "name": "ipython",
    "version": 3
   },
   "file_extension": ".py",
   "mimetype": "text/x-python",
   "name": "python",
   "nbconvert_exporter": "python",
   "pygments_lexer": "ipython3",
   "version": "3.9.12"
  }
 },
 "nbformat": 4,
 "nbformat_minor": 5
}
