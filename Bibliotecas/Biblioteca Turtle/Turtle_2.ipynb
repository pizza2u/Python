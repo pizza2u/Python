{
 "cells": [
  {
   "cell_type": "markdown",
   "id": "f0fd41c2",
   "metadata": {},
   "source": [
    "### $\\color{red}{\\text{Desenhando Formas}}$"
   ]
  },
  {
   "cell_type": "markdown",
   "id": "f96a741a",
   "metadata": {},
   "source": [
    "É possível começar desenhando polígonos, uma vez que todos eles consistem em linhas retas conectadas em determinados ângulos."
   ]
  },
  {
   "cell_type": "markdown",
   "id": "ede728b9",
   "metadata": {},
   "source": [
    "##### Exemplo 1 ( Fazendo um quadrado )"
   ]
  },
  {
   "cell_type": "code",
   "execution_count": null,
   "id": "276370f4",
   "metadata": {},
   "outputs": [],
   "source": [
    "import turtle\n",
    "t.fd(100)\n",
    "t.rt(90)\n",
    "t.fd(100)\n",
    "t.rt(90)\n",
    "t.fd(100)\n",
    "t.rt(90)\n",
    "t.fd(100)"
   ]
  },
  {
   "cell_type": "markdown",
   "id": "03ee6680",
   "metadata": {},
   "source": [
    "Suponha que você queira desenhar um círculo. Se você tentar desenhá-lo da mesma maneira que desenhou o quadrado, seria extremamente tedioso e você teria que gastar muito tempo apenas para essa forma. Felizmente, a biblioteca turtle oferece uma solução para isso."
   ]
  },
  {
   "cell_type": "code",
   "execution_count": null,
   "id": "448dd4f9",
   "metadata": {},
   "outputs": [],
   "source": [
    "t.circle(60)"
   ]
  },
  {
   "cell_type": "markdown",
   "id": "36e83fee",
   "metadata": {},
   "source": [
    "O número entre parênteses é o raio do círculo. Você pode aumentar ou diminuir o tamanho do círculo alterando o valor de seu raio.\n",
    "Da mesma forma, você também pode desenhar um ponto, que nada mais é do que um círculo preenchido."
   ]
  },
  {
   "cell_type": "code",
   "execution_count": null,
   "id": "1283b7a7",
   "metadata": {},
   "outputs": [],
   "source": [
    "t.dot(20)"
   ]
  },
  {
   "cell_type": "markdown",
   "id": "d30047e4",
   "metadata": {},
   "source": [
    "O número entre parênteses é o diâmetro do ponto. Assim como no círculo, você pode aumentar ou diminuir o tamanho do ponto alterando o valor de seu diâmetro."
   ]
  },
  {
   "cell_type": "markdown",
   "id": "3d7ebca0",
   "metadata": {},
   "source": [
    "### $\\color{red}{\\text{Mudando a cor de tela}}$"
   ]
  },
  {
   "cell_type": "markdown",
   "id": "51a28909",
   "metadata": {},
   "source": [
    "Por padrão,a turtle sempre abre uma tela com fundo branco. No entanto, você pode alterar a cor da tela a qualquer momento usando:"
   ]
  },
  {
   "cell_type": "code",
   "execution_count": null,
   "id": "7002c041",
   "metadata": {},
   "outputs": [],
   "source": [
    "turtle.bgcolor(\"blue\")"
   ]
  },
  {
   "cell_type": "markdown",
   "id": "87c1009a",
   "metadata": {},
   "source": [
    "Você pode usar um espectro de cores para sua tela apenas digitando o número do código hexadecimal. Para saber mais, basta [clicar aqui](https://docs.python.org/3/library/turtle.html#turtle.color)"
   ]
  },
  {
   "cell_type": "markdown",
   "id": "05f51e97",
   "metadata": {},
   "source": [
    "### $\\color{red}{\\text{Mudando o título da tela}}$"
   ]
  },
  {
   "cell_type": "markdown",
   "id": "172e8af0",
   "metadata": {},
   "source": [
    "Às vezes, você pode querer alterar o título da tela. Para isso, utiliza-se a função a seguir:"
   ]
  },
  {
   "cell_type": "code",
   "execution_count": 4,
   "id": "f95c9ea8",
   "metadata": {},
   "outputs": [],
   "source": [
    "turtle.title(\"Seu texto\")"
   ]
  },
  {
   "cell_type": "markdown",
   "id": "7b74fcab",
   "metadata": {},
   "source": [
    "### $\\color{red}{\\text{Mudando o tamanho da turtle}}$"
   ]
  },
  {
   "cell_type": "markdown",
   "id": "f426dd5b",
   "metadata": {},
   "source": [
    "Você pode aumentar ou diminuir o tamanho da tartaruga na tela para torná-la maior ou menor. Isso altera apenas o tamanho da forma sem afetar a saída da caneta conforme ela desenha na tela. Por exemplo:"
   ]
  },
  {
   "cell_type": "code",
   "execution_count": null,
   "id": "4c31c06e",
   "metadata": {},
   "outputs": [],
   "source": [
    "t.shapesize(1,5,10)\n",
    "t.shapesize(10,5,1)\n",
    "t.shapesize(1,10,5)\n",
    "t.shapesize(10,1,5)"
   ]
  },
  {
   "cell_type": "markdown",
   "id": "2ee03746",
   "metadata": {},
   "source": [
    "Os números fornecidos são os parâmetros para o tamanho da turtle:\n",
    "\n",
    "- Comprimento do trecho\n",
    "- Largura do alongamento\n",
    "- Largura do contorno\n",
    "\n",
    "Você pode alterá-los de acordo com sua preferência.Para mais informações acessar a [documentação da turtle](https://docs.python.org/3/library/turtle.html#turtle.turtlesize)"
   ]
  },
  {
   "cell_type": "markdown",
   "id": "90891889",
   "metadata": {},
   "source": [
    "### $\\color{red}{\\text{Mudando o tamanho da caneta}}$"
   ]
  },
  {
   "cell_type": "markdown",
   "id": "0b4676d5",
   "metadata": {},
   "source": [
    "O comando anterior alterou apenas o tamanho da forma da tartaruga. No entanto, às vezes, pode ser necessário aumentar ou diminuir a espessura da caneta. \n",
    "É possível fazer isso da seguinte forma:"
   ]
  },
  {
   "cell_type": "code",
   "execution_count": null,
   "id": "69925dc1",
   "metadata": {},
   "outputs": [],
   "source": [
    "t.pensize(5)\n",
    "t.forward(100)"
   ]
  },
  {
   "cell_type": "markdown",
   "id": "7fc39f97",
   "metadata": {},
   "source": [
    "No exemplo acima, o tamanho da sua caneta agora é cinco vezes o tamanho original (que era um)."
   ]
  },
  {
   "cell_type": "markdown",
   "id": "d6fb20b3",
   "metadata": {},
   "source": [
    "### $\\color{red}{\\text{Mudando a cor da turtle e da caneta}}$"
   ]
  },
  {
   "cell_type": "markdown",
   "id": "44952e22",
   "metadata": {},
   "source": [
    "Quando você abre uma nova tela, a tartaruga começa como uma figura preta e desenha com tinta preta. Com base em seus requisitos, você pode fazer duas coisas:\n",
    "\n",
    "- Alterar a cor da tartaruga: Isso altera a cor de preenchimento.\n",
    "- Alterar a cor da caneta: Isso altera o contorno ou a cor da tinta.\n",
    "\n",
    "Você pode até escolher os dois. Mas antes de mudar as cores, aumente o tamanho da sua tartaruga para ajudá-lo a ver a diferença de cor mais claramente."
   ]
  },
  {
   "cell_type": "code",
   "execution_count": null,
   "id": "d46ddb73",
   "metadata": {},
   "outputs": [],
   "source": [
    "t.shapesize(3,3,3)"
   ]
  },
  {
   "cell_type": "markdown",
   "id": "035c6c41",
   "metadata": {},
   "source": [
    "Para mudar a cor da tartaruga (ou o preenchimento):"
   ]
  },
  {
   "cell_type": "code",
   "execution_count": null,
   "id": "ee25b980",
   "metadata": {},
   "outputs": [],
   "source": [
    "t.fillcolor(\"red\")"
   ]
  },
  {
   "cell_type": "markdown",
   "id": "dcd59311",
   "metadata": {},
   "source": [
    "Para alterar a cor da caneta (ou do contorno):"
   ]
  },
  {
   "cell_type": "code",
   "execution_count": null,
   "id": "3acb76f1",
   "metadata": {},
   "outputs": [],
   "source": [
    "t.pencolor(\"yellow\")"
   ]
  },
  {
   "cell_type": "markdown",
   "id": "da6cec45",
   "metadata": {},
   "source": [
    "Para alterar a cor de ambos:"
   ]
  },
  {
   "cell_type": "code",
   "execution_count": null,
   "id": "15dbe03b",
   "metadata": {},
   "outputs": [],
   "source": [
    "t.color(\"green\", \"red\")"
   ]
  },
  {
   "cell_type": "markdown",
   "id": "62199300",
   "metadata": {},
   "source": [
    "A primeira cor é para a caneta e a segunda é para o preenchimento. "
   ]
  },
  {
   "cell_type": "markdown",
   "id": "acf922e7",
   "metadata": {},
   "source": [
    "### $\\color{red}{\\text{Personalizando em uma linha}}$"
   ]
  },
  {
   "cell_type": "markdown",
   "id": "e6216663",
   "metadata": {},
   "source": [
    "Supondo que você queira definir as características de sua tartaruga para o seguinte:\n",
    "\n",
    "- Cor da caneta: vermelho\n",
    "- Cor de preenchimento: azul\n",
    "- Tamanho da caneta: 10\n",
    "- Velocidade da caneta: 9\n",
    "\n",
    "Logo seu código deve conter:\n"
   ]
  },
  {
   "cell_type": "code",
   "execution_count": null,
   "id": "7b13f0fa",
   "metadata": {},
   "outputs": [],
   "source": [
    "t.pen(pencolor=\"red\", fillcolor=\"blue\", pensize=10, speed=9)\n",
    "t.begin_fill()\n",
    "t.circle(90)\n",
    "t.end_fill()"
   ]
  },
  {
   "cell_type": "markdown",
   "id": "7b872844",
   "metadata": {},
   "source": [
    "Essa única linha de código alterou a caneta inteira, sem que você tivesse que alterar cada característica individualmente. Para saber mais sobre, abra a [documentação](https://docs.python.org/3/library/turtle.html#turtle.pen)"
   ]
  },
  {
   "cell_type": "markdown",
   "id": "d4ba1197",
   "metadata": {},
   "source": [
    "### $\\color{red}{\\text{Movendo a caneta para cima e para baixo}}$"
   ]
  },
  {
   "cell_type": "markdown",
   "id": "35c1d927",
   "metadata": {},
   "source": [
    "Às vezes, você pode querer mover sua tartaruga para outro ponto na tela sem desenhar nada na própria tela. Para fazer isso, você usa **.penup()**. Então, quando você quiser começar a desenhar novamente, use **.pendown()**."
   ]
  },
  {
   "cell_type": "code",
   "execution_count": null,
   "id": "8b32b37a",
   "metadata": {},
   "outputs": [],
   "source": [
    "t.fd(100)\n",
    "t.rt(90)\n",
    "t.penup()\n",
    "t.fd(100)\n",
    "t.rt(90)\n",
    "t.pendown()\n",
    "t.fd(100)\n",
    "t.rt(90)\n",
    "t.penup()\n",
    "t.fd(100)\n",
    "t.pendown()"
   ]
  },
  {
   "cell_type": "markdown",
   "id": "b2013973",
   "metadata": {},
   "source": [
    "### $\\color{red}{\\text{Desfazendo alterações}}$"
   ]
  },
  {
   "cell_type": "markdown",
   "id": "ad6082db",
   "metadata": {},
   "source": [
    "Sempre há a possibilidade de cometer um erro. A biblioteca turtle oferece a opção de desfazer o que você fez."
   ]
  },
  {
   "cell_type": "code",
   "execution_count": null,
   "id": "3bea244c",
   "metadata": {},
   "outputs": [],
   "source": [
    "t.undo()"
   ]
  },
  {
   "cell_type": "markdown",
   "id": "ecd574df",
   "metadata": {},
   "source": [
    "### $\\color{red}{\\text{Limpando tela}}$"
   ]
  },
  {
   "cell_type": "markdown",
   "id": "f15ab111",
   "metadata": {},
   "source": [
    "Simples, rápido e direto"
   ]
  },
  {
   "cell_type": "code",
   "execution_count": null,
   "id": "2f5973c7",
   "metadata": {},
   "outputs": [],
   "source": [
    "t.clear()"
   ]
  },
  {
   "cell_type": "markdown",
   "id": "51dd7935",
   "metadata": {},
   "source": [
    "### $\\color{red}{\\text{Redefinindo o ambiente}}$"
   ]
  },
  {
   "cell_type": "markdown",
   "id": "82346250",
   "metadata": {},
   "source": [
    "Há a opção de iniciar do zero com um comando de redefinição. A tela será limpa e as configurações da tartaruga serão todas restauradas para seus parâmetros padrão."
   ]
  },
  {
   "cell_type": "code",
   "execution_count": null,
   "id": "807ad68b",
   "metadata": {},
   "outputs": [],
   "source": [
    "t.reset()"
   ]
  },
  {
   "cell_type": "markdown",
   "id": "a9c35859",
   "metadata": {},
   "source": [
    "### $\\color{red}{\\text{Carimbo}}$"
   ]
  },
  {
   "cell_type": "markdown",
   "id": "02733eef",
   "metadata": {},
   "source": [
    "Tem a opção de deixar um carimbo de sua turtle na tela, que nada mais é do que uma impressão da turtle. "
   ]
  },
  {
   "cell_type": "code",
   "execution_count": null,
   "id": "ad7f20a9",
   "metadata": {},
   "outputs": [],
   "source": [
    "t.stamp()\n",
    "t.fd(100)\n",
    "t.stamp()\n",
    "t.fd(100)"
   ]
  },
  {
   "cell_type": "markdown",
   "id": "19d54c66",
   "metadata": {},
   "source": [
    "Os números que aparecem são a localização da tartaruga ou o ID do carimbo. Mas, se você deseja remover um carimbo específico, usa-se:"
   ]
  },
  {
   "cell_type": "code",
   "execution_count": null,
   "id": "3896d9f9",
   "metadata": {},
   "outputs": [],
   "source": [
    "t.clearstamp(8)"
   ]
  },
  {
   "cell_type": "markdown",
   "id": "5aa7b108",
   "metadata": {},
   "source": [
    "Isso limpará aquele com o ID de carimbo de 8."
   ]
  },
  {
   "cell_type": "markdown",
   "id": "b3c01555",
   "metadata": {},
   "source": [
    "### $\\color{red}{\\text{Clonar sua tartaruga}}$"
   ]
  },
  {
   "cell_type": "markdown",
   "id": "54f17880",
   "metadata": {},
   "source": [
    "Às vezes, você pode precisar ter mais de uma turtle na tela. Você verá um exemplo disso mais tarde no projeto final. Por enquanto, você pode obter outra turtle clonando sua turtle atual em seu ambiente. "
   ]
  },
  {
   "cell_type": "code",
   "execution_count": null,
   "id": "e9d7df7c",
   "metadata": {},
   "outputs": [],
   "source": [
    "c = t.clone()\n",
    "t.color(\"magenta\")\n",
    "c.color(\"red\")\n",
    "t.circle(100)\n",
    "c.circle(60)"
   ]
  }
 ],
 "metadata": {
  "kernelspec": {
   "display_name": "Python 3 (ipykernel)",
   "language": "python",
   "name": "python3"
  },
  "language_info": {
   "codemirror_mode": {
    "name": "ipython",
    "version": 3
   },
   "file_extension": ".py",
   "mimetype": "text/x-python",
   "name": "python",
   "nbconvert_exporter": "python",
   "pygments_lexer": "ipython3",
   "version": "3.9.12"
  }
 },
 "nbformat": 4,
 "nbformat_minor": 5
}
