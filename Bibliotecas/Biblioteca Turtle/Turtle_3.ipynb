{
 "cells": [
  {
   "cell_type": "markdown",
   "id": "e6a7cbb7",
   "metadata": {},
   "source": [
    "## $\\color{blue}{\\text{Loops e condições}}$"
   ]
  },
  {
   "cell_type": "markdown",
   "id": "c3c1d332",
   "metadata": {},
   "source": [
    "- Loops são um conjunto de instruções que são continuamente repetidas até que uma determinada condição seja satisfeita.\n",
    "- As instruções condicionais realizam uma determinada tarefa com base em uma condição que é satisfeita.\n",
    "- Os recuos são usados para definir blocos de código, especialmente ao usar loops e instruções condicionais. Em geral, você cria um recuo tocando na tecla Tab do teclado."
   ]
  },
  {
   "cell_type": "markdown",
   "id": "df6bb587",
   "metadata": {},
   "source": [
    "### $\\color{red}{\\text{For}}$"
   ]
  },
  {
   "cell_type": "code",
   "execution_count": null,
   "id": "ac1a268b",
   "metadata": {},
   "outputs": [],
   "source": [
    "for i in range(4):\n",
    "    t.fd(100)\n",
    "    t.rt(90)"
   ]
  },
  {
   "cell_type": "markdown",
   "id": "c2338dd3",
   "metadata": {},
   "source": [
    "O **i** é como um contador que começa em zero e continua aumentando em 1. Quando você diz **in range(4)**, você está dizendo ao programa que o valor de **i** deve ser menor que 4. Ele terminará o programa antes **i** de atingir 4."
   ]
  },
  {
   "cell_type": "markdown",
   "id": "d859a233",
   "metadata": {},
   "source": [
    "Detalhamento:\n",
    "- Em i = 0, a tartaruga avança 100 unidades e então gira 90 graus para a direita.\n",
    "- Em i = 0 + 1 = 1, a tartaruga avança 100 unidades e então gira 90 graus para a direita.\n",
    "- Em i = 1 + 1 = 2, a tartaruga avança 100 unidades e então gira 90 graus para a direita.\n",
    "- Em i = 2 + 1 = 3, a tartaruga avança 100 unidades e então gira 90 graus para a direita."
   ]
  },
  {
   "cell_type": "markdown",
   "id": "1218c164",
   "metadata": {},
   "source": [
    "$\\color{orange}{\\text{Importante:}}$ O récuo é extremamente necessário para seu código rodar sem erros. "
   ]
  },
  {
   "cell_type": "markdown",
   "id": "78ca7b0a",
   "metadata": {},
   "source": [
    "### $\\color{red}{\\text{While}}$"
   ]
  },
  {
   "cell_type": "markdown",
   "id": "44fee3ad",
   "metadata": {},
   "source": [
    "O **while loop** é usado para executar uma determinada tarefa enquanto uma condição ainda está satisfeita. Se a condição não for mais satisfeita, seu código encerrará o processo.  "
   ]
  },
  {
   "cell_type": "code",
   "execution_count": null,
   "id": "1f263dbc",
   "metadata": {},
   "outputs": [],
   "source": [
    "k=10\n",
    "while k <= 40:\n",
    "    t.circle(k)\n",
    "    k = k+10"
   ]
  },
  {
   "cell_type": "markdown",
   "id": "eb1f5fa6",
   "metadata": {},
   "source": [
    "Nesse código, os círculos aparecendo um após o outro, e cada novo círculo serão maiores que o anterior.\n",
    "Aqui, **k** é usado como um contador. Você precisará especificar quanto deseja que o valor de naumente em cada loop. \n",
    "Detalhamento:\n",
    "- Em n = 10, a tartaruga desenha um círculo com um raio de 10 unidades. Depois disso, o valor de né aumentado em 10.\n",
    "- Em n = 20, a tartaruga desenha um círculo com raio de 20 unidades. Mais uma vez, o valor de né aumentado em 10.\n",
    "- Em n = 30, a tartaruga desenha um círculo com raio de 30 unidades. Pela terceira vez, o valor de né aumentado em 10.\n",
    "- Em n = 40, a tartaruga desenha um círculo com raio de 40 unidades. Pela última vez, o valor de né aumentado em 10.\n",
    "- Em n = 50, n não é menor ou igual a 40. O loop é encerrado.\n",
    "\n"
   ]
  },
  {
   "cell_type": "markdown",
   "id": "30559051",
   "metadata": {},
   "source": [
    "### $\\color{red}{\\text{If}}$"
   ]
  },
  {
   "cell_type": "markdown",
   "id": "ea40ed16",
   "metadata": {},
   "source": [
    "Você usa instruções condicionais (If's, Elif's, Else's) para verificar se uma determinada condição é verdadeira. Se for, então o comando correspondente é executado. "
   ]
  },
  {
   "cell_type": "code",
   "execution_count": null,
   "id": "fc59c0dd",
   "metadata": {},
   "outputs": [],
   "source": [
    "res = input(\"Quer desenhar um círculo? Digite S ou N:\\n \")\n",
    "if res == \"S\":\n",
    "    t.circle(50)\n",
    "elif res == \"N\":\n",
    "    print(\"Certo\")\n",
    "else:\n",
    "    print(\"Resposta invalida\")"
   ]
  },
  {
   "cell_type": "markdown",
   "id": "e02530a8",
   "metadata": {},
   "source": [
    "- Se você digitar \"S\", o código processará a entrada e desenhará um círculo, conforme suas instruções.\n",
    "- Se você digitar \"N\", o código será impresso \"Certo\"e seu programa será encerrado.\n",
    "- Se você digitar qualquer outra coisa, como \"boy\", o código será impresso \"Resposta invalida\"e seu programa será encerrado."
   ]
  }
 ],
 "metadata": {
  "kernelspec": {
   "display_name": "Python 3 (ipykernel)",
   "language": "python",
   "name": "python3"
  },
  "language_info": {
   "codemirror_mode": {
    "name": "ipython",
    "version": 3
   },
   "file_extension": ".py",
   "mimetype": "text/x-python",
   "name": "python",
   "nbconvert_exporter": "python",
   "pygments_lexer": "ipython3",
   "version": "3.9.12"
  }
 },
 "nbformat": 4,
 "nbformat_minor": 5
}
