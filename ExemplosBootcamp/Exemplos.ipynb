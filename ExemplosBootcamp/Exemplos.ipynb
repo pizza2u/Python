{
  "nbformat": 4,
  "nbformat_minor": 0,
  "metadata": {
    "colab": {
      "provenance": []
    },
    "kernelspec": {
      "name": "python3",
      "display_name": "Python 3"
    },
    "language_info": {
      "name": "python"
    }
  },
  "cells": [
    {
      "cell_type": "markdown",
      "source": [
        "DESAFIO 1\n",
        "\n",
        "Crie um programa que solicita ao usuário que insira três notas (valores de 0 a 10) e, em seguida, calcule e exiba a média dessas notas.\n",
        "\n",
        "Além disso, informe ao usuário se ele foi aprovado ou reprovado com base na média das notas, considerando a média mínima de aprovação como 6."
      ],
      "metadata": {
        "id": "sdBUCCdzeef3"
      }
    },
    {
      "cell_type": "code",
      "source": [
        "nota1 = float(input(\"Digite a primeira nota: \"))\n",
        "nota2 = float(input(\"Digite a segunda nota: \"))\n",
        "nota3 = float(input(\"Digite a terceira nota: \"))\n",
        "\n",
        "if (nota1 < 0 or nota1 > 10) or (nota2 < 0 or nota2 > 10) or  (nota3 < 0 or nota3 > 10):\n",
        "      print(\"Todas as notas devem estar entre 0 e 10.\")\n",
        "\n",
        "\n",
        "media = (nota1 + nota2 + nota3) / 3\n",
        "\n",
        "print(f\"A média das notas é: {media:.1f}\")\n",
        "\n",
        "if media >= 6:\n",
        "    print(\"Você foi aprovado!\")\n",
        "else:\n",
        "     print(\"Você foi reprovado.\")\n"
      ],
      "metadata": {
        "id": "j16D0tJ4evJ-",
        "colab": {
          "base_uri": "https://localhost:8080/"
        },
        "outputId": "45aa61b4-23d6-4788-f89c-efac7d8c4f78"
      },
      "execution_count": null,
      "outputs": [
        {
          "output_type": "stream",
          "name": "stdout",
          "text": [
            "Digite a primeira nota: 4\n",
            "Digite a segunda nota: 6\n",
            "Digite a terceira nota: 10\n",
            "A média das notas é: 6.7\n",
            "Você foi aprovado!\n"
          ]
        }
      ]
    },
    {
      "cell_type": "markdown",
      "source": [
        "DESAFIO 2\n",
        "\n",
        "Crie um programa que solicita ao usuário que insira um número inteiro e, em seguida, verifica se o número é par ou ímpar.\n",
        "\n",
        "O programa deve exibir uma mensagem indicando se o número é par ou ímpar."
      ],
      "metadata": {
        "id": "ClKDF5t4gEyu"
      }
    },
    {
      "cell_type": "code",
      "source": [
        "numero = int(input(\"Digite um número inteiro: \"))\n",
        "if numero % 2 == 0:\n",
        "    print(f\"O número {numero} é par\")\n",
        "else:\n",
        "    print(f\"O número {numero} é ímpar\")"
      ],
      "metadata": {
        "id": "GWkFk92kfuiO",
        "colab": {
          "base_uri": "https://localhost:8080/"
        },
        "outputId": "a5a5bf5c-336f-4246-f1bf-a169acce94e0"
      },
      "execution_count": null,
      "outputs": [
        {
          "output_type": "stream",
          "name": "stdout",
          "text": [
            "Digite um número inteiro: 7\n",
            "O número 7 é ímpar.\n"
          ]
        }
      ]
    },
    {
      "cell_type": "markdown",
      "source": [
        "DESAFIO 3\n",
        "\n",
        "Crie um programa que verifica se uma palavra fornecida pelo usuário é um palíndromo ou não.\n",
        "\n",
        "(Um palíndromo é uma palavra que é lida da mesma forma tanto da esquerda para a direita quanto da direita para a esquerda.)"
      ],
      "metadata": {
        "id": "MmsZIAj-e0NX"
      }
    },
    {
      "cell_type": "code",
      "source": [
        "def verificar_palindromo():\n",
        "    palavra = input(\"Digite uma palavra: \")\n",
        "    palavra = palavra.lower()\n",
        "    palavra = palavra.replace(\" \", \"\")\n",
        "\n",
        "    if palavra == palavra[::-1]:\n",
        "        print(f\"A palavra '{palavra}' é um palíndromo.\")\n",
        "    else:\n",
        "        print(f\"A palavra '{palavra}' não é um palíndromo.\")\n",
        "\n",
        "verificar_palindromo()\n"
      ],
      "metadata": {
        "id": "PobFqQqafLNj",
        "colab": {
          "base_uri": "https://localhost:8080/"
        },
        "outputId": "44066e33-1eaf-4de5-86ce-b69dc23bbbfe"
      },
      "execution_count": null,
      "outputs": [
        {
          "output_type": "stream",
          "name": "stdout",
          "text": [
            "Digite uma palavra: bola\n",
            "A palavra 'bola' não é um palíndromo.\n"
          ]
        }
      ]
    },
    {
      "cell_type": "markdown",
      "source": [
        "DESAFIO 4\n",
        "\n",
        "Crie um programa que solicita ao usuário que insira um número inteiro positivo e, em seguida, calcula e exibe o fatorial desse número.\n",
        "\n",
        "(O fatorial de um número é o produto de todos os números inteiros positivos de 1 até o próprio número.)"
      ],
      "metadata": {
        "id": "9WPRqUfIgLQK"
      }
    },
    {
      "cell_type": "code",
      "source": [
        "def calcular_fatorial():\n",
        "    numero = int(input(\"Digite um número inteiro positivo: \"))\n",
        "    fatorial = 1\n",
        "    sequencia = []\n",
        "    for i in range(numero, 0, -1):\n",
        "        fatorial *= i\n",
        "        sequencia.append(str(i))\n",
        "    sequencia_str = '*'.join(sequencia)\n",
        "    print(f\"O fatorial de {numero} é {fatorial} ({sequencia_str})\")\n",
        "calcular_fatorial()\n"
      ],
      "metadata": {
        "colab": {
          "base_uri": "https://localhost:8080/"
        },
        "id": "ML-1T3_N0w0g",
        "outputId": "ff88030a-7845-4f49-83b6-740e31d10479"
      },
      "execution_count": null,
      "outputs": [
        {
          "output_type": "stream",
          "name": "stdout",
          "text": [
            "Digite um número inteiro positivo: 5\n",
            "O fatorial de 5 é 120 (5*4*3*2*1)\n"
          ]
        }
      ]
    },
    {
      "cell_type": "markdown",
      "source": [
        "DESAFIO 5\n",
        "\n",
        "Crie um programa que permita ao usuário gerenciar suas tarefas diárias. O programa deve oferecer as seguintes funcionalidades:\n",
        "\n",
        "*   Adicionar uma nova tarefa;\n",
        "*   Visualizar todas as tarefas;\n",
        "*   Marcar uma tarefa como concluída;\n",
        "*   Remover uma tarefa;\n",
        "*   Sair do programa.\n",
        "\n",
        "(Você pode implementar essas funcionalidades usando listas para armazenar as tarefas e estruturas de controle como loops e condicionais para interagir com o usuário.)"
      ],
      "metadata": {
        "id": "dLmeFEi2fO9f"
      }
    },
    {
      "cell_type": "code",
      "source": [
        "from tqdm import tqdm\n",
        "import time\n",
        "\n",
        "def mostrar_menu():\n",
        "    print(\"\\nMenu:\")\n",
        "    print(\"1. Adicionar uma nova tarefa\")\n",
        "    print(\"2. Visualizar todas as tarefas\")\n",
        "    print(\"3. Marcar uma tarefa como concluída\")\n",
        "    print(\"4. Remover uma tarefa\")\n",
        "    print(\"5. Sair do programa\")\n",
        "\n",
        "def adicionar_tarefa(tarefas):\n",
        "    tarefa = input(\"Digite a descrição da nova tarefa: \")\n",
        "    tarefas.append({\"descricao\": tarefa, \"concluida\": False})\n",
        "    print(\"Tarefa adicionada com sucesso!\")\n",
        "\n",
        "def visualizar_tarefas(tarefas):\n",
        "    if not tarefas:\n",
        "        print(\"Nenhuma tarefa adicionada.\")\n",
        "        return\n",
        "    for idx, tarefa in enumerate(tarefas, 1):\n",
        "        status = \"Concluída\" if tarefa[\"concluida\"] else \"Pendente\"\n",
        "        print(f\"{idx}. {tarefa['descricao']} - {status}\")\n",
        "\n",
        "def marcar_concluida(tarefas):\n",
        "    visualizar_tarefas(tarefas)\n",
        "    if not tarefas:\n",
        "        return\n",
        "    numero = int(input(\"Digite o número da tarefa que deseja marcar como concluída: \"))\n",
        "    if 1 <= numero <= len(tarefas):\n",
        "        tarefas[numero - 1][\"concluida\"] = True\n",
        "        print(\"Tarefa marcada como concluída!\")\n",
        "    else:\n",
        "        print(\"Número inválido.\")\n",
        "\n",
        "def remover_tarefa(tarefas):\n",
        "    visualizar_tarefas(tarefas)\n",
        "    if not tarefas:\n",
        "        return\n",
        "    numero = int(input(\"Digite o número da tarefa que deseja remover: \"))\n",
        "    if 1 <= numero <= len(tarefas):\n",
        "        tarefas.pop(numero - 1)\n",
        "        print(\"Tarefa removida com sucesso!\")\n",
        "    else:\n",
        "        print(\"Número inválido.\")\n",
        "\n",
        "def main():\n",
        "    tarefas = []\n",
        "    while True:\n",
        "        mostrar_menu()\n",
        "        opcao = input(\"Escolha uma opção: \")\n",
        "        if opcao == \"1\":\n",
        "            adicionar_tarefa(tarefas)\n",
        "        elif opcao == \"2\":\n",
        "            visualizar_tarefas(tarefas)\n",
        "        elif opcao == \"3\":\n",
        "            marcar_concluida(tarefas)\n",
        "        elif opcao == \"4\":\n",
        "            remover_tarefa(tarefas)\n",
        "        elif opcao == \"5\":\n",
        "            for i in tqdm(range(10), desc=\"Carregando\"):\n",
        "                time.sleep(0.05)\n",
        "            print(\"\\nSaindo do programa!\")\n",
        "            break\n",
        "        else:\n",
        "            print(\"Opção inválida. Tente novamente.\")\n",
        "\n",
        "main()"
      ],
      "metadata": {
        "id": "8oExqSgagGzn",
        "colab": {
          "base_uri": "https://localhost:8080/"
        },
        "outputId": "2c47221f-435a-46af-c080-907587fe6c98"
      },
      "execution_count": 6,
      "outputs": [
        {
          "name": "stdout",
          "output_type": "stream",
          "text": [
            "\n",
            "Menu:\n",
            "1. Adicionar uma nova tarefa\n",
            "2. Visualizar todas as tarefas\n",
            "3. Marcar uma tarefa como concluída\n",
            "4. Remover uma tarefa\n",
            "5. Sair do programa\n",
            "Escolha uma opção: 1\n",
            "Digite a descrição da nova tarefa: estudar excel\n",
            "Tarefa adicionada com sucesso!\n",
            "\n",
            "Menu:\n",
            "1. Adicionar uma nova tarefa\n",
            "2. Visualizar todas as tarefas\n",
            "3. Marcar uma tarefa como concluída\n",
            "4. Remover uma tarefa\n",
            "5. Sair do programa\n",
            "Escolha uma opção: 1\n",
            "Digite a descrição da nova tarefa: estudar python\n",
            "Tarefa adicionada com sucesso!\n",
            "\n",
            "Menu:\n",
            "1. Adicionar uma nova tarefa\n",
            "2. Visualizar todas as tarefas\n",
            "3. Marcar uma tarefa como concluída\n",
            "4. Remover uma tarefa\n",
            "5. Sair do programa\n",
            "Escolha uma opção: 3\n",
            "1. estudar excel - Pendente\n",
            "2. estudar python - Pendente\n",
            "Digite o número da tarefa que deseja marcar como concluída: 2\n",
            "Tarefa marcada como concluída!\n",
            "\n",
            "Menu:\n",
            "1. Adicionar uma nova tarefa\n",
            "2. Visualizar todas as tarefas\n",
            "3. Marcar uma tarefa como concluída\n",
            "4. Remover uma tarefa\n",
            "5. Sair do programa\n",
            "Escolha uma opção: 5\n"
          ]
        },
        {
          "output_type": "stream",
          "name": "stderr",
          "text": [
            "Carregando: 100%|██████████| 10/10 [00:00<00:00, 19.64it/s]"
          ]
        },
        {
          "output_type": "stream",
          "name": "stdout",
          "text": [
            "\n",
            "Saindo do programa!\n"
          ]
        },
        {
          "output_type": "stream",
          "name": "stderr",
          "text": [
            "\n"
          ]
        }
      ]
    }
  ]
}